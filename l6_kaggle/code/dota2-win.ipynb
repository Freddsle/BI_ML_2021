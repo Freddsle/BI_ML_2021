{
 "cells": [
  {
   "cell_type": "markdown",
   "metadata": {
    "papermill": {
     "duration": 0.036237,
     "end_time": "2022-02-13T23:12:16.653396",
     "exception": false,
     "start_time": "2022-02-13T23:12:16.617159",
     "status": "completed"
    },
    "tags": []
   },
   "source": [
    "# <center> Предсказание победителя в Dota 2\n",
    "<center> <img src=\"https://meduza.io/impro/YnJZAHUW6WHz_JQm1uRPkTql_qAhbfxt3oFJLGH7CJg/fill/980/0/ce/1/aHR0cHM6Ly9tZWR1/emEuaW8vaW1hZ2Uv/YXR0YWNobWVudHMv/aW1hZ2VzLzAwNy8x/NTcvNjk1L29yaWdp/bmFsL0tMVThLbUti/ZG5pSzlibDA0Wmlw/WXcuanBn.webp\" width=\"700\" height=\"700\">"
   ]
  },
  {
   "cell_type": "markdown",
   "metadata": {
    "papermill": {
     "duration": 0.034411,
     "end_time": "2022-02-13T23:12:16.723175",
     "exception": false,
     "start_time": "2022-02-13T23:12:16.688764",
     "status": "completed"
    },
    "tags": []
   },
   "source": [
    "[Почитать подбробнее](https://meduza.io/feature/2021/10/19/rossiyskaya-komanda-vyigrala-chempionat-mira-po-dota-2-i-poluchila-18-millionov-dollarov-postoyte-otkuda-takie-dengi-neuzheli-igrat-v-dotu-tak-slozhno)"
   ]
  },
  {
   "cell_type": "markdown",
   "metadata": {
    "papermill": {
     "duration": 0.043877,
     "end_time": "2022-02-13T23:12:16.809506",
     "exception": false,
     "start_time": "2022-02-13T23:12:16.765629",
     "status": "completed"
    },
    "tags": []
   },
   "source": [
    "#### [Оригинальная статья](https://arxiv.org/pdf/2106.01782.pdf)\n",
    "    \n",
    "### Начало\n",
    "\n",
    "Посмотрим на готовые признаки и сделаем первую посылку. \n",
    "\n",
    "1. [Описание данных](#Описание-данных)\n",
    "2. [Описание признаков](#Описание-признаков)\n",
    "3. [Наша первая модель](#Наша-первая-модель)\n",
    "4. [Посылка](#Посылка)\n",
    "\n",
    "### Первые шаги на пути в датасайенс\n",
    "\n",
    "5. [Кросс-валидация](#Кросс-валидация)\n",
    "6. [Что есть в json файлах?](#Что-есть-в-json-файлах?)\n",
    "7. [Feature engineering](#Feature-engineering)"
   ]
  },
  {
   "cell_type": "markdown",
   "metadata": {
    "papermill": {
     "duration": 0.034281,
     "end_time": "2022-02-13T23:12:16.883754",
     "exception": false,
     "start_time": "2022-02-13T23:12:16.849473",
     "status": "completed"
    },
    "tags": []
   },
   "source": [
    "### Импорты"
   ]
  },
  {
   "cell_type": "code",
   "execution_count": 4,
   "metadata": {
    "execution": {
     "iopub.execute_input": "2022-02-13T23:12:16.957141Z",
     "iopub.status.busy": "2022-02-13T23:12:16.956004Z",
     "iopub.status.idle": "2022-02-13T23:12:18.348152Z",
     "shell.execute_reply": "2022-02-13T23:12:18.347483Z",
     "shell.execute_reply.started": "2022-02-13T22:54:24.5044Z"
    },
    "papermill": {
     "duration": 1.430171,
     "end_time": "2022-02-13T23:12:18.348353",
     "exception": false,
     "start_time": "2022-02-13T23:12:16.918182",
     "status": "completed"
    },
    "tags": []
   },
   "outputs": [],
   "source": [
    "import os\n",
    "import json\n",
    "import pandas as pd\n",
    "import datetime\n",
    "import warnings\n",
    "import seaborn as sns\n",
    "import matplotlib.pyplot as plt\n",
    "import numpy as np\n",
    "\n",
    "import ujson\n",
    "import tqdm\n",
    "\n",
    "from sklearn.model_selection import train_test_split, ShuffleSplit, cross_val_score\n",
    "from sklearn.ensemble import RandomForestClassifier\n",
    "from sklearn.metrics import roc_auc_score, accuracy_score\n",
    "\n",
    "%matplotlib inline"
   ]
  },
  {
   "cell_type": "code",
   "execution_count": 5,
   "metadata": {
    "execution": {
     "iopub.execute_input": "2022-02-13T23:12:18.425717Z",
     "iopub.status.busy": "2022-02-13T23:12:18.424682Z",
     "iopub.status.idle": "2022-02-13T23:12:18.42684Z",
     "shell.execute_reply": "2022-02-13T23:12:18.427336Z",
     "shell.execute_reply.started": "2022-02-13T22:54:27.968328Z"
    },
    "papermill": {
     "duration": 0.042869,
     "end_time": "2022-02-13T23:12:18.427502",
     "exception": false,
     "start_time": "2022-02-13T23:12:18.384633",
     "status": "completed"
    },
    "tags": []
   },
   "outputs": [],
   "source": [
    "SEED = 10801\n",
    "sns.set_style(style=\"whitegrid\")\n",
    "plt.rcParams[\"figure.figsize\"] = 12, 8\n",
    "warnings.filterwarnings(\"ignore\")"
   ]
  },
  {
   "cell_type": "markdown",
   "metadata": {
    "papermill": {
     "duration": 0.034932,
     "end_time": "2022-02-13T23:12:18.496885",
     "exception": false,
     "start_time": "2022-02-13T23:12:18.461953",
     "status": "completed"
    },
    "tags": []
   },
   "source": [
    "## <left>Описание данных\n",
    "\n",
    "Файлы:\n",
    "\n",
    "- `sample_submission.csv`: пример файла-посылки\n",
    "- `train_raw_data.jsonl`, `test_raw_data.jsonl`: \"сырые\" данные \n",
    "- `train_data.csv`, `test_data.csv`: признаки, созданные авторами\n",
    "- `train_targets.csv`: результаты тренировочных игр"
   ]
  },
  {
   "cell_type": "markdown",
   "metadata": {
    "papermill": {
     "duration": 0.034346,
     "end_time": "2022-02-13T23:12:18.565919",
     "exception": false,
     "start_time": "2022-02-13T23:12:18.531573",
     "status": "completed"
    },
    "tags": []
   },
   "source": [
    "## <left>Описание признаков\n",
    "    \n",
    "Набор простых признаков, описывающих игроков и команды в целом"
   ]
  },
  {
   "cell_type": "code",
   "execution_count": 6,
   "metadata": {
    "execution": {
     "iopub.execute_input": "2022-02-13T23:12:18.639904Z",
     "iopub.status.busy": "2022-02-13T23:12:18.638908Z",
     "iopub.status.idle": "2022-02-13T23:12:19.90973Z",
     "shell.execute_reply": "2022-02-13T23:12:19.910247Z",
     "shell.execute_reply.started": "2022-02-13T22:54:30.336618Z"
    },
    "papermill": {
     "duration": 1.309296,
     "end_time": "2022-02-13T23:12:19.910434",
     "exception": false,
     "start_time": "2022-02-13T23:12:18.601138",
     "status": "completed"
    },
    "tags": []
   },
   "outputs": [],
   "source": [
    "PATH_TO_DATA = \"../data/\"\n",
    "\n",
    "df_train_features = pd.read_csv(os.path.join(PATH_TO_DATA, \n",
    "                                             \"train_data.csv\"), \n",
    "                                    index_col=\"match_id_hash\")\n",
    "df_train_targets = pd.read_csv(os.path.join(PATH_TO_DATA, \n",
    "                                            \"train_targets.csv\"), \n",
    "                                   index_col=\"match_id_hash\")"
   ]
  },
  {
   "cell_type": "code",
   "execution_count": 7,
   "metadata": {
    "execution": {
     "iopub.execute_input": "2022-02-13T23:12:19.983605Z",
     "iopub.status.busy": "2022-02-13T23:12:19.98296Z",
     "iopub.status.idle": "2022-02-13T23:12:19.990391Z",
     "shell.execute_reply": "2022-02-13T23:12:19.990938Z",
     "shell.execute_reply.started": "2022-02-13T22:54:33.105218Z"
    },
    "papermill": {
     "duration": 0.045278,
     "end_time": "2022-02-13T23:12:19.991115",
     "exception": false,
     "start_time": "2022-02-13T23:12:19.945837",
     "status": "completed"
    },
    "tags": []
   },
   "outputs": [
    {
     "data": {
      "text/plain": [
       "(31698, 245)"
      ]
     },
     "execution_count": 7,
     "metadata": {},
     "output_type": "execute_result"
    }
   ],
   "source": [
    "df_train_features.shape"
   ]
  },
  {
   "cell_type": "code",
   "execution_count": 8,
   "metadata": {
    "execution": {
     "iopub.execute_input": "2022-02-13T23:12:20.067908Z",
     "iopub.status.busy": "2022-02-13T23:12:20.067237Z",
     "iopub.status.idle": "2022-02-13T23:12:20.092038Z",
     "shell.execute_reply": "2022-02-13T23:12:20.092529Z",
     "shell.execute_reply.started": "2022-02-13T22:54:34.150651Z"
    },
    "papermill": {
     "duration": 0.065603,
     "end_time": "2022-02-13T23:12:20.092716",
     "exception": false,
     "start_time": "2022-02-13T23:12:20.027113",
     "status": "completed"
    },
    "tags": []
   },
   "outputs": [
    {
     "data": {
      "text/html": [
       "<div>\n",
       "<style scoped>\n",
       "    .dataframe tbody tr th:only-of-type {\n",
       "        vertical-align: middle;\n",
       "    }\n",
       "\n",
       "    .dataframe tbody tr th {\n",
       "        vertical-align: top;\n",
       "    }\n",
       "\n",
       "    .dataframe thead th {\n",
       "        text-align: right;\n",
       "    }\n",
       "</style>\n",
       "<table border=\"1\" class=\"dataframe\">\n",
       "  <thead>\n",
       "    <tr style=\"text-align: right;\">\n",
       "      <th></th>\n",
       "      <th>game_time</th>\n",
       "      <th>game_mode</th>\n",
       "      <th>lobby_type</th>\n",
       "      <th>objectives_len</th>\n",
       "      <th>chat_len</th>\n",
       "      <th>r1_hero_id</th>\n",
       "      <th>r1_kills</th>\n",
       "      <th>r1_deaths</th>\n",
       "      <th>r1_assists</th>\n",
       "      <th>r1_denies</th>\n",
       "      <th>...</th>\n",
       "      <th>d5_stuns</th>\n",
       "      <th>d5_creeps_stacked</th>\n",
       "      <th>d5_camps_stacked</th>\n",
       "      <th>d5_rune_pickups</th>\n",
       "      <th>d5_firstblood_claimed</th>\n",
       "      <th>d5_teamfight_participation</th>\n",
       "      <th>d5_towers_killed</th>\n",
       "      <th>d5_roshans_killed</th>\n",
       "      <th>d5_obs_placed</th>\n",
       "      <th>d5_sen_placed</th>\n",
       "    </tr>\n",
       "    <tr>\n",
       "      <th>match_id_hash</th>\n",
       "      <th></th>\n",
       "      <th></th>\n",
       "      <th></th>\n",
       "      <th></th>\n",
       "      <th></th>\n",
       "      <th></th>\n",
       "      <th></th>\n",
       "      <th></th>\n",
       "      <th></th>\n",
       "      <th></th>\n",
       "      <th></th>\n",
       "      <th></th>\n",
       "      <th></th>\n",
       "      <th></th>\n",
       "      <th></th>\n",
       "      <th></th>\n",
       "      <th></th>\n",
       "      <th></th>\n",
       "      <th></th>\n",
       "      <th></th>\n",
       "      <th></th>\n",
       "    </tr>\n",
       "  </thead>\n",
       "  <tbody>\n",
       "    <tr>\n",
       "      <th>b9c57c450ce74a2af79c9ce96fac144d</th>\n",
       "      <td>658</td>\n",
       "      <td>4</td>\n",
       "      <td>0</td>\n",
       "      <td>3</td>\n",
       "      <td>10</td>\n",
       "      <td>15</td>\n",
       "      <td>7</td>\n",
       "      <td>2</td>\n",
       "      <td>0</td>\n",
       "      <td>7</td>\n",
       "      <td>...</td>\n",
       "      <td>0.000000</td>\n",
       "      <td>0</td>\n",
       "      <td>0</td>\n",
       "      <td>0</td>\n",
       "      <td>0</td>\n",
       "      <td>0.00</td>\n",
       "      <td>0</td>\n",
       "      <td>0</td>\n",
       "      <td>0</td>\n",
       "      <td>0</td>\n",
       "    </tr>\n",
       "    <tr>\n",
       "      <th>6db558535151ea18ca70a6892197db41</th>\n",
       "      <td>21</td>\n",
       "      <td>23</td>\n",
       "      <td>0</td>\n",
       "      <td>0</td>\n",
       "      <td>0</td>\n",
       "      <td>101</td>\n",
       "      <td>0</td>\n",
       "      <td>0</td>\n",
       "      <td>0</td>\n",
       "      <td>0</td>\n",
       "      <td>...</td>\n",
       "      <td>0.000000</td>\n",
       "      <td>0</td>\n",
       "      <td>0</td>\n",
       "      <td>0</td>\n",
       "      <td>0</td>\n",
       "      <td>0.00</td>\n",
       "      <td>0</td>\n",
       "      <td>0</td>\n",
       "      <td>0</td>\n",
       "      <td>0</td>\n",
       "    </tr>\n",
       "    <tr>\n",
       "      <th>19c39fe2af2b547e48708ca005c6ae74</th>\n",
       "      <td>160</td>\n",
       "      <td>22</td>\n",
       "      <td>7</td>\n",
       "      <td>0</td>\n",
       "      <td>0</td>\n",
       "      <td>57</td>\n",
       "      <td>0</td>\n",
       "      <td>0</td>\n",
       "      <td>0</td>\n",
       "      <td>1</td>\n",
       "      <td>...</td>\n",
       "      <td>0.000000</td>\n",
       "      <td>0</td>\n",
       "      <td>0</td>\n",
       "      <td>0</td>\n",
       "      <td>0</td>\n",
       "      <td>0.00</td>\n",
       "      <td>0</td>\n",
       "      <td>0</td>\n",
       "      <td>0</td>\n",
       "      <td>0</td>\n",
       "    </tr>\n",
       "    <tr>\n",
       "      <th>c96d629dc0c39f0c616d1949938a6ba6</th>\n",
       "      <td>1016</td>\n",
       "      <td>22</td>\n",
       "      <td>0</td>\n",
       "      <td>1</td>\n",
       "      <td>0</td>\n",
       "      <td>119</td>\n",
       "      <td>0</td>\n",
       "      <td>3</td>\n",
       "      <td>3</td>\n",
       "      <td>5</td>\n",
       "      <td>...</td>\n",
       "      <td>8.264696</td>\n",
       "      <td>0</td>\n",
       "      <td>0</td>\n",
       "      <td>3</td>\n",
       "      <td>0</td>\n",
       "      <td>0.25</td>\n",
       "      <td>0</td>\n",
       "      <td>0</td>\n",
       "      <td>3</td>\n",
       "      <td>0</td>\n",
       "    </tr>\n",
       "    <tr>\n",
       "      <th>156c88bff4e9c4668b0f53df3d870f1b</th>\n",
       "      <td>582</td>\n",
       "      <td>22</td>\n",
       "      <td>7</td>\n",
       "      <td>2</td>\n",
       "      <td>2</td>\n",
       "      <td>12</td>\n",
       "      <td>3</td>\n",
       "      <td>1</td>\n",
       "      <td>2</td>\n",
       "      <td>9</td>\n",
       "      <td>...</td>\n",
       "      <td>15.762911</td>\n",
       "      <td>3</td>\n",
       "      <td>1</td>\n",
       "      <td>0</td>\n",
       "      <td>1</td>\n",
       "      <td>0.50</td>\n",
       "      <td>0</td>\n",
       "      <td>0</td>\n",
       "      <td>3</td>\n",
       "      <td>0</td>\n",
       "    </tr>\n",
       "  </tbody>\n",
       "</table>\n",
       "<p>5 rows × 245 columns</p>\n",
       "</div>"
      ],
      "text/plain": [
       "                                  game_time  game_mode  lobby_type  \\\n",
       "match_id_hash                                                        \n",
       "b9c57c450ce74a2af79c9ce96fac144d        658          4           0   \n",
       "6db558535151ea18ca70a6892197db41         21         23           0   \n",
       "19c39fe2af2b547e48708ca005c6ae74        160         22           7   \n",
       "c96d629dc0c39f0c616d1949938a6ba6       1016         22           0   \n",
       "156c88bff4e9c4668b0f53df3d870f1b        582         22           7   \n",
       "\n",
       "                                  objectives_len  chat_len  r1_hero_id  \\\n",
       "match_id_hash                                                            \n",
       "b9c57c450ce74a2af79c9ce96fac144d               3        10          15   \n",
       "6db558535151ea18ca70a6892197db41               0         0         101   \n",
       "19c39fe2af2b547e48708ca005c6ae74               0         0          57   \n",
       "c96d629dc0c39f0c616d1949938a6ba6               1         0         119   \n",
       "156c88bff4e9c4668b0f53df3d870f1b               2         2          12   \n",
       "\n",
       "                                  r1_kills  r1_deaths  r1_assists  r1_denies  \\\n",
       "match_id_hash                                                                  \n",
       "b9c57c450ce74a2af79c9ce96fac144d         7          2           0          7   \n",
       "6db558535151ea18ca70a6892197db41         0          0           0          0   \n",
       "19c39fe2af2b547e48708ca005c6ae74         0          0           0          1   \n",
       "c96d629dc0c39f0c616d1949938a6ba6         0          3           3          5   \n",
       "156c88bff4e9c4668b0f53df3d870f1b         3          1           2          9   \n",
       "\n",
       "                                  ...   d5_stuns  d5_creeps_stacked  \\\n",
       "match_id_hash                     ...                                 \n",
       "b9c57c450ce74a2af79c9ce96fac144d  ...   0.000000                  0   \n",
       "6db558535151ea18ca70a6892197db41  ...   0.000000                  0   \n",
       "19c39fe2af2b547e48708ca005c6ae74  ...   0.000000                  0   \n",
       "c96d629dc0c39f0c616d1949938a6ba6  ...   8.264696                  0   \n",
       "156c88bff4e9c4668b0f53df3d870f1b  ...  15.762911                  3   \n",
       "\n",
       "                                  d5_camps_stacked  d5_rune_pickups  \\\n",
       "match_id_hash                                                         \n",
       "b9c57c450ce74a2af79c9ce96fac144d                 0                0   \n",
       "6db558535151ea18ca70a6892197db41                 0                0   \n",
       "19c39fe2af2b547e48708ca005c6ae74                 0                0   \n",
       "c96d629dc0c39f0c616d1949938a6ba6                 0                3   \n",
       "156c88bff4e9c4668b0f53df3d870f1b                 1                0   \n",
       "\n",
       "                                  d5_firstblood_claimed  \\\n",
       "match_id_hash                                             \n",
       "b9c57c450ce74a2af79c9ce96fac144d                      0   \n",
       "6db558535151ea18ca70a6892197db41                      0   \n",
       "19c39fe2af2b547e48708ca005c6ae74                      0   \n",
       "c96d629dc0c39f0c616d1949938a6ba6                      0   \n",
       "156c88bff4e9c4668b0f53df3d870f1b                      1   \n",
       "\n",
       "                                  d5_teamfight_participation  \\\n",
       "match_id_hash                                                  \n",
       "b9c57c450ce74a2af79c9ce96fac144d                        0.00   \n",
       "6db558535151ea18ca70a6892197db41                        0.00   \n",
       "19c39fe2af2b547e48708ca005c6ae74                        0.00   \n",
       "c96d629dc0c39f0c616d1949938a6ba6                        0.25   \n",
       "156c88bff4e9c4668b0f53df3d870f1b                        0.50   \n",
       "\n",
       "                                  d5_towers_killed  d5_roshans_killed  \\\n",
       "match_id_hash                                                           \n",
       "b9c57c450ce74a2af79c9ce96fac144d                 0                  0   \n",
       "6db558535151ea18ca70a6892197db41                 0                  0   \n",
       "19c39fe2af2b547e48708ca005c6ae74                 0                  0   \n",
       "c96d629dc0c39f0c616d1949938a6ba6                 0                  0   \n",
       "156c88bff4e9c4668b0f53df3d870f1b                 0                  0   \n",
       "\n",
       "                                  d5_obs_placed  d5_sen_placed  \n",
       "match_id_hash                                                   \n",
       "b9c57c450ce74a2af79c9ce96fac144d              0              0  \n",
       "6db558535151ea18ca70a6892197db41              0              0  \n",
       "19c39fe2af2b547e48708ca005c6ae74              0              0  \n",
       "c96d629dc0c39f0c616d1949938a6ba6              3              0  \n",
       "156c88bff4e9c4668b0f53df3d870f1b              3              0  \n",
       "\n",
       "[5 rows x 245 columns]"
      ]
     },
     "execution_count": 8,
     "metadata": {},
     "output_type": "execute_result"
    }
   ],
   "source": [
    "df_train_features.head()"
   ]
  },
  {
   "cell_type": "markdown",
   "metadata": {
    "papermill": {
     "duration": 0.037227,
     "end_time": "2022-02-13T23:12:20.167",
     "exception": false,
     "start_time": "2022-02-13T23:12:20.129773",
     "status": "completed"
    },
    "tags": []
   },
   "source": [
    "Имеем ~32 тысячи наблюдений, каждое из которых характеризуется уникальным `match_id_hash` (захэшированное id матча), и 245 признаков. `game_time` показывает момент времени, в который получены эти данные. То есть по сути это не длительность самого матча, а например, его середина, таким образом, в итоге мы сможем получить модель, которая будет предсказывать вероятность победы каждой из команд в течение матча (хорошо подходит для букмекеров)."
   ]
  },
  {
   "cell_type": "markdown",
   "metadata": {
    "papermill": {
     "duration": 0.037139,
     "end_time": "2022-02-13T23:12:20.240639",
     "exception": false,
     "start_time": "2022-02-13T23:12:20.2035",
     "status": "completed"
    },
    "tags": []
   },
   "source": [
    "Нас интересует поле `radiant_win` (так называется одна из команд, вторая - dire). Остальные колоки здесь по сути получены из \"будущего\" и есть только для тренировочных данных, поэтому на них можно просто посмотреть)."
   ]
  },
  {
   "cell_type": "code",
   "execution_count": 9,
   "metadata": {
    "execution": {
     "iopub.execute_input": "2022-02-13T23:12:20.316784Z",
     "iopub.status.busy": "2022-02-13T23:12:20.316092Z",
     "iopub.status.idle": "2022-02-13T23:12:20.326908Z",
     "shell.execute_reply": "2022-02-13T23:12:20.326377Z",
     "shell.execute_reply.started": "2022-02-13T22:54:36.171466Z"
    },
    "papermill": {
     "duration": 0.049678,
     "end_time": "2022-02-13T23:12:20.327042",
     "exception": false,
     "start_time": "2022-02-13T23:12:20.277364",
     "status": "completed"
    },
    "tags": []
   },
   "outputs": [
    {
     "data": {
      "text/html": [
       "<div>\n",
       "<style scoped>\n",
       "    .dataframe tbody tr th:only-of-type {\n",
       "        vertical-align: middle;\n",
       "    }\n",
       "\n",
       "    .dataframe tbody tr th {\n",
       "        vertical-align: top;\n",
       "    }\n",
       "\n",
       "    .dataframe thead th {\n",
       "        text-align: right;\n",
       "    }\n",
       "</style>\n",
       "<table border=\"1\" class=\"dataframe\">\n",
       "  <thead>\n",
       "    <tr style=\"text-align: right;\">\n",
       "      <th></th>\n",
       "      <th>game_time</th>\n",
       "      <th>radiant_win</th>\n",
       "      <th>duration</th>\n",
       "      <th>time_remaining</th>\n",
       "      <th>next_roshan_team</th>\n",
       "    </tr>\n",
       "    <tr>\n",
       "      <th>match_id_hash</th>\n",
       "      <th></th>\n",
       "      <th></th>\n",
       "      <th></th>\n",
       "      <th></th>\n",
       "      <th></th>\n",
       "    </tr>\n",
       "  </thead>\n",
       "  <tbody>\n",
       "    <tr>\n",
       "      <th>b9c57c450ce74a2af79c9ce96fac144d</th>\n",
       "      <td>658</td>\n",
       "      <td>True</td>\n",
       "      <td>1154</td>\n",
       "      <td>496</td>\n",
       "      <td>NaN</td>\n",
       "    </tr>\n",
       "    <tr>\n",
       "      <th>6db558535151ea18ca70a6892197db41</th>\n",
       "      <td>21</td>\n",
       "      <td>True</td>\n",
       "      <td>1503</td>\n",
       "      <td>1482</td>\n",
       "      <td>Radiant</td>\n",
       "    </tr>\n",
       "    <tr>\n",
       "      <th>19c39fe2af2b547e48708ca005c6ae74</th>\n",
       "      <td>160</td>\n",
       "      <td>False</td>\n",
       "      <td>2063</td>\n",
       "      <td>1903</td>\n",
       "      <td>NaN</td>\n",
       "    </tr>\n",
       "    <tr>\n",
       "      <th>c96d629dc0c39f0c616d1949938a6ba6</th>\n",
       "      <td>1016</td>\n",
       "      <td>True</td>\n",
       "      <td>2147</td>\n",
       "      <td>1131</td>\n",
       "      <td>Radiant</td>\n",
       "    </tr>\n",
       "    <tr>\n",
       "      <th>156c88bff4e9c4668b0f53df3d870f1b</th>\n",
       "      <td>582</td>\n",
       "      <td>False</td>\n",
       "      <td>1927</td>\n",
       "      <td>1345</td>\n",
       "      <td>Dire</td>\n",
       "    </tr>\n",
       "  </tbody>\n",
       "</table>\n",
       "</div>"
      ],
      "text/plain": [
       "                                  game_time  radiant_win  duration  \\\n",
       "match_id_hash                                                        \n",
       "b9c57c450ce74a2af79c9ce96fac144d        658         True      1154   \n",
       "6db558535151ea18ca70a6892197db41         21         True      1503   \n",
       "19c39fe2af2b547e48708ca005c6ae74        160        False      2063   \n",
       "c96d629dc0c39f0c616d1949938a6ba6       1016         True      2147   \n",
       "156c88bff4e9c4668b0f53df3d870f1b        582        False      1927   \n",
       "\n",
       "                                  time_remaining next_roshan_team  \n",
       "match_id_hash                                                      \n",
       "b9c57c450ce74a2af79c9ce96fac144d             496              NaN  \n",
       "6db558535151ea18ca70a6892197db41            1482          Radiant  \n",
       "19c39fe2af2b547e48708ca005c6ae74            1903              NaN  \n",
       "c96d629dc0c39f0c616d1949938a6ba6            1131          Radiant  \n",
       "156c88bff4e9c4668b0f53df3d870f1b            1345             Dire  "
      ]
     },
     "execution_count": 9,
     "metadata": {},
     "output_type": "execute_result"
    }
   ],
   "source": [
    "df_train_targets.head()"
   ]
  },
  {
   "cell_type": "code",
   "execution_count": 37,
   "metadata": {},
   "outputs": [
    {
     "data": {
      "text/plain": [
       "(array([0, 1], dtype=int8), array([15028, 16670]))"
      ]
     },
     "execution_count": 37,
     "metadata": {},
     "output_type": "execute_result"
    }
   ],
   "source": [
    "np.unique(y, return_counts=True)"
   ]
  },
  {
   "cell_type": "markdown",
   "metadata": {
    "papermill": {
     "duration": 0.036013,
     "end_time": "2022-02-13T23:12:20.399533",
     "exception": false,
     "start_time": "2022-02-13T23:12:20.36352",
     "status": "completed"
    },
    "tags": []
   },
   "source": [
    "## <left>Наша первая модель"
   ]
  },
  {
   "cell_type": "code",
   "execution_count": 10,
   "metadata": {
    "execution": {
     "iopub.execute_input": "2022-02-13T23:12:20.476156Z",
     "iopub.status.busy": "2022-02-13T23:12:20.475498Z",
     "iopub.status.idle": "2022-02-13T23:12:20.504532Z",
     "shell.execute_reply": "2022-02-13T23:12:20.505141Z",
     "shell.execute_reply.started": "2022-02-13T22:54:39.221703Z"
    },
    "papermill": {
     "duration": 0.069566,
     "end_time": "2022-02-13T23:12:20.505342",
     "exception": false,
     "start_time": "2022-02-13T23:12:20.435776",
     "status": "completed"
    },
    "tags": []
   },
   "outputs": [],
   "source": [
    "X = df_train_features.values\n",
    "y = df_train_targets[\"radiant_win\"].values.astype(\"int8\")"
   ]
  },
  {
   "cell_type": "code",
   "execution_count": 11,
   "metadata": {
    "execution": {
     "iopub.execute_input": "2022-02-13T23:12:20.581534Z",
     "iopub.status.busy": "2022-02-13T23:12:20.580886Z",
     "iopub.status.idle": "2022-02-13T23:12:20.676297Z",
     "shell.execute_reply": "2022-02-13T23:12:20.67692Z",
     "shell.execute_reply.started": "2022-02-13T22:54:39.486872Z"
    },
    "papermill": {
     "duration": 0.135291,
     "end_time": "2022-02-13T23:12:20.677101",
     "exception": false,
     "start_time": "2022-02-13T23:12:20.54181",
     "status": "completed"
    },
    "tags": []
   },
   "outputs": [],
   "source": [
    "X_train, X_valid, y_train, y_valid = train_test_split(X, y, \n",
    "                                                      test_size=0.3, \n",
    "                                                      random_state=SEED)"
   ]
  },
  {
   "cell_type": "markdown",
   "metadata": {
    "papermill": {
     "duration": 0.035934,
     "end_time": "2022-02-13T23:12:20.749995",
     "exception": false,
     "start_time": "2022-02-13T23:12:20.714061",
     "status": "completed"
    },
    "tags": []
   },
   "source": [
    "#### Обучим случайный лес"
   ]
  },
  {
   "cell_type": "code",
   "execution_count": 12,
   "metadata": {
    "execution": {
     "iopub.execute_input": "2022-02-13T23:12:20.826125Z",
     "iopub.status.busy": "2022-02-13T23:12:20.825488Z",
     "iopub.status.idle": "2022-02-13T23:12:30.132769Z",
     "shell.execute_reply": "2022-02-13T23:12:30.133531Z",
     "shell.execute_reply.started": "2022-02-13T22:55:21.167897Z"
    },
    "papermill": {
     "duration": 9.347015,
     "end_time": "2022-02-13T23:12:30.133763",
     "exception": false,
     "start_time": "2022-02-13T23:12:20.786748",
     "status": "completed"
    },
    "tags": []
   },
   "outputs": [
    {
     "name": "stdout",
     "output_type": "stream",
     "text": [
      "CPU times: user 49.2 s, sys: 90.6 ms, total: 49.2 s\n",
      "Wall time: 6.8 s\n"
     ]
    },
    {
     "data": {
      "text/plain": [
       "RandomForestClassifier(max_depth=7, n_estimators=300, n_jobs=-1,\n",
       "                       random_state=10801)"
      ]
     },
     "execution_count": 12,
     "metadata": {},
     "output_type": "execute_result"
    }
   ],
   "source": [
    "%%time\n",
    "rf_model = RandomForestClassifier(n_estimators=300, max_depth=7, n_jobs=-1, random_state=SEED)\n",
    "rf_model.fit(X_train, y_train)"
   ]
  },
  {
   "cell_type": "markdown",
   "metadata": {
    "papermill": {
     "duration": 0.041856,
     "end_time": "2022-02-13T23:12:30.212928",
     "exception": false,
     "start_time": "2022-02-13T23:12:30.171072",
     "status": "completed"
    },
    "tags": []
   },
   "source": [
    "#### Сделаем предсказания и оценим качество на отложенной части данных"
   ]
  },
  {
   "cell_type": "code",
   "execution_count": 13,
   "metadata": {
    "execution": {
     "iopub.execute_input": "2022-02-13T23:12:30.293275Z",
     "iopub.status.busy": "2022-02-13T23:12:30.292562Z",
     "iopub.status.idle": "2022-02-13T23:12:30.604347Z",
     "shell.execute_reply": "2022-02-13T23:12:30.60373Z",
     "shell.execute_reply.started": "2022-02-13T22:55:33.749369Z"
    },
    "papermill": {
     "duration": 0.353253,
     "end_time": "2022-02-13T23:12:30.604516",
     "exception": false,
     "start_time": "2022-02-13T23:12:30.251263",
     "status": "completed"
    },
    "tags": []
   },
   "outputs": [],
   "source": [
    "y_pred = rf_model.predict_proba(X_valid)[:, 1]"
   ]
  },
  {
   "cell_type": "code",
   "execution_count": 14,
   "metadata": {
    "execution": {
     "iopub.execute_input": "2022-02-13T23:12:30.685551Z",
     "iopub.status.busy": "2022-02-13T23:12:30.684486Z",
     "iopub.status.idle": "2022-02-13T23:12:30.694865Z",
     "shell.execute_reply": "2022-02-13T23:12:30.694172Z",
     "shell.execute_reply.started": "2022-02-13T22:55:34.515933Z"
    },
    "papermill": {
     "duration": 0.053288,
     "end_time": "2022-02-13T23:12:30.695003",
     "exception": false,
     "start_time": "2022-02-13T23:12:30.641715",
     "status": "completed"
    },
    "tags": []
   },
   "outputs": [
    {
     "name": "stdout",
     "output_type": "stream",
     "text": [
      "ROC-AUC score на отложенной части: 0.7754387258058622\n"
     ]
    }
   ],
   "source": [
    "valid_score = roc_auc_score(y_valid, y_pred)\n",
    "print(\"ROC-AUC score на отложенной части:\", valid_score)"
   ]
  },
  {
   "cell_type": "markdown",
   "metadata": {
    "papermill": {
     "duration": 0.037253,
     "end_time": "2022-02-13T23:12:30.770017",
     "exception": false,
     "start_time": "2022-02-13T23:12:30.732764",
     "status": "completed"
    },
    "tags": []
   },
   "source": [
    "Посмотрим на accuracy:"
   ]
  },
  {
   "cell_type": "code",
   "execution_count": 15,
   "metadata": {
    "execution": {
     "iopub.execute_input": "2022-02-13T23:12:30.851561Z",
     "iopub.status.busy": "2022-02-13T23:12:30.85051Z",
     "iopub.status.idle": "2022-02-13T23:12:30.857343Z",
     "shell.execute_reply": "2022-02-13T23:12:30.856784Z",
     "shell.execute_reply.started": "2022-02-13T22:55:46.570239Z"
    },
    "papermill": {
     "duration": 0.049802,
     "end_time": "2022-02-13T23:12:30.85748",
     "exception": false,
     "start_time": "2022-02-13T23:12:30.807678",
     "status": "completed"
    },
    "tags": []
   },
   "outputs": [
    {
     "name": "stdout",
     "output_type": "stream",
     "text": [
      "Accuracy score (p > 0.5) на отложенной части: 0.6885383806519453\n"
     ]
    }
   ],
   "source": [
    "valid_accuracy = accuracy_score(y_valid, y_pred > 0.5)\n",
    "print(\"Accuracy score (p > 0.5) на отложенной части:\", valid_accuracy)"
   ]
  },
  {
   "cell_type": "markdown",
   "metadata": {
    "papermill": {
     "duration": 0.037715,
     "end_time": "2022-02-13T23:12:30.932941",
     "exception": false,
     "start_time": "2022-02-13T23:12:30.895226",
     "status": "completed"
    },
    "tags": []
   },
   "source": [
    "## <left>Посылка"
   ]
  },
  {
   "cell_type": "code",
   "execution_count": 16,
   "metadata": {
    "execution": {
     "iopub.execute_input": "2022-02-13T23:12:31.016356Z",
     "iopub.status.busy": "2022-02-13T23:12:31.015669Z",
     "iopub.status.idle": "2022-02-13T23:12:31.531306Z",
     "shell.execute_reply": "2022-02-13T23:12:31.531863Z",
     "shell.execute_reply.started": "2022-02-13T22:55:54.636469Z"
    },
    "papermill": {
     "duration": 0.561329,
     "end_time": "2022-02-13T23:12:31.532046",
     "exception": false,
     "start_time": "2022-02-13T23:12:30.970717",
     "status": "completed"
    },
    "tags": []
   },
   "outputs": [],
   "source": [
    "df_test_features = pd.read_csv(os.path.join(PATH_TO_DATA, \"test_data.csv\"), \n",
    "                                            index_col=\"match_id_hash\")\n",
    "\n",
    "X_test = df_test_features.values\n",
    "y_test_pred = rf_model.predict_proba(X_test)[:, 1]\n",
    "\n",
    "df_submission = pd.DataFrame({\"radiant_win_prob\": y_test_pred}, \n",
    "                                 index=df_test_features.index)"
   ]
  },
  {
   "cell_type": "code",
   "execution_count": 17,
   "metadata": {
    "execution": {
     "iopub.execute_input": "2022-02-13T23:12:31.614098Z",
     "iopub.status.busy": "2022-02-13T23:12:31.613358Z",
     "iopub.status.idle": "2022-02-13T23:12:31.651586Z",
     "shell.execute_reply": "2022-02-13T23:12:31.650986Z",
     "shell.execute_reply.started": "2022-02-13T22:55:58.54975Z"
    },
    "papermill": {
     "duration": 0.081747,
     "end_time": "2022-02-13T23:12:31.651724",
     "exception": false,
     "start_time": "2022-02-13T23:12:31.569977",
     "status": "completed"
    },
    "tags": []
   },
   "outputs": [
    {
     "name": "stdout",
     "output_type": "stream",
     "text": [
      "Файл посылки сохранен, как: submission_2022-03-26_16-30-15.csv\n"
     ]
    }
   ],
   "source": [
    "submission_filename = \"submission_{}.csv\".format(\n",
    "    datetime.datetime.now().strftime(\"%Y-%m-%d_%H-%M-%S\"))\n",
    "df_submission.to_csv(''.join(['../data/', submission_filename]))\n",
    "print(\"Файл посылки сохранен, как: {}\".format(submission_filename))"
   ]
  },
  {
   "cell_type": "markdown",
   "metadata": {
    "papermill": {
     "duration": 0.038042,
     "end_time": "2022-02-13T23:12:31.728003",
     "exception": false,
     "start_time": "2022-02-13T23:12:31.689961",
     "status": "completed"
    },
    "tags": []
   },
   "source": [
    "## <left>Кросс-валидация"
   ]
  },
  {
   "cell_type": "markdown",
   "metadata": {
    "papermill": {
     "duration": 0.037622,
     "end_time": "2022-02-13T23:12:31.804031",
     "exception": false,
     "start_time": "2022-02-13T23:12:31.766409",
     "status": "completed"
    },
    "tags": []
   },
   "source": [
    "Во многих случаях кросс-валидация оказывается лучше простого разбиения на test и train. Воспользуемся `ShuffleSplit` чтобы создать 5 70%/30% наборов данных."
   ]
  },
  {
   "cell_type": "code",
   "execution_count": 18,
   "metadata": {
    "execution": {
     "iopub.execute_input": "2022-02-13T23:12:31.888954Z",
     "iopub.status.busy": "2022-02-13T23:12:31.887914Z",
     "iopub.status.idle": "2022-02-13T23:12:31.890534Z",
     "shell.execute_reply": "2022-02-13T23:12:31.889871Z",
     "shell.execute_reply.started": "2022-02-13T22:56:24.879618Z"
    },
    "papermill": {
     "duration": 0.047215,
     "end_time": "2022-02-13T23:12:31.890672",
     "exception": false,
     "start_time": "2022-02-13T23:12:31.843457",
     "status": "completed"
    },
    "tags": []
   },
   "outputs": [],
   "source": [
    "cv = ShuffleSplit(n_splits=5, test_size=0.3, random_state=SEED)"
   ]
  },
  {
   "cell_type": "code",
   "execution_count": 19,
   "metadata": {
    "execution": {
     "iopub.execute_input": "2022-02-13T23:12:31.976597Z",
     "iopub.status.busy": "2022-02-13T23:12:31.975254Z",
     "iopub.status.idle": "2022-02-13T23:13:25.411148Z",
     "shell.execute_reply": "2022-02-13T23:13:25.411674Z",
     "shell.execute_reply.started": "2022-02-13T22:56:42.398744Z"
    },
    "papermill": {
     "duration": 53.482844,
     "end_time": "2022-02-13T23:13:25.411896",
     "exception": false,
     "start_time": "2022-02-13T23:12:31.929052",
     "status": "completed"
    },
    "tags": []
   },
   "outputs": [
    {
     "name": "stdout",
     "output_type": "stream",
     "text": [
      "CPU times: user 11.8 s, sys: 1.41 s, total: 13.2 s\n",
      "Wall time: 52.6 s\n"
     ]
    }
   ],
   "source": [
    "%%time\n",
    "rf_model = RandomForestClassifier(n_estimators=300, max_depth=7, n_jobs=-1, random_state=SEED)\n",
    "cv_scores_rf = cross_val_score(rf_model, X, y, cv=cv, scoring=\"roc_auc\")"
   ]
  },
  {
   "cell_type": "code",
   "execution_count": 20,
   "metadata": {
    "execution": {
     "iopub.execute_input": "2022-02-13T23:13:25.493196Z",
     "iopub.status.busy": "2022-02-13T23:13:25.492573Z",
     "iopub.status.idle": "2022-02-13T23:13:25.498122Z",
     "shell.execute_reply": "2022-02-13T23:13:25.498732Z",
     "shell.execute_reply.started": "2022-02-13T22:57:33.757348Z"
    },
    "papermill": {
     "duration": 0.048131,
     "end_time": "2022-02-13T23:13:25.498903",
     "exception": false,
     "start_time": "2022-02-13T23:13:25.450772",
     "status": "completed"
    },
    "tags": []
   },
   "outputs": [
    {
     "data": {
      "text/plain": [
       "array([0.77543873, 0.77343884, 0.76649967, 0.7722681 , 0.77246001])"
      ]
     },
     "execution_count": 20,
     "metadata": {},
     "output_type": "execute_result"
    }
   ],
   "source": [
    "cv_scores_rf"
   ]
  },
  {
   "cell_type": "code",
   "execution_count": 21,
   "metadata": {
    "execution": {
     "iopub.execute_input": "2022-02-13T23:13:25.581644Z",
     "iopub.status.busy": "2022-02-13T23:13:25.581004Z",
     "iopub.status.idle": "2022-02-13T23:13:25.586312Z",
     "shell.execute_reply": "2022-02-13T23:13:25.586817Z",
     "shell.execute_reply.started": "2022-02-13T22:57:38.647385Z"
    },
    "papermill": {
     "duration": 0.047354,
     "end_time": "2022-02-13T23:13:25.586984",
     "exception": false,
     "start_time": "2022-02-13T23:13:25.53963",
     "status": "completed"
    },
    "tags": []
   },
   "outputs": [
    {
     "name": "stdout",
     "output_type": "stream",
     "text": [
      "Среднее значение ROC-AUC на кросс-валидации: 0.7720210676055513\n"
     ]
    }
   ],
   "source": [
    "print(f\"Среднее значение ROC-AUC на кросс-валидации: {cv_scores_rf.mean()}\")"
   ]
  },
  {
   "cell_type": "markdown",
   "metadata": {
    "papermill": {
     "duration": 0.038799,
     "end_time": "2022-02-13T23:13:25.664983",
     "exception": false,
     "start_time": "2022-02-13T23:13:25.626184",
     "status": "completed"
    },
    "tags": []
   },
   "source": [
    "## <left>Что есть в json файлах?"
   ]
  },
  {
   "cell_type": "markdown",
   "metadata": {
    "papermill": {
     "duration": 0.038673,
     "end_time": "2022-02-13T23:13:25.742566",
     "exception": false,
     "start_time": "2022-02-13T23:13:25.703893",
     "status": "completed"
    },
    "tags": []
   },
   "source": [
    "Описание сырых данных можно найти в `train_matches.jsonl` и `test_matches.jsonl`. Каждый файл содержит одну запись для каждого матча в [JSON](https://en.wikipedia.org/wiki/JSON) формате. Его легко превратить в питоновский объект при помощи метода `json.loads`."
   ]
  },
  {
   "cell_type": "code",
   "execution_count": 22,
   "metadata": {
    "execution": {
     "iopub.execute_input": "2022-02-13T23:13:25.824572Z",
     "iopub.status.busy": "2022-02-13T23:13:25.823929Z",
     "iopub.status.idle": "2022-02-13T23:13:26.265063Z",
     "shell.execute_reply": "2022-02-13T23:13:26.264479Z",
     "shell.execute_reply.started": "2022-02-13T22:57:44.043572Z"
    },
    "papermill": {
     "duration": 0.483742,
     "end_time": "2022-02-13T23:13:26.265242",
     "exception": false,
     "start_time": "2022-02-13T23:13:25.7815",
     "status": "completed"
    },
    "tags": []
   },
   "outputs": [],
   "source": [
    "with open(os.path.join(PATH_TO_DATA, \"train_raw_data.jsonl\")) as fin:\n",
    "    # прочтем 419 строк\n",
    "    for i in range(419):\n",
    "        line = fin.readline()\n",
    "    \n",
    "    # переведем JSON в питоновский словарь \n",
    "    match = json.loads(line)"
   ]
  },
  {
   "cell_type": "code",
   "execution_count": 23,
   "metadata": {
    "execution": {
     "iopub.execute_input": "2022-02-13T23:13:26.348137Z",
     "iopub.status.busy": "2022-02-13T23:13:26.347521Z",
     "iopub.status.idle": "2022-02-13T23:13:26.352594Z",
     "shell.execute_reply": "2022-02-13T23:13:26.353086Z",
     "shell.execute_reply.started": "2022-02-13T22:57:45.161882Z"
    },
    "papermill": {
     "duration": 0.047215,
     "end_time": "2022-02-13T23:13:26.353291",
     "exception": false,
     "start_time": "2022-02-13T23:13:26.306076",
     "status": "completed"
    },
    "tags": []
   },
   "outputs": [
    {
     "data": {
      "text/plain": [
       "(0, 5, 5)"
      ]
     },
     "execution_count": 23,
     "metadata": {},
     "output_type": "execute_result"
    }
   ],
   "source": [
    "player = match[\"players\"][9]\n",
    "player[\"kills\"], player[\"deaths\"], player[\"assists\"]"
   ]
  },
  {
   "cell_type": "markdown",
   "metadata": {
    "papermill": {
     "duration": 0.038891,
     "end_time": "2022-02-13T23:13:26.431457",
     "exception": false,
     "start_time": "2022-02-13T23:13:26.392566",
     "status": "completed"
    },
    "tags": []
   },
   "source": [
    "KDA - может быть неплохим признаком, этот показатель считается как:\n",
    "    \n",
    "<center>$KDA = \\frac{K + A}{D}$"
   ]
  },
  {
   "cell_type": "markdown",
   "metadata": {
    "papermill": {
     "duration": 0.039281,
     "end_time": "2022-02-13T23:13:26.509955",
     "exception": false,
     "start_time": "2022-02-13T23:13:26.470674",
     "status": "completed"
    },
    "tags": []
   },
   "source": [
    "Информация о количестве использованных способностей:"
   ]
  },
  {
   "cell_type": "code",
   "execution_count": 24,
   "metadata": {
    "execution": {
     "iopub.execute_input": "2022-02-13T23:13:26.592332Z",
     "iopub.status.busy": "2022-02-13T23:13:26.591649Z",
     "iopub.status.idle": "2022-02-13T23:13:26.595957Z",
     "shell.execute_reply": "2022-02-13T23:13:26.596503Z",
     "shell.execute_reply.started": "2022-02-13T22:57:47.094707Z"
    },
    "papermill": {
     "duration": 0.047359,
     "end_time": "2022-02-13T23:13:26.596669",
     "exception": false,
     "start_time": "2022-02-13T23:13:26.54931",
     "status": "completed"
    },
    "tags": []
   },
   "outputs": [
    {
     "data": {
      "text/plain": [
       "{'treant_living_armor': 52, 'treant_leech_seed': 5, 'treant_overgrowth': 5}"
      ]
     },
     "execution_count": 24,
     "metadata": {},
     "output_type": "execute_result"
    }
   ],
   "source": [
    "player[\"ability_uses\"]"
   ]
  },
  {
   "cell_type": "code",
   "execution_count": 25,
   "metadata": {
    "execution": {
     "iopub.execute_input": "2022-02-13T23:13:26.687321Z",
     "iopub.status.busy": "2022-02-13T23:13:26.686645Z",
     "iopub.status.idle": "2022-02-13T23:13:27.13348Z",
     "shell.execute_reply": "2022-02-13T23:13:27.132512Z",
     "shell.execute_reply.started": "2022-02-13T22:57:52.249048Z"
    },
    "papermill": {
     "duration": 0.497026,
     "end_time": "2022-02-13T23:13:27.133643",
     "exception": false,
     "start_time": "2022-02-13T23:13:26.636617",
     "status": "completed"
    },
    "tags": []
   },
   "outputs": [
    {
     "data": {
      "image/png": "[encoded data removed]",
      "text/plain": [
       "<Figure size 864x576 with 1 Axes>"
      ]
     },
     "metadata": {},
     "output_type": "display_data"
    }
   ],
   "source": [
    "for i, player in enumerate(match[\"players\"]):\n",
    "    plt.plot(player[\"times\"], player[\"xp_t\"], label=str(i+1))\n",
    "\n",
    "plt.legend()\n",
    "plt.xlabel(\"Time, s\")\n",
    "plt.ylabel(\"XP\")\n",
    "plt.title(\"XP change for all players\");"
   ]
  },
  {
   "cell_type": "markdown",
   "metadata": {
    "papermill": {
     "duration": 0.042348,
     "end_time": "2022-02-13T23:13:27.219933",
     "exception": false,
     "start_time": "2022-02-13T23:13:27.177585",
     "status": "completed"
    },
    "tags": []
   },
   "source": [
    "#### Сделаем чтение файла с сырыми данными и добавление новых признаков удобным"
   ]
  },
  {
   "cell_type": "markdown",
   "metadata": {
    "papermill": {
     "duration": 0.04339,
     "end_time": "2022-02-13T23:13:27.30574",
     "exception": false,
     "start_time": "2022-02-13T23:13:27.26235",
     "status": "completed"
    },
    "tags": []
   },
   "source": [
    "В этот раз для чтение `json` файлов лучше использовать библиотеку `ujson`, иначе все будет слишком долго :("
   ]
  },
  {
   "cell_type": "code",
   "execution_count": 26,
   "metadata": {
    "execution": {
     "iopub.execute_input": "2022-02-13T23:13:27.399422Z",
     "iopub.status.busy": "2022-02-13T23:13:27.39383Z",
     "iopub.status.idle": "2022-02-13T23:13:27.407569Z",
     "shell.execute_reply": "2022-02-13T23:13:27.406864Z",
     "shell.execute_reply.started": "2022-02-13T22:57:54.823795Z"
    },
    "papermill": {
     "duration": 0.059265,
     "end_time": "2022-02-13T23:13:27.407711",
     "exception": false,
     "start_time": "2022-02-13T23:13:27.348446",
     "status": "completed"
    },
    "tags": []
   },
   "outputs": [],
   "source": [
    "try:\n",
    "    import ujson as json\n",
    "except ModuleNotFoundError:\n",
    "    import json\n",
    "    print (\"Подумайте об установке ujson, чтобы работать с JSON объектами быстрее\")\n",
    "    \n",
    "try:\n",
    "    from tqdm.notebook import tqdm\n",
    "except ModuleNotFoundError:\n",
    "    tqdm_notebook = lambda x: x\n",
    "    print (\"Подумайте об установке tqdm, чтобы следить за прогрессом\")\n",
    "\n",
    "    \n",
    "def read_matches(matches_file, total_matches=31698, n_matches_to_read=None):\n",
    "    \"\"\"\n",
    "    Аргуент\n",
    "    -------\n",
    "    matches_file: JSON файл с сырыми данными\n",
    "    \n",
    "    Результат\n",
    "    ---------\n",
    "    Возвращает записи о каждом матче\n",
    "    \"\"\"\n",
    "    \n",
    "    if n_matches_to_read is None:\n",
    "        n_matches_to_read = total_matches\n",
    "        \n",
    "    c = 0\n",
    "    with open(matches_file) as fin:\n",
    "        for line in tqdm(fin, total=total_matches):\n",
    "            if c >= n_matches_to_read:\n",
    "                break\n",
    "            else:\n",
    "                c += 1\n",
    "                yield json.loads(line)"
   ]
  },
  {
   "cell_type": "markdown",
   "metadata": {
    "papermill": {
     "duration": 0.042266,
     "end_time": "2022-02-13T23:13:27.492942",
     "exception": false,
     "start_time": "2022-02-13T23:13:27.450676",
     "status": "completed"
    },
    "tags": []
   },
   "source": [
    "#### Чтение данных в цикле\n",
    "\n",
    "Чтение всех данных занимает 1-2 минуты, поэтому для начала можно попробовать следующее:\n",
    "\n",
    "1. Читать 10-50 игр\n",
    "2. Написать код для работы с этими JSON объектами\n",
    "3. Убедиться, что все работает\n",
    "4. Запустить код на всем датасете\n",
    "5. Сохранить результат в `pickle` файл, чтобы в следующий раз не переделывать все заново"
   ]
  },
  {
   "cell_type": "markdown",
   "metadata": {
    "papermill": {
     "duration": 0.042432,
     "end_time": "2022-02-13T23:13:27.578084",
     "exception": false,
     "start_time": "2022-02-13T23:13:27.535652",
     "status": "completed"
    },
    "tags": []
   },
   "source": [
    "## <left>Feature engineering"
   ]
  },
  {
   "cell_type": "markdown",
   "metadata": {
    "papermill": {
     "duration": 0.043572,
     "end_time": "2022-02-13T23:13:27.664358",
     "exception": false,
     "start_time": "2022-02-13T23:13:27.620786",
     "status": "completed"
    },
    "tags": []
   },
   "source": [
    "Напишем функцию, которая поможет нам легче добавлять новые признаки."
   ]
  },
  {
   "cell_type": "code",
   "execution_count": 27,
   "metadata": {
    "execution": {
     "iopub.execute_input": "2022-02-13T23:13:27.756046Z",
     "iopub.status.busy": "2022-02-13T23:13:27.755297Z",
     "iopub.status.idle": "2022-02-13T23:13:27.762856Z",
     "shell.execute_reply": "2022-02-13T23:13:27.76232Z",
     "shell.execute_reply.started": "2022-02-13T22:57:58.423089Z"
    },
    "papermill": {
     "duration": 0.054892,
     "end_time": "2022-02-13T23:13:27.763",
     "exception": false,
     "start_time": "2022-02-13T23:13:27.708108",
     "status": "completed"
    },
    "tags": []
   },
   "outputs": [],
   "source": [
    "def add_new_features(df_features, matches_file):\n",
    "    \"\"\"\n",
    "    Аргуенты\n",
    "    -------\n",
    "    df_features: таблица с данными\n",
    "    matches_file: JSON файл с сырыми данными\n",
    "    \n",
    "    Результат\n",
    "    ---------\n",
    "    Добавляет новые признаки в таблицу\n",
    "    \"\"\"\n",
    "    \n",
    "    for match in read_matches(matches_file):\n",
    "        match_id_hash = match['match_id_hash']\n",
    "\n",
    "        # Посчитаем количество разрушенных вышек обеими командами\n",
    "        radiant_tower_kills = 0\n",
    "        dire_tower_kills = 0\n",
    "        for objective in match[\"objectives\"]:\n",
    "            if objective[\"type\"] == \"CHAT_MESSAGE_TOWER_KILL\":\n",
    "                if objective[\"team\"] == 2:\n",
    "                    radiant_tower_kills += 1\n",
    "                if objective[\"team\"] == 3:\n",
    "                    dire_tower_kills += 1\n",
    "\n",
    "        df_features.loc[match_id_hash, \"radiant_tower_kills\"] = radiant_tower_kills\n",
    "        df_features.loc[match_id_hash, \"dire_tower_kills\"] = dire_tower_kills\n",
    "        df_features.loc[match_id_hash, \"diff_tower_kills\"] = radiant_tower_kills - dire_tower_kills\n",
    "        \n",
    "        # ... (/¯◡ ‿ ◡)/¯☆*:・ﾟ добавляем новые признаки ..."
   ]
  },
  {
   "cell_type": "code",
   "execution_count": 28,
   "metadata": {
    "execution": {
     "iopub.execute_input": "2022-02-13T23:13:27.854323Z",
     "iopub.status.busy": "2022-02-13T23:13:27.853612Z",
     "iopub.status.idle": "2022-02-13T23:15:05.115381Z",
     "shell.execute_reply": "2022-02-13T23:15:05.114784Z",
     "shell.execute_reply.started": "2022-02-13T22:58:02.08187Z"
    },
    "papermill": {
     "duration": 97.309868,
     "end_time": "2022-02-13T23:15:05.115547",
     "exception": false,
     "start_time": "2022-02-13T23:13:27.805679",
     "status": "completed"
    },
    "scrolled": true,
    "tags": []
   },
   "outputs": [
    {
     "data": {
      "application/vnd.jupyter.widget-view+json": {
       "model_id": "2d8de9ceb0c74cd997e95d0223d53a06",
       "version_major": 2,
       "version_minor": 0
      },
      "text/plain": [
       "  0%|          | 0/31698 [00:00<?, ?it/s]"
      ]
     },
     "metadata": {},
     "output_type": "display_data"
    }
   ],
   "source": [
    "# Скопируем таблицу с признаками\n",
    "df_train_features_extended = df_train_features.copy()\n",
    "\n",
    "# Добавим новые\n",
    "add_new_features(df_train_features_extended, \n",
    "                 os.path.join(PATH_TO_DATA, \n",
    "                              \"train_raw_data.jsonl\"))"
   ]
  },
  {
   "cell_type": "code",
   "execution_count": 29,
   "metadata": {
    "execution": {
     "iopub.execute_input": "2022-02-13T23:15:05.205523Z",
     "iopub.status.busy": "2022-02-13T23:15:05.204874Z",
     "iopub.status.idle": "2022-02-13T23:15:05.227751Z",
     "shell.execute_reply": "2022-02-13T23:15:05.227157Z",
     "shell.execute_reply.started": "2022-02-13T23:00:24.658661Z"
    },
    "papermill": {
     "duration": 0.06882,
     "end_time": "2022-02-13T23:15:05.227889",
     "exception": false,
     "start_time": "2022-02-13T23:15:05.159069",
     "status": "completed"
    },
    "tags": []
   },
   "outputs": [
    {
     "data": {
      "text/html": [
       "<div>\n",
       "<style scoped>\n",
       "    .dataframe tbody tr th:only-of-type {\n",
       "        vertical-align: middle;\n",
       "    }\n",
       "\n",
       "    .dataframe tbody tr th {\n",
       "        vertical-align: top;\n",
       "    }\n",
       "\n",
       "    .dataframe thead th {\n",
       "        text-align: right;\n",
       "    }\n",
       "</style>\n",
       "<table border=\"1\" class=\"dataframe\">\n",
       "  <thead>\n",
       "    <tr style=\"text-align: right;\">\n",
       "      <th></th>\n",
       "      <th>game_time</th>\n",
       "      <th>game_mode</th>\n",
       "      <th>lobby_type</th>\n",
       "      <th>objectives_len</th>\n",
       "      <th>chat_len</th>\n",
       "      <th>r1_hero_id</th>\n",
       "      <th>r1_kills</th>\n",
       "      <th>r1_deaths</th>\n",
       "      <th>r1_assists</th>\n",
       "      <th>r1_denies</th>\n",
       "      <th>...</th>\n",
       "      <th>d5_rune_pickups</th>\n",
       "      <th>d5_firstblood_claimed</th>\n",
       "      <th>d5_teamfight_participation</th>\n",
       "      <th>d5_towers_killed</th>\n",
       "      <th>d5_roshans_killed</th>\n",
       "      <th>d5_obs_placed</th>\n",
       "      <th>d5_sen_placed</th>\n",
       "      <th>radiant_tower_kills</th>\n",
       "      <th>dire_tower_kills</th>\n",
       "      <th>diff_tower_kills</th>\n",
       "    </tr>\n",
       "    <tr>\n",
       "      <th>match_id_hash</th>\n",
       "      <th></th>\n",
       "      <th></th>\n",
       "      <th></th>\n",
       "      <th></th>\n",
       "      <th></th>\n",
       "      <th></th>\n",
       "      <th></th>\n",
       "      <th></th>\n",
       "      <th></th>\n",
       "      <th></th>\n",
       "      <th></th>\n",
       "      <th></th>\n",
       "      <th></th>\n",
       "      <th></th>\n",
       "      <th></th>\n",
       "      <th></th>\n",
       "      <th></th>\n",
       "      <th></th>\n",
       "      <th></th>\n",
       "      <th></th>\n",
       "      <th></th>\n",
       "    </tr>\n",
       "  </thead>\n",
       "  <tbody>\n",
       "    <tr>\n",
       "      <th>b9c57c450ce74a2af79c9ce96fac144d</th>\n",
       "      <td>658</td>\n",
       "      <td>4</td>\n",
       "      <td>0</td>\n",
       "      <td>3</td>\n",
       "      <td>10</td>\n",
       "      <td>15</td>\n",
       "      <td>7</td>\n",
       "      <td>2</td>\n",
       "      <td>0</td>\n",
       "      <td>7</td>\n",
       "      <td>...</td>\n",
       "      <td>0</td>\n",
       "      <td>0</td>\n",
       "      <td>0.00</td>\n",
       "      <td>0</td>\n",
       "      <td>0</td>\n",
       "      <td>0</td>\n",
       "      <td>0</td>\n",
       "      <td>2.0</td>\n",
       "      <td>0.0</td>\n",
       "      <td>2.0</td>\n",
       "    </tr>\n",
       "    <tr>\n",
       "      <th>6db558535151ea18ca70a6892197db41</th>\n",
       "      <td>21</td>\n",
       "      <td>23</td>\n",
       "      <td>0</td>\n",
       "      <td>0</td>\n",
       "      <td>0</td>\n",
       "      <td>101</td>\n",
       "      <td>0</td>\n",
       "      <td>0</td>\n",
       "      <td>0</td>\n",
       "      <td>0</td>\n",
       "      <td>...</td>\n",
       "      <td>0</td>\n",
       "      <td>0</td>\n",
       "      <td>0.00</td>\n",
       "      <td>0</td>\n",
       "      <td>0</td>\n",
       "      <td>0</td>\n",
       "      <td>0</td>\n",
       "      <td>0.0</td>\n",
       "      <td>0.0</td>\n",
       "      <td>0.0</td>\n",
       "    </tr>\n",
       "    <tr>\n",
       "      <th>19c39fe2af2b547e48708ca005c6ae74</th>\n",
       "      <td>160</td>\n",
       "      <td>22</td>\n",
       "      <td>7</td>\n",
       "      <td>0</td>\n",
       "      <td>0</td>\n",
       "      <td>57</td>\n",
       "      <td>0</td>\n",
       "      <td>0</td>\n",
       "      <td>0</td>\n",
       "      <td>1</td>\n",
       "      <td>...</td>\n",
       "      <td>0</td>\n",
       "      <td>0</td>\n",
       "      <td>0.00</td>\n",
       "      <td>0</td>\n",
       "      <td>0</td>\n",
       "      <td>0</td>\n",
       "      <td>0</td>\n",
       "      <td>0.0</td>\n",
       "      <td>0.0</td>\n",
       "      <td>0.0</td>\n",
       "    </tr>\n",
       "    <tr>\n",
       "      <th>c96d629dc0c39f0c616d1949938a6ba6</th>\n",
       "      <td>1016</td>\n",
       "      <td>22</td>\n",
       "      <td>0</td>\n",
       "      <td>1</td>\n",
       "      <td>0</td>\n",
       "      <td>119</td>\n",
       "      <td>0</td>\n",
       "      <td>3</td>\n",
       "      <td>3</td>\n",
       "      <td>5</td>\n",
       "      <td>...</td>\n",
       "      <td>3</td>\n",
       "      <td>0</td>\n",
       "      <td>0.25</td>\n",
       "      <td>0</td>\n",
       "      <td>0</td>\n",
       "      <td>3</td>\n",
       "      <td>0</td>\n",
       "      <td>0.0</td>\n",
       "      <td>0.0</td>\n",
       "      <td>0.0</td>\n",
       "    </tr>\n",
       "    <tr>\n",
       "      <th>156c88bff4e9c4668b0f53df3d870f1b</th>\n",
       "      <td>582</td>\n",
       "      <td>22</td>\n",
       "      <td>7</td>\n",
       "      <td>2</td>\n",
       "      <td>2</td>\n",
       "      <td>12</td>\n",
       "      <td>3</td>\n",
       "      <td>1</td>\n",
       "      <td>2</td>\n",
       "      <td>9</td>\n",
       "      <td>...</td>\n",
       "      <td>0</td>\n",
       "      <td>1</td>\n",
       "      <td>0.50</td>\n",
       "      <td>0</td>\n",
       "      <td>0</td>\n",
       "      <td>3</td>\n",
       "      <td>0</td>\n",
       "      <td>0.0</td>\n",
       "      <td>1.0</td>\n",
       "      <td>-1.0</td>\n",
       "    </tr>\n",
       "  </tbody>\n",
       "</table>\n",
       "<p>5 rows × 248 columns</p>\n",
       "</div>"
      ],
      "text/plain": [
       "                                  game_time  game_mode  lobby_type  \\\n",
       "match_id_hash                                                        \n",
       "b9c57c450ce74a2af79c9ce96fac144d        658          4           0   \n",
       "6db558535151ea18ca70a6892197db41         21         23           0   \n",
       "19c39fe2af2b547e48708ca005c6ae74        160         22           7   \n",
       "c96d629dc0c39f0c616d1949938a6ba6       1016         22           0   \n",
       "156c88bff4e9c4668b0f53df3d870f1b        582         22           7   \n",
       "\n",
       "                                  objectives_len  chat_len  r1_hero_id  \\\n",
       "match_id_hash                                                            \n",
       "b9c57c450ce74a2af79c9ce96fac144d               3        10          15   \n",
       "6db558535151ea18ca70a6892197db41               0         0         101   \n",
       "19c39fe2af2b547e48708ca005c6ae74               0         0          57   \n",
       "c96d629dc0c39f0c616d1949938a6ba6               1         0         119   \n",
       "156c88bff4e9c4668b0f53df3d870f1b               2         2          12   \n",
       "\n",
       "                                  r1_kills  r1_deaths  r1_assists  r1_denies  \\\n",
       "match_id_hash                                                                  \n",
       "b9c57c450ce74a2af79c9ce96fac144d         7          2           0          7   \n",
       "6db558535151ea18ca70a6892197db41         0          0           0          0   \n",
       "19c39fe2af2b547e48708ca005c6ae74         0          0           0          1   \n",
       "c96d629dc0c39f0c616d1949938a6ba6         0          3           3          5   \n",
       "156c88bff4e9c4668b0f53df3d870f1b         3          1           2          9   \n",
       "\n",
       "                                  ...  d5_rune_pickups  d5_firstblood_claimed  \\\n",
       "match_id_hash                     ...                                           \n",
       "b9c57c450ce74a2af79c9ce96fac144d  ...                0                      0   \n",
       "6db558535151ea18ca70a6892197db41  ...                0                      0   \n",
       "19c39fe2af2b547e48708ca005c6ae74  ...                0                      0   \n",
       "c96d629dc0c39f0c616d1949938a6ba6  ...                3                      0   \n",
       "156c88bff4e9c4668b0f53df3d870f1b  ...                0                      1   \n",
       "\n",
       "                                  d5_teamfight_participation  \\\n",
       "match_id_hash                                                  \n",
       "b9c57c450ce74a2af79c9ce96fac144d                        0.00   \n",
       "6db558535151ea18ca70a6892197db41                        0.00   \n",
       "19c39fe2af2b547e48708ca005c6ae74                        0.00   \n",
       "c96d629dc0c39f0c616d1949938a6ba6                        0.25   \n",
       "156c88bff4e9c4668b0f53df3d870f1b                        0.50   \n",
       "\n",
       "                                  d5_towers_killed  d5_roshans_killed  \\\n",
       "match_id_hash                                                           \n",
       "b9c57c450ce74a2af79c9ce96fac144d                 0                  0   \n",
       "6db558535151ea18ca70a6892197db41                 0                  0   \n",
       "19c39fe2af2b547e48708ca005c6ae74                 0                  0   \n",
       "c96d629dc0c39f0c616d1949938a6ba6                 0                  0   \n",
       "156c88bff4e9c4668b0f53df3d870f1b                 0                  0   \n",
       "\n",
       "                                  d5_obs_placed  d5_sen_placed  \\\n",
       "match_id_hash                                                    \n",
       "b9c57c450ce74a2af79c9ce96fac144d              0              0   \n",
       "6db558535151ea18ca70a6892197db41              0              0   \n",
       "19c39fe2af2b547e48708ca005c6ae74              0              0   \n",
       "c96d629dc0c39f0c616d1949938a6ba6              3              0   \n",
       "156c88bff4e9c4668b0f53df3d870f1b              3              0   \n",
       "\n",
       "                                  radiant_tower_kills  dire_tower_kills  \\\n",
       "match_id_hash                                                             \n",
       "b9c57c450ce74a2af79c9ce96fac144d                  2.0               0.0   \n",
       "6db558535151ea18ca70a6892197db41                  0.0               0.0   \n",
       "19c39fe2af2b547e48708ca005c6ae74                  0.0               0.0   \n",
       "c96d629dc0c39f0c616d1949938a6ba6                  0.0               0.0   \n",
       "156c88bff4e9c4668b0f53df3d870f1b                  0.0               1.0   \n",
       "\n",
       "                                  diff_tower_kills  \n",
       "match_id_hash                                       \n",
       "b9c57c450ce74a2af79c9ce96fac144d               2.0  \n",
       "6db558535151ea18ca70a6892197db41               0.0  \n",
       "19c39fe2af2b547e48708ca005c6ae74               0.0  \n",
       "c96d629dc0c39f0c616d1949938a6ba6               0.0  \n",
       "156c88bff4e9c4668b0f53df3d870f1b              -1.0  \n",
       "\n",
       "[5 rows x 248 columns]"
      ]
     },
     "execution_count": 29,
     "metadata": {},
     "output_type": "execute_result"
    }
   ],
   "source": [
    "df_train_features_extended.head()"
   ]
  },
  {
   "cell_type": "code",
   "execution_count": 30,
   "metadata": {
    "execution": {
     "iopub.execute_input": "2022-02-13T23:15:05.320382Z",
     "iopub.status.busy": "2022-02-13T23:15:05.319662Z",
     "iopub.status.idle": "2022-02-13T23:16:41.094374Z",
     "shell.execute_reply": "2022-02-13T23:16:41.095109Z",
     "shell.execute_reply.started": "2022-02-13T23:00:39.716567Z"
    },
    "papermill": {
     "duration": 95.822707,
     "end_time": "2022-02-13T23:16:41.095367",
     "exception": false,
     "start_time": "2022-02-13T23:15:05.27266",
     "status": "completed"
    },
    "tags": []
   },
   "outputs": [
    {
     "name": "stdout",
     "output_type": "stream",
     "text": [
      "CPU times: user 86.3 ms, sys: 173 ms, total: 260 ms\n",
      "Wall time: 1min 12s\n"
     ]
    }
   ],
   "source": [
    "%%time\n",
    "cv_scores_base = cross_val_score(rf_model, X, y, cv=cv, scoring=\"roc_auc\", n_jobs=-1)\n",
    "cv_scores_extended = cross_val_score(rf_model, df_train_features_extended.values, y, \n",
    "                                     cv=cv, scoring=\"roc_auc\", n_jobs=-1)"
   ]
  },
  {
   "cell_type": "code",
   "execution_count": 31,
   "metadata": {
    "execution": {
     "iopub.execute_input": "2022-02-13T23:16:41.19089Z",
     "iopub.status.busy": "2022-02-13T23:16:41.18996Z",
     "iopub.status.idle": "2022-02-13T23:16:41.193041Z",
     "shell.execute_reply": "2022-02-13T23:16:41.193577Z",
     "shell.execute_reply.started": "2022-02-13T23:02:14.824997Z"
    },
    "papermill": {
     "duration": 0.053312,
     "end_time": "2022-02-13T23:16:41.193746",
     "exception": false,
     "start_time": "2022-02-13T23:16:41.140434",
     "status": "completed"
    },
    "tags": []
   },
   "outputs": [
    {
     "name": "stdout",
     "output_type": "stream",
     "text": [
      "ROC-AUC на кросс-валидации для базовых признаков: 0.7720210676055513\n",
      "ROC-AUC на кросс-валидации для новых признаков: 0.778796825263235\n"
     ]
    }
   ],
   "source": [
    "print(f\"ROC-AUC на кросс-валидации для базовых признаков: {cv_scores_base.mean()}\")\n",
    "print(f\"ROC-AUC на кросс-валидации для новых признаков: {cv_scores_extended.mean()}\")"
   ]
  },
  {
   "cell_type": "markdown",
   "metadata": {
    "papermill": {
     "duration": 0.044129,
     "end_time": "2022-02-13T23:16:41.282132",
     "exception": false,
     "start_time": "2022-02-13T23:16:41.238003",
     "status": "completed"
    },
    "tags": []
   },
   "source": [
    "Видно, что случайный лес стал работать немного лучше при добавлении новых признаков. A еще нужно, наверное, как-то по-умному закодировать категориальные признаки."
   ]
  },
  {
   "cell_type": "markdown",
   "metadata": {
    "papermill": {
     "duration": 0.043839,
     "end_time": "2022-02-13T23:16:41.370079",
     "exception": false,
     "start_time": "2022-02-13T23:16:41.32624",
     "status": "completed"
    },
    "tags": []
   },
   "source": [
    "Дальше дело за малым. Добавляйте новые признаки, пробуйте другие методы, которые мы изучили, а также что-то интересное, что мы не прошли. Удачи!"
   ]
  },
  {
   "cell_type": "markdown",
   "metadata": {},
   "source": [
    "# Прочитаем побольше всего"
   ]
  },
  {
   "cell_type": "code",
   "execution_count": 46,
   "metadata": {},
   "outputs": [],
   "source": [
    "def add_new_features(df_features, matches_file, total_matches=31698):\n",
    "    \"\"\"\n",
    "    Аргуенты\n",
    "    -------\n",
    "    df_features: таблица с данными\n",
    "    matches_file: JSON файл с сырыми данными\n",
    "    \n",
    "    Результат\n",
    "    ---------\n",
    "    Добавляет новые признаки в таблицу\n",
    "    \"\"\"\n",
    "    \n",
    "    for match in read_matches(matches_file, total_matches=total_matches):\n",
    "        match_id_hash = match['match_id_hash']\n",
    "\n",
    "        # Посчитаем количество разрушенных вышек обеими командами\n",
    "        radiant_tower_kills = 0\n",
    "        dire_tower_kills = 0\n",
    "        # и другие данные\n",
    "        first_blood = 0\n",
    "        aegis_stolen_radiant, aegis_stolen_dire = 0, 0\n",
    "        aegis_denied_radiant, aegis_denied_dire = 0, 0\n",
    "        radiant_roshan_kills, dire_roshan_kills = 0, 0\n",
    "        barracks_kill = 0\n",
    "        dire_ability_uses = 0\n",
    "        rad_ability_uses = 0\n",
    "        \n",
    "        for objective in match[\"objectives\"]:\n",
    "            if objective[\"type\"] == \"CHAT_MESSAGE_TOWER_KILL\":\n",
    "                if objective[\"team\"] == 2:\n",
    "                    radiant_tower_kills += 1\n",
    "                if objective[\"team\"] == 3:\n",
    "                    dire_tower_kills += 1\n",
    "            if objective[\"type\"] == \"CHAT_MESSAGE_ROSHAN_KILL\":\n",
    "                if objective[\"team\"] == 2:\n",
    "                    radiant_roshan_kills += 1\n",
    "                if objective[\"team\"] == 3:\n",
    "                    dire_roshan_kills += 1\n",
    "                    \n",
    "            if objective[\"type\"] == \"CHAT_MESSAGE_BARRACKS_KILL\":\n",
    "                barracks_kill += 1\n",
    "                    \n",
    "            if objective[\"type\"] == \"CHAT_MESSAGE_FIRSTBLOOD\":\n",
    "                if objective[\"player_slot\"] < 6:\n",
    "                    first_blood = 1\n",
    "                    \n",
    "            if objective[\"type\"] == \"CHAT_MESSAGE_AEGIS_STOLEN\":\n",
    "                if objective[\"player_slot\"] < 6:\n",
    "                    aegis_stolen_radiant += 1\n",
    "                if objective[\"player_slot\"] > 50:\n",
    "                    aegis_stolen_dire += 1\n",
    "            \n",
    "            if objective[\"type\"] == \"CHAT_MESSAGE_DENIED_AEGIS\":\n",
    "                if objective[\"player_slot\"] < 6:\n",
    "                    aegis_denied_radiant += 1\n",
    "                if objective[\"player_slot\"] > 50:\n",
    "                    aegis_denied_dire += 1\n",
    "                    \n",
    "                \n",
    "        df_features.loc[match_id_hash, \"radiant_tower_kills\"] = radiant_tower_kills\n",
    "        df_features.loc[match_id_hash, \"dire_tower_kills\"] = dire_tower_kills\n",
    "        df_features.loc[match_id_hash, \"diff_tower_kills\"] = radiant_tower_kills - dire_tower_kills\n",
    "        \n",
    "        df_features.loc[match_id_hash, \"radiant_roshan_kills\"] = radiant_roshan_kills\n",
    "        df_features.loc[match_id_hash, \"dire_roshan_kills\"] = dire_roshan_kills\n",
    "        df_features.loc[match_id_hash, \"diff_roshan_kills\"] = radiant_roshan_kills - dire_roshan_kills\n",
    "        \n",
    "        df_features.loc[match_id_hash, \"first_blood\"] = first_blood\n",
    "        df_features.loc[match_id_hash, \"barracks_kill\"] = barracks_kill       \n",
    "        \n",
    "        df_features.loc[match_id_hash, \"aegis_stolen_diff\"] = aegis_stolen_radiant - aegis_stolen_dire\n",
    "        df_features.loc[match_id_hash, \"aegis_stolen_radiant\"] = aegis_stolen_radiant\n",
    "        df_features.loc[match_id_hash, \"aegis_stolen_dire\"] = aegis_stolen_dire\n",
    "            \n",
    "        df_features.loc[match_id_hash, \"aegis_denied_diff\"] = aegis_denied_radiant - aegis_denied_dire\n",
    "        df_features.loc[match_id_hash, \"aegis_denied_radiant\"] = aegis_denied_radiant\n",
    "        df_features.loc[match_id_hash, \"aegis_denied_dire\"] = aegis_denied_dire\n",
    "        \n",
    "        for player in match[\"players\"]:\n",
    "            if player['player_slot'] > 90:\n",
    "                for i in player[\"ability_uses\"].values():\n",
    "                    dire_ability_uses += i\n",
    "            else:\n",
    "                for i in player[\"ability_uses\"].values():\n",
    "                    rad_ability_uses += i\n",
    "        \n",
    "        df_features.loc[match_id_hash, \"rad_ability_uses\"] = rad_ability_uses\n",
    "        df_features.loc[match_id_hash, \"dire_ability_uses\"] = dire_ability_uses \n",
    "        \n",
    "        \n",
    "        \n",
    "        # ... (/¯◡ ‿ ◡)/¯☆*:・ﾟ добавляем новые признаки ..."
   ]
  },
  {
   "cell_type": "code",
   "execution_count": 47,
   "metadata": {},
   "outputs": [
    {
     "data": {
      "application/vnd.jupyter.widget-view+json": {
       "model_id": "0826185274cf4960b02183beecc5b2a0",
       "version_major": 2,
       "version_minor": 0
      },
      "text/plain": [
       "  0%|          | 0/31698 [00:00<?, ?it/s]"
      ]
     },
     "metadata": {},
     "output_type": "display_data"
    }
   ],
   "source": [
    "# Скопируем таблицу с признаками\n",
    "df_train_features_extended = df_train_features.copy()\n",
    "\n",
    "# Добавим новые\n",
    "add_new_features(df_train_features_extended, \n",
    "                 os.path.join(PATH_TO_DATA, \n",
    "                              \"train_raw_data.jsonl\"))"
   ]
  },
  {
   "cell_type": "markdown",
   "metadata": {},
   "source": [
    "## <left>Feature engineering"
   ]
  },
  {
   "cell_type": "code",
   "execution_count": 56,
   "metadata": {},
   "outputs": [],
   "source": [
    "train = df_train_features_extended.copy()"
   ]
  },
  {
   "cell_type": "code",
   "execution_count": 62,
   "metadata": {},
   "outputs": [
    {
     "data": {
      "text/plain": [
       "<AxesSubplot:>"
      ]
     },
     "execution_count": 62,
     "metadata": {},
     "output_type": "execute_result"
    },
    {
     "data": {
      "image/png": "[encoded data removed]",
      "text/plain": [
       "<Figure size 1800x1440 with 2 Axes>"
      ]
     },
     "metadata": {},
     "output_type": "display_data"
    }
   ],
   "source": [
    "plt.figure(figsize=(25, 20))\n",
    "\n",
    "sns.heatmap(train[['game_time', 'game_mode', 'lobby_type', 'objectives_len', 'chat_len', \n",
    "                                        'r1_hero_id', 'r1_kills', 'r1_deaths', 'r1_assists', 'r1_denies', 'r1_gold', \n",
    "                                        'r1_lh', 'r1_xp', 'r1_health', 'r1_max_health', 'r1_max_mana', 'r1_level', \n",
    "                                        'r1_x', 'r1_y', 'r1_stuns', 'r1_creeps_stacked', 'r1_camps_stacked', \n",
    "                                        'r1_rune_pickups', 'r1_firstblood_claimed', 'r1_teamfight_participation', \n",
    "                                        'r1_towers_killed', 'r1_roshans_killed', 'r1_obs_placed', 'r1_sen_placed',\n",
    "                                        'radiant_tower_kills', 'dire_tower_kills', 'diff_tower_kills', 'radiant_roshan_kills', \n",
    "                                        'dire_roshan_kills', 'diff_roshan_kills', 'first_blood', 'barracks_kill', \n",
    "                                        'aegis_stolen_diff', 'aegis_stolen_radiant', 'aegis_stolen_dire', 'aegis_denied_diff', \n",
    "                                        'aegis_denied_radiant', 'aegis_denied_dire', 'rad_ability_uses', \n",
    "                                        'dire_ability_uses'\n",
    "                                       ]].corr(),\n",
    "            linewidths=0.5, \n",
    "            cbar_kws={\"shrink\": 0.5})"
   ]
  },
  {
   "cell_type": "code",
   "execution_count": 63,
   "metadata": {},
   "outputs": [],
   "source": [
    "for i in range(1, 6):    \n",
    "    train[f'd{i}_KDA'] = np.where(train[f'd{i}_deaths'] != 0, \n",
    "                                 (train[f'd{i}_kills'] + train[f'd{i}_assists']) / train[f'd{i}_deaths'],\n",
    "                                  train[f'd{i}_kills'] + train[f'd{i}_assists'])\n",
    "        \n",
    "    train[f'r{i}_KDA'] = np.where(train[f'r{i}_deaths'] != 0, \n",
    "                                 (train[f'r{i}_kills'] + train[f'r{i}_assists']) / train[f'r{i}_deaths'],\n",
    "                                  train[f'r{i}_kills'] + train[f'r{i}_assists'])\n",
    "    \n",
    "    train = train.drop([f'd{i}_kills', f'd{i}_assists', f'd{i}_deaths',\n",
    "                        f'r{i}_kills', f'r{i}_assists', f'r{i}_deaths'],\n",
    "                      axis=1)"
   ]
  },
  {
   "cell_type": "code",
   "execution_count": 77,
   "metadata": {},
   "outputs": [],
   "source": [
    "for i in range(1, 6):\n",
    "    train = train.drop([f'd{i}_roshans_killed',\n",
    "                        f'r{i}_roshans_killed'],\n",
    "                      axis=1)"
   ]
  },
  {
   "cell_type": "code",
   "execution_count": 91,
   "metadata": {},
   "outputs": [
    {
     "data": {
      "text/plain": [
       "<AxesSubplot:>"
      ]
     },
     "execution_count": 91,
     "metadata": {},
     "output_type": "execute_result"
    },
    {
     "data": {
      "image/png": "[encoded data removed]",
      "text/plain": [
       "<Figure size 288x216 with 2 Axes>"
      ]
     },
     "metadata": {},
     "output_type": "display_data"
    }
   ],
   "source": [
    "plt.figure(figsize=(4, 3))\n",
    "sns.heatmap(train[['radiant_roshan_kills', 'dire_roshan_kills', 'diff_roshan_kills'    \n",
    "]].corr(),\n",
    "            linewidths=0.5, \n",
    "            annot=True,\n",
    "            cbar_kws={\"shrink\": 0.5})"
   ]
  },
  {
   "cell_type": "code",
   "execution_count": 99,
   "metadata": {},
   "outputs": [],
   "source": [
    "for i in range(1, 6):\n",
    "    train = train.drop([f'd{i}_level',\n",
    "                        f'r{i}_level'],\n",
    "                      axis=1)"
   ]
  },
  {
   "cell_type": "code",
   "execution_count": 102,
   "metadata": {},
   "outputs": [],
   "source": [
    "train['r_creeps_stacked'] = 0\n",
    "train['d_creeps_stacked'] = 0\n",
    "train['r_camps_stacked'] = 0\n",
    "train['d_camps_stacked'] = 0\n",
    "\n",
    "\n",
    "for i in range(1, 6):\n",
    "    train['r_creeps_stacked'] += train[f'r{i}_creeps_stacked'] \n",
    "    train['d_creeps_stacked'] += train[f'd{i}_creeps_stacked'] \n",
    "    \n",
    "    train['r_camps_stacked'] += train[f'r{i}_camps_stacked'] \n",
    "    train['d_camps_stacked'] += train[f'd{i}_camps_stacked'] \n",
    "    \n",
    "    train = train.drop([f'r{i}_creeps_stacked', f'd{i}_creeps_stacked',\n",
    "                        f'r{i}_camps_stacked', f'd{i}_camps_stacked'],\n",
    "                      axis=1)"
   ]
  },
  {
   "cell_type": "code",
   "execution_count": 111,
   "metadata": {},
   "outputs": [],
   "source": [
    "train['r_lh'] = 0\n",
    "train['d_lh'] = 0\n",
    "\n",
    "\n",
    "for i in range(1, 6):\n",
    "    train['r_lh'] += train[f'r{i}_lh'] \n",
    "    train['d_lh'] += train[f'd{i}_lh']\n",
    "    \n",
    "    train = train.drop([f'r{i}_lh',\n",
    "                        f'd{i}_lh'],\n",
    "                      axis=1)"
   ]
  },
  {
   "cell_type": "code",
   "execution_count": 118,
   "metadata": {},
   "outputs": [],
   "source": [
    "train['diff_lh'] = train['r_lh'] - train['d_lh']\n",
    "\n",
    "train = train.drop(['r_lh',\n",
    "                    'd_lh'],\n",
    "                    axis=1)"
   ]
  },
  {
   "cell_type": "code",
   "execution_count": 127,
   "metadata": {},
   "outputs": [],
   "source": [
    "train['diff_camps_stacked'] = train['r_creeps_stacked'] - train['d_creeps_stacked']\n",
    "train['diff_creeps_stacked'] = train['r_camps_stacked'] - train['d_camps_stacked']\n",
    "\n",
    "train = train.drop(['d_creeps_stacked', 'r_creeps_stacked',\n",
    "                    'd_camps_stacked', 'r_camps_stacked'],\n",
    "                    axis=1)"
   ]
  },
  {
   "cell_type": "code",
   "execution_count": 129,
   "metadata": {},
   "outputs": [],
   "source": [
    "train['d_gold'] = 0\n",
    "train['r_gold'] = 0\n",
    "\n",
    "for i in range(1, 6):\n",
    "    train['d_gold'] += train[f'r{i}_gold'] \n",
    "    train['r_gold'] += train[f'd{i}_gold'] \n",
    "    \n",
    "    train = train.drop([f'r{i}_gold',\n",
    "                        f'r{i}_gold',],\n",
    "                      axis=1)"
   ]
  },
  {
   "cell_type": "code",
   "execution_count": 131,
   "metadata": {},
   "outputs": [],
   "source": [
    "train['diff_gold'] = train['r_gold'] - train['d_gold']\n",
    "\n",
    "train = train.drop(['d_gold', \n",
    "                    'r_gold'],\n",
    "                    axis=1)"
   ]
  },
  {
   "cell_type": "code",
   "execution_count": 143,
   "metadata": {},
   "outputs": [],
   "source": [
    "train['d_xp'] = 0\n",
    "train['r_xp'] = 0\n",
    "\n",
    "for i in range(1, 6):\n",
    "    train['d_xp'] += train[f'r{i}_xp'] \n",
    "    train['r_xp'] += train[f'd{i}_xp'] \n",
    "    \n",
    "    train = train.drop([f'r{i}_xp',\n",
    "                        f'r{i}_xp',],\n",
    "                      axis=1)\n",
    "    \n",
    "train['diff_xp'] = train['r_xp'] - train['d_xp']\n",
    "\n",
    "train = train.drop(['d_xp', \n",
    "                    'r_xp'],\n",
    "                    axis=1)"
   ]
  },
  {
   "cell_type": "code",
   "execution_count": null,
   "metadata": {},
   "outputs": [],
   "source": [
    "# до этого было Score: 0.82640"
   ]
  },
  {
   "cell_type": "code",
   "execution_count": 168,
   "metadata": {},
   "outputs": [],
   "source": [
    "train = train.drop(['radiant_tower_kills', 'dire_tower_kills','radiant_roshan_kills', \n",
    "                    'dire_roshan_kills','aegis_stolen_radiant', 'aegis_stolen_dire',\n",
    "                    'aegis_denied_radiant', 'aegis_denied_dire', 'first_blood'\n",
    "                    ],\n",
    "                    axis=1)\n",
    "\n",
    "train['r_first_blood'] = 0\n",
    "train['d_first_blood'] = 0\n",
    "\n",
    "for i in range(1, 6):\n",
    "    train['r_first_blood'] += train[f'r{i}_firstblood_claimed']\n",
    "    train['d_first_blood'] += train[f'd{i}_firstblood_claimed']\n",
    "    \n",
    "    train = train.drop([f'r{i}_firstblood_claimed',\n",
    "                        f'd{i}_firstblood_claimed',],\n",
    "                      axis=1)"
   ]
  },
  {
   "cell_type": "code",
   "execution_count": 188,
   "metadata": {},
   "outputs": [],
   "source": [
    "train['first_blood'] = train['r_first_blood'] - train['d_first_blood']\n",
    "\n",
    "train = train.drop(['r_first_blood', 'd_first_blood'], axis=1)"
   ]
  },
  {
   "cell_type": "code",
   "execution_count": 195,
   "metadata": {},
   "outputs": [],
   "source": [
    "train['r_max_mana'] = 0\n",
    "train['d_max_mana'] = 0\n",
    "\n",
    "for i in range(1, 6):\n",
    "    train['r_max_mana'] += train[f'r{i}_max_mana']\n",
    "    train['d_max_mana'] += train[f'd{i}_max_mana']\n",
    "    \n",
    "    train = train.drop([f'r{i}_max_mana',\n",
    "                        f'd{i}_max_mana'],\n",
    "                      axis=1)\n",
    "    \n",
    "train['diff_max_mana'] = train['r_max_mana'] - train['d_max_mana']\n",
    "\n",
    "train = train.drop(['r_max_mana', 'd_max_mana'], axis=1)"
   ]
  },
  {
   "cell_type": "code",
   "execution_count": 201,
   "metadata": {},
   "outputs": [
    {
     "data": {
      "text/plain": [
       "<AxesSubplot:>"
      ]
     },
     "execution_count": 201,
     "metadata": {},
     "output_type": "execute_result"
    },
    {
     "data": {
      "image/png": "[encoded data removed]",
      "text/plain": [
       "<Figure size 1296x1080 with 2 Axes>"
      ]
     },
     "metadata": {},
     "output_type": "display_data"
    }
   ],
   "source": [
    "plt.figure(figsize=(18, 15))\n",
    "\n",
    "sns.heatmap(train[['game_time', 'game_mode', 'lobby_type', 'objectives_len', 'chat_len', \n",
    "                   'r1_hero_id', 'd1_KDA', 'r1_health', 'r1_max_health', \n",
    "                   'r1_x', 'r1_y', 'r1_stuns', \n",
    "                   'r1_rune_pickups', 'r1_teamfight_participation', \n",
    "                   'r1_towers_killed', 'r1_obs_placed', 'r1_sen_placed',\n",
    "                   'diff_tower_kills', 'diff_roshan_kills', \n",
    "                   'first_blood', 'barracks_kill', \n",
    "                   'diff_max_mana',\n",
    "                   'aegis_stolen_diff', 'aegis_denied_diff', 'rad_ability_uses', \n",
    "                   'dire_ability_uses', 'diff_camps_stacked',\n",
    "                   'diff_creeps_stacked', 'diff_lh', 'diff_gold', 'diff_xp'\n",
    "                    ]].corr(),\n",
    "            linewidths=0.5, \n",
    "            cbar_kws={\"shrink\": 0.5})"
   ]
  },
  {
   "cell_type": "code",
   "execution_count": 202,
   "metadata": {},
   "outputs": [
    {
     "name": "stdout",
     "output_type": "stream",
     "text": [
      "['game_time', 'game_mode', 'lobby_type', 'objectives_len', 'chat_len', 'r1_hero_id', 'r1_denies', 'r1_health', 'r1_max_health', 'r1_x', 'r1_y', 'r1_stuns', 'r1_rune_pickups', 'r1_teamfight_participation', 'r1_towers_killed', 'r1_obs_placed', 'r1_sen_placed', 'r2_hero_id', 'r2_denies', 'r2_health', 'r2_max_health', 'r2_x', 'r2_y', 'r2_stuns', 'r2_rune_pickups', 'r2_teamfight_participation', 'r2_towers_killed', 'r2_obs_placed', 'r2_sen_placed', 'r3_hero_id', 'r3_denies', 'r3_health', 'r3_max_health', 'r3_x', 'r3_y', 'r3_stuns', 'r3_rune_pickups', 'r3_teamfight_participation', 'r3_towers_killed', 'r3_obs_placed', 'r3_sen_placed', 'r4_hero_id', 'r4_denies', 'r4_health', 'r4_max_health', 'r4_x', 'r4_y', 'r4_stuns', 'r4_rune_pickups', 'r4_teamfight_participation', 'r4_towers_killed', 'r4_obs_placed', 'r4_sen_placed', 'r5_hero_id', 'r5_denies', 'r5_health', 'r5_max_health', 'r5_x', 'r5_y', 'r5_stuns', 'r5_rune_pickups', 'r5_teamfight_participation', 'r5_towers_killed', 'r5_obs_placed', 'r5_sen_placed', 'd1_hero_id', 'd1_denies', 'd1_gold', 'd1_xp', 'd1_health', 'd1_max_health', 'd1_x', 'd1_y', 'd1_stuns', 'd1_rune_pickups', 'd1_teamfight_participation', 'd1_towers_killed', 'd1_obs_placed', 'd1_sen_placed', 'd2_hero_id', 'd2_denies', 'd2_gold', 'd2_xp', 'd2_health', 'd2_max_health', 'd2_x', 'd2_y', 'd2_stuns', 'd2_rune_pickups', 'd2_teamfight_participation', 'd2_towers_killed', 'd2_obs_placed', 'd2_sen_placed', 'd3_hero_id', 'd3_denies', 'd3_gold', 'd3_xp', 'd3_health', 'd3_max_health', 'd3_x', 'd3_y', 'd3_stuns', 'd3_rune_pickups', 'd3_teamfight_participation', 'd3_towers_killed', 'd3_obs_placed', 'd3_sen_placed', 'd4_hero_id', 'd4_denies', 'd4_gold', 'd4_xp', 'd4_health', 'd4_max_health', 'd4_x', 'd4_y', 'd4_stuns', 'd4_rune_pickups', 'd4_teamfight_participation', 'd4_towers_killed', 'd4_obs_placed', 'd4_sen_placed', 'd5_hero_id', 'd5_denies', 'd5_gold', 'd5_xp', 'd5_health', 'd5_max_health', 'd5_x', 'd5_y', 'd5_stuns', 'd5_rune_pickups', 'd5_teamfight_participation', 'd5_towers_killed', 'd5_obs_placed', 'd5_sen_placed', 'diff_tower_kills', 'diff_roshan_kills', 'barracks_kill', 'aegis_stolen_diff', 'aegis_denied_diff', 'rad_ability_uses', 'dire_ability_uses', 'd1_KDA', 'r1_KDA', 'd2_KDA', 'r2_KDA', 'd3_KDA', 'r3_KDA', 'd4_KDA', 'r4_KDA', 'd5_KDA', 'r5_KDA', 'diff_lh', 'diff_camps_stacked', 'diff_creeps_stacked', 'diff_gold', 'diff_xp', 'first_blood', 'diff_max_mana']\n"
     ]
    }
   ],
   "source": [
    "print(list(train.columns))"
   ]
  },
  {
   "cell_type": "code",
   "execution_count": null,
   "metadata": {},
   "outputs": [],
   "source": []
  },
  {
   "cell_type": "code",
   "execution_count": null,
   "metadata": {},
   "outputs": [],
   "source": []
  },
  {
   "cell_type": "code",
   "execution_count": null,
   "metadata": {},
   "outputs": [],
   "source": []
  },
  {
   "cell_type": "markdown",
   "metadata": {},
   "source": [
    "# Подготовим данные теста"
   ]
  },
  {
   "cell_type": "code",
   "execution_count": 48,
   "metadata": {},
   "outputs": [],
   "source": [
    "df_test_features = pd.read_csv(os.path.join('../data', \"test_data.csv\"), \n",
    "                                            index_col=\"match_id_hash\")\n",
    "\n",
    "test = df_test_features.copy()"
   ]
  },
  {
   "cell_type": "code",
   "execution_count": 49,
   "metadata": {},
   "outputs": [
    {
     "data": {
      "application/vnd.jupyter.widget-view+json": {
       "model_id": "9a170b1d19d24f1dbfb4a94d7c0e7883",
       "version_major": 2,
       "version_minor": 0
      },
      "text/plain": [
       "  0%|          | 0/7977 [00:00<?, ?it/s]"
      ]
     },
     "metadata": {},
     "output_type": "display_data"
    }
   ],
   "source": [
    "# Скопируем таблицу с признаками\n",
    "\n",
    "# Добавим новые\n",
    "add_new_features(test, \n",
    "                 os.path.join('../data', \n",
    "                              \"test_raw_data.jsonl\"),\n",
    "                total_matches = 7977)"
   ]
  },
  {
   "cell_type": "code",
   "execution_count": 68,
   "metadata": {},
   "outputs": [],
   "source": [
    "df_test = test.copy()"
   ]
  },
  {
   "cell_type": "code",
   "execution_count": 69,
   "metadata": {},
   "outputs": [],
   "source": [
    "for i in range(1, 6):    \n",
    "    df_test[f'd{i}_KDA'] = np.where(df_test[f'd{i}_deaths'] != 0, \n",
    "                                    (df_test[f'd{i}_kills'] + df_test[f'd{i}_assists']) / df_test[f'd{i}_deaths'],\n",
    "                                    df_test[f'd{i}_kills'] + df_test[f'd{i}_assists'])\n",
    "        \n",
    "    df_test[f'r{i}_KDA'] = np.where(df_test[f'r{i}_deaths'] != 0, \n",
    "                                    (df_test[f'r{i}_kills'] + df_test[f'r{i}_assists']) / df_test[f'r{i}_deaths'],\n",
    "                                    df_test[f'r{i}_kills'] + df_test[f'r{i}_assists'])\n",
    "    \n",
    "    df_test = df_test.drop([f'd{i}_kills', f'd{i}_assists', f'd{i}_deaths',\n",
    "                            f'r{i}_kills', f'r{i}_assists', f'r{i}_deaths'],\n",
    "                            axis=1)"
   ]
  },
  {
   "cell_type": "code",
   "execution_count": 92,
   "metadata": {},
   "outputs": [],
   "source": [
    "for i in range(1, 6):\n",
    "    df_test = df_test.drop([f'd{i}_roshans_killed',\n",
    "                            f'r{i}_roshans_killed'],\n",
    "                            axis=1)"
   ]
  },
  {
   "cell_type": "code",
   "execution_count": 105,
   "metadata": {},
   "outputs": [],
   "source": [
    "for i in range(1, 6):\n",
    "    df_test = df_test.drop([f'd{i}_level',\n",
    "                        f'r{i}_level'],\n",
    "                      axis=1)"
   ]
  },
  {
   "cell_type": "code",
   "execution_count": 106,
   "metadata": {},
   "outputs": [],
   "source": [
    "df_test['r_creeps_stacked'] = 0\n",
    "df_test['d_creeps_stacked'] = 0\n",
    "df_test['r_camps_stacked'] = 0\n",
    "df_test['d_camps_stacked'] = 0\n",
    "\n",
    "\n",
    "for i in range(1, 6):\n",
    "    df_test['r_creeps_stacked'] += df_test[f'r{i}_creeps_stacked'] \n",
    "    df_test['d_creeps_stacked'] += df_test[f'd{i}_creeps_stacked'] \n",
    "    \n",
    "    df_test['r_camps_stacked'] += df_test[f'r{i}_camps_stacked'] \n",
    "    df_test['d_camps_stacked'] += df_test[f'd{i}_camps_stacked'] \n",
    "    \n",
    "    df_test = df_test.drop([f'r{i}_creeps_stacked', f'd{i}_creeps_stacked',\n",
    "                        f'r{i}_camps_stacked', f'd{i}_camps_stacked'],\n",
    "                      axis=1)"
   ]
  },
  {
   "cell_type": "code",
   "execution_count": 112,
   "metadata": {},
   "outputs": [],
   "source": [
    "df_test['r_lh'] = 0\n",
    "df_test['d_lh'] = 0\n",
    "\n",
    "\n",
    "for i in range(1, 6):\n",
    "    df_test['r_lh'] += df_test[f'r{i}_lh'] \n",
    "    df_test['d_lh'] += df_test[f'd{i}_lh']\n",
    "    \n",
    "    df_test = df_test.drop([f'r{i}_lh',\n",
    "                        f'd{i}_lh'],\n",
    "                      axis=1)"
   ]
  },
  {
   "cell_type": "code",
   "execution_count": 120,
   "metadata": {},
   "outputs": [],
   "source": [
    "df_test['diff_lh'] = df_test['r_lh'] - df_test['d_lh']\n",
    "\n",
    "df_test = df_test.drop(['r_lh',\n",
    "                        'd_lh'],\n",
    "                        axis=1)"
   ]
  },
  {
   "cell_type": "code",
   "execution_count": 134,
   "metadata": {},
   "outputs": [],
   "source": [
    "df_test['diff_camps_stacked'] = df_test['r_creeps_stacked'] - df_test['d_creeps_stacked']\n",
    "df_test['diff_creeps_stacked'] = df_test['r_camps_stacked'] - df_test['d_camps_stacked']\n",
    "\n",
    "df_test = df_test.drop(['d_creeps_stacked', 'r_creeps_stacked',\n",
    "                    'd_camps_stacked', 'r_camps_stacked'],\n",
    "                    axis=1)"
   ]
  },
  {
   "cell_type": "code",
   "execution_count": 135,
   "metadata": {},
   "outputs": [],
   "source": [
    "df_test['d_gold'] = 0\n",
    "df_test['r_gold'] = 0\n",
    "\n",
    "for i in range(1, 6):\n",
    "    df_test['d_gold'] += df_test[f'r{i}_gold'] \n",
    "    df_test['r_gold'] += df_test[f'd{i}_gold'] \n",
    "    \n",
    "    df_test = df_test.drop([f'r{i}_gold',\n",
    "                        f'r{i}_gold',],\n",
    "                      axis=1)"
   ]
  },
  {
   "cell_type": "code",
   "execution_count": 136,
   "metadata": {},
   "outputs": [],
   "source": [
    "df_test['diff_gold'] = df_test['r_gold'] - df_test['d_gold']\n",
    "\n",
    "df_test = df_test.drop(['d_gold', \n",
    "                    'r_gold'],\n",
    "                    axis=1)"
   ]
  },
  {
   "cell_type": "code",
   "execution_count": 146,
   "metadata": {},
   "outputs": [],
   "source": [
    "df_test['d_xp'] = 0\n",
    "df_test['r_xp'] = 0\n",
    "\n",
    "for i in range(1, 6):\n",
    "    df_test['d_xp'] += df_test[f'r{i}_xp'] \n",
    "    df_test['r_xp'] += df_test[f'd{i}_xp'] \n",
    "    \n",
    "    df_test = df_test.drop([f'r{i}_xp',\n",
    "                        f'r{i}_xp',],\n",
    "                      axis=1)\n",
    "    \n",
    "df_test['diff_xp'] = df_test['r_xp'] - df_test['d_xp']\n",
    "\n",
    "df_test = df_test.drop(['d_xp', \n",
    "                    'r_xp'],\n",
    "                    axis=1)"
   ]
  },
  {
   "cell_type": "code",
   "execution_count": null,
   "metadata": {},
   "outputs": [],
   "source": [
    "# 8.2"
   ]
  },
  {
   "cell_type": "code",
   "execution_count": null,
   "metadata": {},
   "outputs": [],
   "source": [
    "#df_test = df_test.drop(['radiant_tower_kills', 'dire_tower_kills','radiant_roshan_kills', \n",
    "#                       'dire_roshan_kills','aegis_stolen_radiant', 'aegis_stolen_dire',\n",
    "#                        'aegis_denied_radiant', 'aegis_denied_dire', 'first_blood'],\n",
    "#                    axis=1)"
   ]
  },
  {
   "cell_type": "code",
   "execution_count": 180,
   "metadata": {},
   "outputs": [],
   "source": [
    "df_test = df_test.drop(['first_blood'], axis=1)"
   ]
  },
  {
   "cell_type": "code",
   "execution_count": 181,
   "metadata": {},
   "outputs": [],
   "source": [
    "df_test['r_first_blood'] = 0\n",
    "df_test['d_first_blood'] = 0\n",
    "\n",
    "for i in range(1, 6):\n",
    "    df_test['r_first_blood'] += df_test[f'r{i}_firstblood_claimed']\n",
    "    df_test['d_first_blood'] += df_test[f'd{i}_firstblood_claimed']\n",
    "    \n",
    "    df_test = df_test.drop([f'r{i}_firstblood_claimed',\n",
    "                        f'd{i}_firstblood_claimed',],\n",
    "                      axis=1)"
   ]
  },
  {
   "cell_type": "code",
   "execution_count": 192,
   "metadata": {},
   "outputs": [],
   "source": [
    "df_test['first_blood'] = df_test['r_first_blood'] - df_test['d_first_blood']\n",
    "\n",
    "df_test = df_test.drop(['r_first_blood', 'd_first_blood'], axis=1)"
   ]
  },
  {
   "cell_type": "code",
   "execution_count": 203,
   "metadata": {},
   "outputs": [],
   "source": [
    "df_test['r_max_mana'] = 0\n",
    "df_test['d_max_mana'] = 0\n",
    "\n",
    "for i in range(1, 6):\n",
    "    df_test['r_max_mana'] += df_test[f'r{i}_max_mana']\n",
    "    df_test['d_max_mana'] += df_test[f'd{i}_max_mana']\n",
    "    \n",
    "    df_test = df_test.drop([f'r{i}_max_mana',\n",
    "                        f'd{i}_max_mana'],\n",
    "                      axis=1)\n",
    "    \n",
    "df_test['diff_max_mana'] = df_test['r_max_mana'] - df_test['d_max_mana']\n",
    "\n",
    "df_test = df_test.drop(['r_max_mana', 'd_max_mana'], axis=1)"
   ]
  },
  {
   "cell_type": "code",
   "execution_count": null,
   "metadata": {},
   "outputs": [],
   "source": []
  },
  {
   "cell_type": "code",
   "execution_count": null,
   "metadata": {},
   "outputs": [],
   "source": []
  },
  {
   "cell_type": "code",
   "execution_count": null,
   "metadata": {},
   "outputs": [],
   "source": []
  },
  {
   "cell_type": "markdown",
   "metadata": {},
   "source": [
    "# Тест получившегося"
   ]
  },
  {
   "cell_type": "code",
   "execution_count": 204,
   "metadata": {},
   "outputs": [
    {
     "name": "stdout",
     "output_type": "stream",
     "text": [
      "Среднее значение ROC-AUC на кросс-валидации: 0.7778841417472704\n",
      "CPU times: user 12.4 s, sys: 1.58 s, total: 14 s\n",
      "Wall time: 41.5 s\n"
     ]
    }
   ],
   "source": [
    "%%time\n",
    "\n",
    "X = df_train_features_extended.values\n",
    "y = df_train_targets[\"radiant_win\"].values.astype(\"int8\")\n",
    "\n",
    "X_train, X_valid, y_train, y_valid = train_test_split(X, y, \n",
    "                                                      test_size=0.3, \n",
    "                                                      random_state=SEED)\n",
    "\n",
    "cv = ShuffleSplit(n_splits=5, test_size=0.3, random_state=SEED)\n",
    "\n",
    "rf_model = RandomForestClassifier(n_estimators=300, max_depth=7, n_jobs=-1, random_state=SEED)\n",
    "cv_scores_rf = cross_val_score(rf_model, X, y, cv=cv, scoring=\"roc_auc\")\n",
    "\n",
    "print(f\"Среднее значение ROC-AUC на кросс-валидации: {cv_scores_rf.mean()}\")"
   ]
  },
  {
   "cell_type": "code",
   "execution_count": 205,
   "metadata": {},
   "outputs": [
    {
     "data": {
      "text/plain": [
       "RandomForestClassifier(max_depth=7, n_estimators=300, n_jobs=-1,\n",
       "                       random_state=10801)"
      ]
     },
     "execution_count": 205,
     "metadata": {},
     "output_type": "execute_result"
    }
   ],
   "source": [
    "rf_model.fit(X_train, y_train)"
   ]
  },
  {
   "cell_type": "code",
   "execution_count": 206,
   "metadata": {},
   "outputs": [
    {
     "name": "stdout",
     "output_type": "stream",
     "text": [
      "ROC-AUC score на отложенной части: 0.7780016111389627\n",
      "Accuracy score (p > 0.5) на отложенной части: 0.6982124079915878\n"
     ]
    }
   ],
   "source": [
    "y_pred = rf_model.predict_proba(X_valid)[:, 1]\n",
    "\n",
    "valid_score = roc_auc_score(y_valid, y_pred)\n",
    "print(\"ROC-AUC score на отложенной части:\", valid_score)\n",
    "\n",
    "valid_accuracy = accuracy_score(y_valid, y_pred > 0.5)\n",
    "print(\"Accuracy score (p > 0.5) на отложенной части:\", valid_accuracy)"
   ]
  },
  {
   "cell_type": "markdown",
   "metadata": {},
   "source": [
    "# Подготовим посылку"
   ]
  },
  {
   "cell_type": "code",
   "execution_count": 207,
   "metadata": {},
   "outputs": [
    {
     "name": "stdout",
     "output_type": "stream",
     "text": [
      "Файл посылки сохранен, как: submission_2022-03-26_20-00-36.csv\n"
     ]
    }
   ],
   "source": [
    "rf_model = RandomForestClassifier(n_estimators=300, max_depth=7, n_jobs=-1, random_state=SEED)\n",
    "rf_model.fit(train, y)\n",
    "\n",
    "y_test_pred = rf_model.predict_proba(df_test)[:, 1]\n",
    "\n",
    "df_submission = pd.DataFrame({\"radiant_win_prob\": y_test_pred}, \n",
    "                                 index=df_test.index)\n",
    "\n",
    "submission_filename = \"submission_{}.csv\".format(\n",
    "    datetime.datetime.now().strftime(\"%Y-%m-%d_%H-%M-%S\"))\n",
    "\n",
    "df_submission.to_csv(''.join(['../data/', submission_filename]))\n",
    "\n",
    "print(\"Файл посылки сохранен, как: {}\".format(submission_filename))"
   ]
  },
  {
   "cell_type": "markdown",
   "metadata": {},
   "source": [
    "# GS"
   ]
  },
  {
   "cell_type": "code",
   "execution_count": null,
   "metadata": {},
   "outputs": [],
   "source": []
  },
  {
   "cell_type": "code",
   "execution_count": null,
   "metadata": {},
   "outputs": [],
   "source": []
  },
  {
   "cell_type": "code",
   "execution_count": null,
   "metadata": {},
   "outputs": [],
   "source": []
  },
  {
   "cell_type": "code",
   "execution_count": null,
   "metadata": {},
   "outputs": [],
   "source": []
  }
 ],
 "metadata": {
  "kernelspec": {
   "display_name": "Python 3 (ipykernel)",
   "language": "python",
   "name": "python3"
  },
  "language_info": {
   "codemirror_mode": {
    "name": "ipython",
    "version": 3
   },
   "file_extension": ".py",
   "mimetype": "text/x-python",
   "name": "python",
   "nbconvert_exporter": "python",
   "pygments_lexer": "ipython3",
   "version": "3.10.1"
  }
 },
 "nbformat": 4,
 "nbformat_minor": 4
}
