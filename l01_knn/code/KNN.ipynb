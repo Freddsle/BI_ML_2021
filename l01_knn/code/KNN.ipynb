{
 "cells": [
  {
   "cell_type": "markdown",
   "id": "39a37345-99a6-4b16-9be7-ebdca1414c7f",
   "metadata": {},
   "source": [
    "# Домашнее задание №1 - Метод К-ближайших соседей (K-neariest neighbors)\n",
    "\n",
    "Сегодня мы с вами реализуем наш первый алгоритм машинного обучения, метод К-ближайших соседей. Мы попытаемся решить с помощью него задачи:\n",
    "- бинарной классификации (то есть, только двум классам)\n",
    "- многоклассовой классификации (то есть, нескольким классам)\n",
    "- регрессии (когда зависимая переменная - натуральное число)\n",
    "\n",
    "Так как методу необходим гиперпараметр (hyperparameter) - количество соседей, то нам нужно научиться подбирать этот параметр. Мы постараемся научиться пользовать numpy для векторизованных вычислений, а также посмотрим на несколько метрик, которые используются в задачах классификации и регрессии.\n",
    "\n",
    "Перед выполнением задания:\n",
    "- установите все необходимые библиотеки, запустив `pip install -r requirements.txt`\n",
    "\n",
    "Если вы раньше не работали с numpy или позабыли его, то можно вспомнить здесь:  \n",
    "http://cs231n.github.io/python-numpy-tutorial/"
   ]
  },
  {
   "cell_type": "code",
   "execution_count": 40,
   "id": "9638c464-806f-41b5-9dfe-1ea2048a1fa1",
   "metadata": {},
   "outputs": [],
   "source": [
    "import time\n",
    "import matplotlib.pyplot as plt\n",
    "import seaborn as sns\n",
    "import numpy as np\n",
    "import random\n",
    "import pandas as pd\n",
    "\n",
    "\n",
    "from sklearn.datasets import fetch_openml\n",
    "from sklearn.model_selection import train_test_split\n",
    "from knn import KNNClassifier\n",
    "from metrics import binary_classification_metrics, multiclass_accuracy"
   ]
  },
  {
   "cell_type": "code",
   "execution_count": 41,
   "id": "43bd8dc9-c430-4313-a6a1-4d3e5a7e9c47",
   "metadata": {},
   "outputs": [],
   "source": [
    "plt.rcParams[\"figure.figsize\"] = 12, 9\n",
    "sns.set_style(\"whitegrid\")\n",
    "\n",
    "SEED = 111\n",
    "random.seed(SEED)\n",
    "np.random.seed(SEED)"
   ]
  },
  {
   "cell_type": "markdown",
   "id": "2867b963-214c-49ea-9460-5b427b56544d",
   "metadata": {},
   "source": [
    "## Задание 1. KNN на датасете Fashion-MNIST (10 баллов)"
   ]
  },
  {
   "cell_type": "markdown",
   "id": "60a90da7-87ac-42e6-b376-bb34dac2b10b",
   "metadata": {},
   "source": [
    "В этом задании вам предстоит поработать с картинками одежды, среди которых можно выделить **10 классов**. \n",
    "\n",
    "Данные уже загружены за вас: **в переменной X лежат 70000 картинок размером 28 на 28 пикселей, вытянутые в вектор размерностью 784 (28 * 28)**. \n",
    "\n",
    "Так как данных довольно много, а наш KNN будет весьма медленный, то возьмем **случайно 1000 наблюдений** (в реальности в зависимости от вашей реализации можно будет взять больше, но если будет не зватать ОЗУ, то берите меньше)."
   ]
  },
  {
   "cell_type": "code",
   "execution_count": 42,
   "id": "54fa4253-ea6a-4ec4-b914-f7cb2346b195",
   "metadata": {},
   "outputs": [],
   "source": [
    "X, y = fetch_openml(name=\"Fashion-MNIST\", return_X_y=True, as_frame=False)"
   ]
  },
  {
   "cell_type": "code",
   "execution_count": 43,
   "id": "3a188c83-6bf3-485d-9995-9f71d0868d30",
   "metadata": {},
   "outputs": [],
   "source": [
    "idx_to_stay = np.random.choice(np.arange(X.shape[0]), replace=False, size=1000)\n",
    "X = X[idx_to_stay]\n",
    "y = y[idx_to_stay]"
   ]
  },
  {
   "cell_type": "code",
   "execution_count": 44,
   "id": "6dccb7bc",
   "metadata": {},
   "outputs": [],
   "source": [
    "# classes strings to numbers\n",
    "y = y.astype('int32')"
   ]
  },
  {
   "cell_type": "markdown",
   "id": "4a9e7f89-97f9-4257-94aa-989826258726",
   "metadata": {},
   "source": [
    "Давайте посмотрим на какое-нибудь изображение из наших данных:"
   ]
  },
  {
   "cell_type": "code",
   "execution_count": 9,
   "id": "277e132c-b89f-4dbb-8efd-cbcea015876d",
   "metadata": {},
   "outputs": [
    {
     "data": {
      "image/png": "[encoded data removed]",
      "text/plain": [
       "<Figure size 360x216 with 1 Axes>"
      ]
     },
     "metadata": {},
     "output_type": "display_data"
    }
   ],
   "source": [
    "# возьмем случайную картинку и сделаем reshape\n",
    "# 28, 28, 1 = H, W, C (число каналов, в данном случае 1)\n",
    "image = X[np.random.choice(np.arange(X.shape[0]))].reshape(28, 28, 1)\n",
    "plt.figure(figsize = (5, 3))\n",
    "plt.imshow(image)\n",
    "plt.axis(\"off\");"
   ]
  },
  {
   "cell_type": "markdown",
   "id": "236e593f-595e-45f1-a794-4069a16637d7",
   "metadata": {},
   "source": [
    "### 1.1. Посмотрим на все классы (0.5 баллов)"
   ]
  },
  {
   "cell_type": "markdown",
   "id": "8cdf3ab2-47a4-492f-bf9a-25c4b00eb945",
   "metadata": {},
   "source": [
    "Возьмите по одной картинке каждого класса и изобразите их (например, сделайте subplots 5 на 2)."
   ]
  },
  {
   "cell_type": "code",
   "execution_count": 10,
   "id": "34505f62",
   "metadata": {},
   "outputs": [
    {
     "data": {
      "image/png": "[encoded data removed]",
      "text/plain": [
       "<Figure size 720x360 with 10 Axes>"
      ]
     },
     "metadata": {},
     "output_type": "display_data"
    }
   ],
   "source": [
    "plotted = set()\n",
    "plt.figure(figsize = (10, 5))\n",
    "\n",
    "for j, group in enumerate(y):\n",
    "    i = int(group)\n",
    "    if i not in plotted:\n",
    "        plt.subplot(2, 5, i + 1)\n",
    "        plt.imshow(X[j].reshape(28, 28, 1), cmap = \"gray_r\")\n",
    "        plt.title(f'class {i}')\n",
    "        plt.axis('off')\n",
    "        \n",
    "        plotted.add(i)\n",
    "            "
   ]
  },
  {
   "cell_type": "markdown",
   "id": "866ea214-4de8-41b8-a2aa-c86ac0a04b74",
   "metadata": {},
   "source": [
    "### 1.2. Сделайте небольшой EDA (1 балл)"
   ]
  },
  {
   "cell_type": "markdown",
   "id": "1fe3abdf-2c95-4ce8-8fd3-2445d815ea3c",
   "metadata": {},
   "source": [
    "Посмотрите на баланс классов. В дальнейших домашках делайте EDA, когда считаете нужным, он нужен почти всегда, но оцениваться это уже не будет, если не будет указано иное. Делайте EDA, чтобы узнать что-то новое о данных!"
   ]
  },
  {
   "cell_type": "code",
   "execution_count": 45,
   "id": "74595ef7-06ab-4700-b9d9-42db3fdd36d5",
   "metadata": {},
   "outputs": [
    {
     "name": "stdout",
     "output_type": "stream",
     "text": [
      "(1000, 784) (1000,)\n"
     ]
    },
    {
     "data": {
      "text/plain": [
       "3    121\n",
       "8    109\n",
       "9    106\n",
       "1    102\n",
       "6    101\n",
       "5     98\n",
       "4     96\n",
       "2     95\n",
       "0     93\n",
       "7     79\n",
       "dtype: int64"
      ]
     },
     "execution_count": 45,
     "metadata": {},
     "output_type": "execute_result"
    }
   ],
   "source": [
    "print(X.shape, y.shape)\n",
    "\n",
    "df_describe = pd.DataFrame(y)\n",
    "df_describe.value_counts()\n"
   ]
  },
  {
   "cell_type": "markdown",
   "id": "adefdf22",
   "metadata": {},
   "source": [
    "Сбалансированно."
   ]
  },
  {
   "cell_type": "markdown",
   "id": "68e8f61e-32d5-4ad7-9f2c-f7e0de050d32",
   "metadata": {},
   "source": [
    "### 1.3. Разделите данные на train и test (0.5 баллов)"
   ]
  },
  {
   "cell_type": "markdown",
   "id": "25cf3d30-6bd6-4bbb-bba6-4e249da33475",
   "metadata": {},
   "source": [
    "Разделите данные на тренировочную и тестовую выборки, размеры тестовой выборки выберите сами. Здесь вам может помочь функция `train_test_split`"
   ]
  },
  {
   "cell_type": "code",
   "execution_count": 46,
   "id": "1932bd43-16d6-4201-8950-7dbe720a9fa1",
   "metadata": {},
   "outputs": [
    {
     "name": "stdout",
     "output_type": "stream",
     "text": [
      "Size of X_train:  (900, 784)\n",
      "Size of X_test:  (100, 784)\n",
      "Size of y_train:  (900,)\n",
      "Size of y_test:  (100,)\n"
     ]
    }
   ],
   "source": [
    "X_train, X_test, y_train, y_test = train_test_split(X, y, test_size=0.1)\n",
    "\n",
    "print('Size of X_train: ', X_train.shape)\n",
    "print('Size of X_test: ', X_test.shape)\n",
    "\n",
    "print('Size of y_train: ', y_train.shape)\n",
    "print('Size of y_test: ', y_test.shape)"
   ]
  },
  {
   "cell_type": "markdown",
   "id": "7c8e4cd4-b3d7-49b7-9b10-be02991ecfa7",
   "metadata": {},
   "source": [
    "### 1.4. KNN для бинарной классификации (6 баллов)"
   ]
  },
  {
   "cell_type": "markdown",
   "id": "aac2e121-639a-4b0c-8e9c-471ad5a8fac6",
   "metadata": {},
   "source": [
    "Давайте возьмем для задачи бинарной классификации только объекты с метками классов 0 и 1."
   ]
  },
  {
   "cell_type": "code",
   "execution_count": 47,
   "id": "f40beae7-54a4-4323-b467-3173737dfd84",
   "metadata": {},
   "outputs": [],
   "source": [
    "binary_train_y = y_train[np.bitwise_or(y_train == 0, y_train == 1)]\n",
    "binary_train_X = X_train[np.bitwise_or(y_train == 0, y_train == 1)]\n",
    "\n",
    "binary_test_y = y_test[np.bitwise_or(y_test == 0, y_test == 1)]\n",
    "binary_test_X = X_test[np.bitwise_or(y_test == 0, y_test == 1)]"
   ]
  },
  {
   "cell_type": "code",
   "execution_count": 48,
   "id": "8141ed9b",
   "metadata": {},
   "outputs": [
    {
     "name": "stdout",
     "output_type": "stream",
     "text": [
      "binary_train_y: (175,)\n",
      "binary_train_X: (175, 784)\n",
      "binary_test_y: (20,)\n",
      "binary_test_X: (20, 784)\n"
     ]
    }
   ],
   "source": [
    "print(f'binary_train_y: {binary_train_y.shape}')\n",
    "print(f'binary_train_X: {binary_train_X.shape}')\n",
    "\n",
    "print(f'binary_test_y: {binary_test_y.shape}')\n",
    "print(f'binary_test_X: {binary_test_X.shape}')"
   ]
  },
  {
   "cell_type": "markdown",
   "id": "7df7db35-8832-47ec-9955-d0656695e7cd",
   "metadata": {},
   "source": [
    "И вот мы подготовили данные, но модели у нас пока что нет. В нескольких занятиях нашего курса вам придется самостоятельно реализовывать какие-то алгоритмы машинного обучения, а потом сравнивать их с готовыми библиотечными решениями. В остальных заданиях реализовывать алгоритмы будет не обязательно, но может быть полезно, поэтому часто это будут задания на дополнительные баллы, но главное не это, а понимание работы алгоритма после его реализации с нуля на простом numpy. Также это все потом можно оформить в виде репозитория ml_from_scratch и хвастаться перед друзьями."
   ]
  },
  {
   "cell_type": "code",
   "execution_count": 15,
   "id": "44d468e9-2a00-4268-bfdc-fbae3857ce90",
   "metadata": {},
   "outputs": [],
   "source": [
    "knn_classifier = KNNClassifier(k=1)\n",
    "knn_classifier.fit(binary_train_X, binary_train_y)"
   ]
  },
  {
   "cell_type": "markdown",
   "id": "c5817a1d-161e-4242-bea5-821f416b3eec",
   "metadata": {},
   "source": [
    "### Настало время писать код!"
   ]
  },
  {
   "cell_type": "markdown",
   "id": "61c760bb-63c9-426d-9f4e-8fab02536da5",
   "metadata": {},
   "source": [
    "В KNN нам нужно для каждого тестового примера найти расстояния до всех точек обучающей выборки. Допустим у нас 1000 примеров в train'е и 100 в test'е, тогда в итоге мы бы хотели получить матрицу попарных расстояний (например, размерностью 100 на 1000). Это можно сделать несколькими способами, и кому-то наверняка, в голову приходит идея с двумя вложенными циклами (надеюсь, что не больше:). Так можно делать, то можно и эффективнее. Вообще, в реальном KNN используется структура данных [k-d-tree](https://ru.wikipedia.org/wiki/K-d-%D0%B4%D0%B5%D1%80%D0%B5%D0%B2%D0%BE), которая позволяет производить поиск за log(N), а не за N, как будем делать мы (по сути это такое расширение бинарного поиска на многомерное пространство).\n",
    "\n",
    "Вам нужно будет последовательно реализовать методы `compute_distances_two_loops`, `compute_distances_one_loop` и `compute_distances_no_loops` класса `KNN` в файле `knn.py`.\n",
    "\n",
    "Эти функции строят массив расстояний между всеми векторами в тестовом наборе и в тренировочном наборе.  \n",
    "В результате они должны построить массив размера `(num_test, num_train)`, где координата `[i][j]` соотвествует расстоянию между i-м вектором в test (`test[i]`) и j-м вектором в train (`train[j]`).\n",
    "\n",
    "**Обратите внимание** Для простоты реализации мы будем использовать в качестве расстояния меру L1 (ее еще называют [Manhattan distance](https://ru.wikipedia.org/wiki/%D0%A0%D0%B0%D1%81%D1%81%D1%82%D0%BE%D1%8F%D0%BD%D0%B8%D0%B5_%D0%B3%D0%BE%D1%80%D0%BE%D0%B4%D1%81%D0%BA%D0%B8%D1%85_%D0%BA%D0%B2%D0%B0%D1%80%D1%82%D0%B0%D0%BB%D0%BE%D0%B2)).\n",
    "\n",
    "$d_{1}(\\mathbf {p} ,\\mathbf {q} )=\\|\\mathbf {p} -\\mathbf {q} \\|_{1}=\\sum _{i=1}^{n}|p_{i}-q_{i}|$"
   ]
  },
  {
   "cell_type": "markdown",
   "id": "c32db2d0-355c-4d74-961e-22d6f42aa11b",
   "metadata": {},
   "source": [
    "В начале я буду иногда писать разные assert'ы, чтобы можно было проверить правильность реализации, в дальнейшем вам нужно будет их писать самим, если нужно будет проверять корректность каких-то вычислений."
   ]
  },
  {
   "cell_type": "code",
   "execution_count": 16,
   "id": "01b1ef27-4284-4d6c-978b-25f0fefd39be",
   "metadata": {},
   "outputs": [],
   "source": [
    "# TODO: compute_distances_two_loops\n",
    "dists = knn_classifier.compute_distances_two_loops(binary_test_X)\n",
    "assert np.isclose(dists[0, 100], np.sum(np.abs(binary_test_X[0] - binary_train_X[100])))"
   ]
  },
  {
   "cell_type": "code",
   "execution_count": 17,
   "id": "505e2c4b-1cfe-4e4a-8002-d9ce089d100e",
   "metadata": {},
   "outputs": [],
   "source": [
    "# TODO: compute_distances_one_loop\n",
    "dists = knn_classifier.compute_distances_one_loop(binary_test_X)\n",
    "assert np.isclose(dists[0, 100], np.sum(np.abs(binary_test_X[0] - binary_train_X[100])))"
   ]
  },
  {
   "cell_type": "code",
   "execution_count": 24,
   "id": "dd81b766-5de2-4f62-82cf-8b6bd52002db",
   "metadata": {},
   "outputs": [],
   "source": [
    "# TODO: compute_distances_no_loops\n",
    "dists = knn_classifier.compute_distances_no_loops(binary_test_X)\n",
    "assert np.isclose(dists[0, 100], np.sum(np.abs(binary_test_X[0] - binary_train_X[100])))"
   ]
  },
  {
   "cell_type": "markdown",
   "id": "64d108b7-b132-42b5-bdca-bc91af8ed3d7",
   "metadata": {},
   "source": [
    "Проверим скорость работы реализованных методов"
   ]
  },
  {
   "cell_type": "code",
   "execution_count": 19,
   "id": "8ed08354-d0ef-497a-9d9c-b17c92b7bef9",
   "metadata": {},
   "outputs": [
    {
     "name": "stdout",
     "output_type": "stream",
     "text": [
      "130 ms ± 2.31 ms per loop (mean ± std. dev. of 7 runs, 10 loops each)\n",
      "33.2 ms ± 4.33 ms per loop (mean ± std. dev. of 7 runs, 10 loops each)\n",
      "15.2 ms ± 125 µs per loop (mean ± std. dev. of 7 runs, 100 loops each)\n"
     ]
    }
   ],
   "source": [
    "%timeit knn_classifier.compute_distances_two_loops(binary_test_X)\n",
    "%timeit knn_classifier.compute_distances_one_loop(binary_test_X)\n",
    "%timeit knn_classifier.compute_distances_no_loops(binary_test_X)"
   ]
  },
  {
   "cell_type": "markdown",
   "id": "8180ecc3-8c24-4564-8963-1a0123b06043",
   "metadata": {},
   "source": [
    "Реализуем метод для предсказания меток класса"
   ]
  },
  {
   "cell_type": "code",
   "execution_count": 20,
   "id": "9ca2679e-c731-467b-94b5-91a3a0641d7e",
   "metadata": {},
   "outputs": [],
   "source": [
    "# TODO: predict_labels_binary in knn.py\n",
    "prediction = knn_classifier.predict(binary_test_X)"
   ]
  },
  {
   "cell_type": "markdown",
   "id": "d746796d-6ca0-4828-be8a-8b9e22999f54",
   "metadata": {},
   "source": [
    "### Метрика"
   ]
  },
  {
   "cell_type": "markdown",
   "id": "c29f2abf-be34-4273-a7cd-d2c62ba1eecc",
   "metadata": {},
   "source": [
    "Теперь нужно реализовать несколько метрик для бинарной классификации. Не забудьте подумать о численной нестабильности (деление на 0)."
   ]
  },
  {
   "cell_type": "code",
   "execution_count": 21,
   "id": "94268969-5334-4672-a939-65733068a89a",
   "metadata": {},
   "outputs": [],
   "source": [
    "# TODO: binary_classification_metrics in metrics.py"
   ]
  },
  {
   "cell_type": "code",
   "execution_count": 23,
   "id": "7842978b-a328-4035-b9c4-eb3711cb58c4",
   "metadata": {},
   "outputs": [
    {
     "name": "stdout",
     "output_type": "stream",
     "text": [
      "precision: 1.0, \n",
      "recall: 0.96875, \n",
      "f1 score: 0.9841269841269841, \n",
      "accuracy: 0.9841269841269841\n"
     ]
    }
   ],
   "source": [
    "precision, recall, f1, accuracy = binary_classification_metrics(prediction, binary_test_y)\n",
    "print(f'precision: {precision}, \\nrecall: {recall}, \\nf1 score: {f1}, \\naccuracy: {accuracy}')"
   ]
  },
  {
   "cell_type": "markdown",
   "id": "71dbca1f-9ad4-4059-9b1c-0c0c85d7d816",
   "metadata": {},
   "source": [
    "Все ли хорошо с моделью? Можно проверить свою реализацию с функциями из библиотеки `sklearn`:"
   ]
  },
  {
   "cell_type": "markdown",
   "id": "5982d081-ddf9-4522-99b0-459a5cee087c",
   "metadata": {},
   "source": [
    "<img src=\"https://i.imgflip.com/406fu9.jpg\" width=\"800\" height=\"400\">"
   ]
  },
  {
   "cell_type": "code",
   "execution_count": 25,
   "id": "5caeb94f-6464-4adf-b3b6-8e12bf4a50b4",
   "metadata": {},
   "outputs": [],
   "source": [
    "from sklearn.metrics import precision_score, recall_score, f1_score, accuracy_score"
   ]
  },
  {
   "cell_type": "code",
   "execution_count": 26,
   "id": "53b7a509",
   "metadata": {},
   "outputs": [
    {
     "name": "stdout",
     "output_type": "stream",
     "text": [
      "precision_score: 1.0\n",
      "recall_score: 0.96875\n",
      "f1_score: 0.9841269841269841\n",
      "accuracy_score: 0.9841269841269841\n"
     ]
    }
   ],
   "source": [
    "print(f'precision_score: {precision_score(binary_test_y, prediction)}')\n",
    "print(f'recall_score: {recall_score(binary_test_y, prediction)}')\n",
    "print(f'f1_score: {f1_score(binary_test_y, prediction)}')\n",
    "print(f'accuracy_score: {accuracy_score(binary_test_y, prediction)}')"
   ]
  },
  {
   "cell_type": "markdown",
   "id": "6e9b0e1a-3c67-4cc3-bf75-6848f43e8256",
   "metadata": {},
   "source": [
    "### Подбор оптимального k"
   ]
  },
  {
   "cell_type": "markdown",
   "id": "4069069e-f200-4673-a99c-745e7a5b6b36",
   "metadata": {},
   "source": [
    "Чтобы подрбрать оптимальное значение параметра k можно сделать следующее: задать область допустимых значений k, например, `[1, 3, 5, 10]`. Дальше для каждого k обучить модель на тренировочных данных, сделать предсказания на тестовых и посчитать какую-нибудь метрику (метрику выберите сами исходя из задачи, но постарайтесь обосновать выбор). В конце нужно посмотреть на зависимость метрики на train'е и test'е от k и выбрать подходящее значение.\n",
    "\n",
    "Реализуйте функцию `choose_best_k` прямо в ноутбуке."
   ]
  },
  {
   "cell_type": "code",
   "execution_count": 27,
   "id": "374d6fcf-21f2-433c-b011-76019201ce52",
   "metadata": {},
   "outputs": [],
   "source": [
    "def find_best_k(X_train, y_train, X_test, y_test, params, metric):\n",
    "    \"\"\"\n",
    "    Choose the best k for KKNClassifier\n",
    "\n",
    "    Arguments:\n",
    "    X_train, np array (num_train_samples, num_features) - train data\n",
    "    y_train, np array (num_train_samples) - train labels\n",
    "    X_test, np array (num_test_samples, num_features) - test data\n",
    "    y_test, np array (num_test_samples) - test labels\n",
    "    params, list of hyperparameters for KNN, here it is list of k values\n",
    "    metric, function for metric calculation\n",
    "\n",
    "    Returns:\n",
    "    train_metrics the list of metric values on train data set for each k in params\n",
    "    test_metrics the list of metric values on test data set for each k in params\n",
    "    \"\"\"\n",
    "    train_metrics = []\n",
    "    test_metrics = []\n",
    "    \n",
    "    for k in params:\n",
    "        find_knn_classifier = KNNClassifier(k=k)\n",
    "        find_knn_classifier.fit(X_train, y_train)\n",
    "        \n",
    "        y_train_pred = find_knn_classifier.predict(X_train)\n",
    "        y_test_pred = find_knn_classifier.predict(X_test)\n",
    "\n",
    "        train_metrics.append(metric(y_train, y_train_pred))\n",
    "        test_metrics.append(metric(y_test, y_test_pred))\n",
    "    \n",
    "    return train_metrics, test_metrics"
   ]
  },
  {
   "cell_type": "markdown",
   "id": "a707311d",
   "metadata": {},
   "source": [
    "Используем `accuracy_score`, так как по нему можно узнать сколько правильных предсказаний у нас среди всех предскзаний. (\"Accuracy is the probability that the model prediction is correct. [link](https://arxiv.org/pdf/2008.05756.pdf#:~:text=Accuracy%20is%20one%20of%20the,computed%20from%20the%20confusion%20matrix.&text=The%20formula%20of%20the%20Accuracy,confusion%20matrix%20at%20the%20denominator.))"
   ]
  },
  {
   "cell_type": "code",
   "execution_count": 28,
   "id": "a2418dd8-93f1-4a11-8488-a8bce98e7d5f",
   "metadata": {
    "tags": []
   },
   "outputs": [],
   "source": [
    "# params = [1, 2, 4, 5, 8, 10, 30, 100]\n",
    "params = list(range(1, 200))\n",
    "train_metrics, test_metrics = find_best_k(binary_train_X, binary_train_y, \n",
    "                                          binary_test_X, binary_test_y, \n",
    "                                          params, accuracy_score)"
   ]
  },
  {
   "cell_type": "code",
   "execution_count": 29,
   "id": "c51581ce",
   "metadata": {},
   "outputs": [
    {
     "name": "stdout",
     "output_type": "stream",
     "text": [
      "With k = 1:\ttrain accuracy_score: 1.0,  \ttest accuracy_score: 0.9841\n",
      "With k = 2:\ttrain accuracy_score: 1.0,  \ttest accuracy_score: 0.9841\n",
      "With k = 3:\ttrain accuracy_score: 0.9841,  \ttest accuracy_score: 0.9841\n",
      "With k = 4:\ttrain accuracy_score: 0.99,  \ttest accuracy_score: 0.9841\n",
      "With k = 5:\ttrain accuracy_score: 0.9861,  \ttest accuracy_score: 0.9841\n",
      "With k = 6:\ttrain accuracy_score: 0.992,  \ttest accuracy_score: 0.9841\n",
      "With k = 7:\ttrain accuracy_score: 0.9841,  \ttest accuracy_score: 0.9841\n",
      "With k = 8:\ttrain accuracy_score: 0.988,  \ttest accuracy_score: 0.9841\n",
      "With k = 9:\ttrain accuracy_score: 0.9841,  \ttest accuracy_score: 0.9841\n",
      "With k = 10:\ttrain accuracy_score: 0.9861,  \ttest accuracy_score: 0.9841\n",
      "With k = 11:\ttrain accuracy_score: 0.9741,  \ttest accuracy_score: 0.9683\n",
      "With k = 12:\ttrain accuracy_score: 0.9821,  \ttest accuracy_score: 0.9841\n",
      "With k = 13:\ttrain accuracy_score: 0.9781,  \ttest accuracy_score: 0.9683\n",
      "With k = 14:\ttrain accuracy_score: 0.9781,  \ttest accuracy_score: 0.9683\n",
      "With k = 15:\ttrain accuracy_score: 0.9781,  \ttest accuracy_score: 0.9683\n",
      "With k = 16:\ttrain accuracy_score: 0.9801,  \ttest accuracy_score: 0.9683\n",
      "With k = 17:\ttrain accuracy_score: 0.9761,  \ttest accuracy_score: 0.9683\n",
      "With k = 18:\ttrain accuracy_score: 0.9781,  \ttest accuracy_score: 0.9683\n",
      "With k = 19:\ttrain accuracy_score: 0.9761,  \ttest accuracy_score: 0.9683\n",
      "With k = 20:\ttrain accuracy_score: 0.9781,  \ttest accuracy_score: 0.9683\n",
      "With k = 21:\ttrain accuracy_score: 0.9721,  \ttest accuracy_score: 0.9683\n",
      "With k = 22:\ttrain accuracy_score: 0.9721,  \ttest accuracy_score: 0.9683\n",
      "With k = 23:\ttrain accuracy_score: 0.9701,  \ttest accuracy_score: 0.9683\n",
      "With k = 24:\ttrain accuracy_score: 0.9741,  \ttest accuracy_score: 0.9683\n",
      "With k = 25:\ttrain accuracy_score: 0.9701,  \ttest accuracy_score: 0.9683\n",
      "With k = 26:\ttrain accuracy_score: 0.9721,  \ttest accuracy_score: 0.9683\n",
      "With k = 27:\ttrain accuracy_score: 0.9701,  \ttest accuracy_score: 0.9683\n",
      "With k = 28:\ttrain accuracy_score: 0.9701,  \ttest accuracy_score: 0.9683\n",
      "With k = 29:\ttrain accuracy_score: 0.9701,  \ttest accuracy_score: 0.9683\n",
      "With k = 30:\ttrain accuracy_score: 0.9701,  \ttest accuracy_score: 0.9683\n",
      "With k = 31:\ttrain accuracy_score: 0.9681,  \ttest accuracy_score: 0.9683\n",
      "With k = 32:\ttrain accuracy_score: 0.9701,  \ttest accuracy_score: 0.9683\n",
      "With k = 33:\ttrain accuracy_score: 0.9681,  \ttest accuracy_score: 0.9683\n",
      "With k = 34:\ttrain accuracy_score: 0.9701,  \ttest accuracy_score: 0.9683\n",
      "With k = 35:\ttrain accuracy_score: 0.9701,  \ttest accuracy_score: 0.9683\n",
      "With k = 36:\ttrain accuracy_score: 0.9701,  \ttest accuracy_score: 0.9683\n",
      "With k = 37:\ttrain accuracy_score: 0.9681,  \ttest accuracy_score: 0.9683\n",
      "With k = 38:\ttrain accuracy_score: 0.9681,  \ttest accuracy_score: 0.9683\n",
      "With k = 39:\ttrain accuracy_score: 0.9681,  \ttest accuracy_score: 0.9683\n",
      "With k = 40:\ttrain accuracy_score: 0.9681,  \ttest accuracy_score: 0.9683\n",
      "With k = 41:\ttrain accuracy_score: 0.9681,  \ttest accuracy_score: 0.9683\n",
      "With k = 42:\ttrain accuracy_score: 0.9681,  \ttest accuracy_score: 0.9683\n",
      "With k = 43:\ttrain accuracy_score: 0.9681,  \ttest accuracy_score: 0.9683\n",
      "With k = 44:\ttrain accuracy_score: 0.9681,  \ttest accuracy_score: 0.9683\n",
      "With k = 45:\ttrain accuracy_score: 0.9681,  \ttest accuracy_score: 0.9683\n",
      "With k = 46:\ttrain accuracy_score: 0.9681,  \ttest accuracy_score: 0.9683\n",
      "With k = 47:\ttrain accuracy_score: 0.9661,  \ttest accuracy_score: 0.9683\n",
      "With k = 48:\ttrain accuracy_score: 0.9661,  \ttest accuracy_score: 0.9683\n",
      "With k = 49:\ttrain accuracy_score: 0.9661,  \ttest accuracy_score: 0.9683\n",
      "With k = 50:\ttrain accuracy_score: 0.9661,  \ttest accuracy_score: 0.9683\n",
      "With k = 51:\ttrain accuracy_score: 0.9661,  \ttest accuracy_score: 0.9683\n",
      "With k = 52:\ttrain accuracy_score: 0.9661,  \ttest accuracy_score: 0.9683\n",
      "With k = 53:\ttrain accuracy_score: 0.9661,  \ttest accuracy_score: 0.9683\n",
      "With k = 54:\ttrain accuracy_score: 0.9661,  \ttest accuracy_score: 0.9683\n",
      "With k = 55:\ttrain accuracy_score: 0.9661,  \ttest accuracy_score: 0.9683\n",
      "With k = 56:\ttrain accuracy_score: 0.9661,  \ttest accuracy_score: 0.9683\n",
      "With k = 57:\ttrain accuracy_score: 0.9641,  \ttest accuracy_score: 0.9683\n",
      "With k = 58:\ttrain accuracy_score: 0.9641,  \ttest accuracy_score: 0.9683\n",
      "With k = 59:\ttrain accuracy_score: 0.9641,  \ttest accuracy_score: 0.9683\n",
      "With k = 60:\ttrain accuracy_score: 0.9641,  \ttest accuracy_score: 0.9683\n",
      "With k = 61:\ttrain accuracy_score: 0.9641,  \ttest accuracy_score: 0.9683\n",
      "With k = 62:\ttrain accuracy_score: 0.9641,  \ttest accuracy_score: 0.9683\n",
      "With k = 63:\ttrain accuracy_score: 0.9622,  \ttest accuracy_score: 0.9683\n",
      "With k = 64:\ttrain accuracy_score: 0.9622,  \ttest accuracy_score: 0.9683\n",
      "With k = 65:\ttrain accuracy_score: 0.9622,  \ttest accuracy_score: 0.9683\n",
      "With k = 66:\ttrain accuracy_score: 0.9622,  \ttest accuracy_score: 0.9683\n",
      "With k = 67:\ttrain accuracy_score: 0.9622,  \ttest accuracy_score: 0.9683\n",
      "With k = 68:\ttrain accuracy_score: 0.9622,  \ttest accuracy_score: 0.9683\n",
      "With k = 69:\ttrain accuracy_score: 0.9622,  \ttest accuracy_score: 0.9683\n",
      "With k = 70:\ttrain accuracy_score: 0.9622,  \ttest accuracy_score: 0.9683\n",
      "With k = 71:\ttrain accuracy_score: 0.9622,  \ttest accuracy_score: 0.9683\n",
      "With k = 72:\ttrain accuracy_score: 0.9622,  \ttest accuracy_score: 0.9683\n",
      "With k = 73:\ttrain accuracy_score: 0.9622,  \ttest accuracy_score: 0.9683\n",
      "With k = 74:\ttrain accuracy_score: 0.9622,  \ttest accuracy_score: 0.9683\n",
      "With k = 75:\ttrain accuracy_score: 0.9622,  \ttest accuracy_score: 0.9683\n",
      "With k = 76:\ttrain accuracy_score: 0.9622,  \ttest accuracy_score: 0.9683\n",
      "With k = 77:\ttrain accuracy_score: 0.9602,  \ttest accuracy_score: 0.9683\n",
      "With k = 78:\ttrain accuracy_score: 0.9602,  \ttest accuracy_score: 0.9683\n",
      "With k = 79:\ttrain accuracy_score: 0.9602,  \ttest accuracy_score: 0.9683\n",
      "With k = 80:\ttrain accuracy_score: 0.9602,  \ttest accuracy_score: 0.9683\n",
      "With k = 81:\ttrain accuracy_score: 0.9602,  \ttest accuracy_score: 0.9683\n",
      "With k = 82:\ttrain accuracy_score: 0.9622,  \ttest accuracy_score: 0.9683\n",
      "With k = 83:\ttrain accuracy_score: 0.9582,  \ttest accuracy_score: 0.9683\n",
      "With k = 84:\ttrain accuracy_score: 0.9602,  \ttest accuracy_score: 0.9683\n",
      "With k = 85:\ttrain accuracy_score: 0.9562,  \ttest accuracy_score: 0.9683\n",
      "With k = 86:\ttrain accuracy_score: 0.9562,  \ttest accuracy_score: 0.9683\n",
      "With k = 87:\ttrain accuracy_score: 0.9522,  \ttest accuracy_score: 0.9683\n",
      "With k = 88:\ttrain accuracy_score: 0.9542,  \ttest accuracy_score: 0.9683\n",
      "With k = 89:\ttrain accuracy_score: 0.9502,  \ttest accuracy_score: 0.9683\n",
      "With k = 90:\ttrain accuracy_score: 0.9542,  \ttest accuracy_score: 0.9683\n",
      "With k = 91:\ttrain accuracy_score: 0.9502,  \ttest accuracy_score: 0.9683\n",
      "With k = 92:\ttrain accuracy_score: 0.9502,  \ttest accuracy_score: 0.9683\n",
      "With k = 93:\ttrain accuracy_score: 0.9462,  \ttest accuracy_score: 0.9683\n",
      "With k = 94:\ttrain accuracy_score: 0.9482,  \ttest accuracy_score: 0.9683\n",
      "With k = 95:\ttrain accuracy_score: 0.9462,  \ttest accuracy_score: 0.9683\n",
      "With k = 96:\ttrain accuracy_score: 0.9462,  \ttest accuracy_score: 0.9683\n",
      "With k = 97:\ttrain accuracy_score: 0.9422,  \ttest accuracy_score: 0.9683\n",
      "With k = 98:\ttrain accuracy_score: 0.9442,  \ttest accuracy_score: 0.9683\n",
      "With k = 99:\ttrain accuracy_score: 0.9382,  \ttest accuracy_score: 0.9683\n",
      "With k = 100:\ttrain accuracy_score: 0.9422,  \ttest accuracy_score: 0.9683\n",
      "With k = 101:\ttrain accuracy_score: 0.9382,  \ttest accuracy_score: 0.9683\n",
      "With k = 102:\ttrain accuracy_score: 0.9402,  \ttest accuracy_score: 0.9683\n",
      "With k = 103:\ttrain accuracy_score: 0.9382,  \ttest accuracy_score: 0.9683\n",
      "With k = 104:\ttrain accuracy_score: 0.9382,  \ttest accuracy_score: 0.9683\n",
      "With k = 105:\ttrain accuracy_score: 0.9363,  \ttest accuracy_score: 0.9683\n",
      "With k = 106:\ttrain accuracy_score: 0.9382,  \ttest accuracy_score: 0.9683\n",
      "With k = 107:\ttrain accuracy_score: 0.9363,  \ttest accuracy_score: 0.9683\n",
      "With k = 108:\ttrain accuracy_score: 0.9363,  \ttest accuracy_score: 0.9683\n",
      "With k = 109:\ttrain accuracy_score: 0.9303,  \ttest accuracy_score: 0.9683\n",
      "With k = 110:\ttrain accuracy_score: 0.9323,  \ttest accuracy_score: 0.9683\n",
      "With k = 111:\ttrain accuracy_score: 0.9283,  \ttest accuracy_score: 0.9683\n",
      "With k = 112:\ttrain accuracy_score: 0.9323,  \ttest accuracy_score: 0.9683\n",
      "With k = 113:\ttrain accuracy_score: 0.9263,  \ttest accuracy_score: 0.9683\n",
      "With k = 114:\ttrain accuracy_score: 0.9283,  \ttest accuracy_score: 0.9683\n",
      "With k = 115:\ttrain accuracy_score: 0.9283,  \ttest accuracy_score: 0.9683\n",
      "With k = 116:\ttrain accuracy_score: 0.9303,  \ttest accuracy_score: 0.9683\n",
      "With k = 117:\ttrain accuracy_score: 0.9283,  \ttest accuracy_score: 0.9683\n",
      "With k = 118:\ttrain accuracy_score: 0.9303,  \ttest accuracy_score: 0.9683\n",
      "With k = 119:\ttrain accuracy_score: 0.9283,  \ttest accuracy_score: 0.9683\n",
      "With k = 120:\ttrain accuracy_score: 0.9283,  \ttest accuracy_score: 0.9683\n",
      "With k = 121:\ttrain accuracy_score: 0.9243,  \ttest accuracy_score: 0.9683\n",
      "With k = 122:\ttrain accuracy_score: 0.9263,  \ttest accuracy_score: 0.9683\n",
      "With k = 123:\ttrain accuracy_score: 0.9223,  \ttest accuracy_score: 0.9683\n",
      "With k = 124:\ttrain accuracy_score: 0.9243,  \ttest accuracy_score: 0.9683\n",
      "With k = 125:\ttrain accuracy_score: 0.9223,  \ttest accuracy_score: 0.9683\n",
      "With k = 126:\ttrain accuracy_score: 0.9223,  \ttest accuracy_score: 0.9683\n",
      "With k = 127:\ttrain accuracy_score: 0.9223,  \ttest accuracy_score: 0.9683\n",
      "With k = 128:\ttrain accuracy_score: 0.9223,  \ttest accuracy_score: 0.9683\n",
      "With k = 129:\ttrain accuracy_score: 0.9223,  \ttest accuracy_score: 0.9683\n",
      "With k = 130:\ttrain accuracy_score: 0.9223,  \ttest accuracy_score: 0.9683\n",
      "With k = 131:\ttrain accuracy_score: 0.9203,  \ttest accuracy_score: 0.9683\n",
      "With k = 132:\ttrain accuracy_score: 0.9223,  \ttest accuracy_score: 0.9683\n",
      "With k = 133:\ttrain accuracy_score: 0.9203,  \ttest accuracy_score: 0.9683\n",
      "With k = 134:\ttrain accuracy_score: 0.9223,  \ttest accuracy_score: 0.9683\n",
      "With k = 135:\ttrain accuracy_score: 0.9143,  \ttest accuracy_score: 0.9683\n",
      "With k = 136:\ttrain accuracy_score: 0.9163,  \ttest accuracy_score: 0.9683\n",
      "With k = 137:\ttrain accuracy_score: 0.9143,  \ttest accuracy_score: 0.9524\n",
      "With k = 138:\ttrain accuracy_score: 0.9143,  \ttest accuracy_score: 0.9524\n",
      "With k = 139:\ttrain accuracy_score: 0.9143,  \ttest accuracy_score: 0.9524\n",
      "With k = 140:\ttrain accuracy_score: 0.9143,  \ttest accuracy_score: 0.9524\n",
      "With k = 141:\ttrain accuracy_score: 0.9143,  \ttest accuracy_score: 0.9524\n",
      "With k = 142:\ttrain accuracy_score: 0.9143,  \ttest accuracy_score: 0.9524\n",
      "With k = 143:\ttrain accuracy_score: 0.9143,  \ttest accuracy_score: 0.9524\n",
      "With k = 144:\ttrain accuracy_score: 0.9143,  \ttest accuracy_score: 0.9524\n",
      "With k = 145:\ttrain accuracy_score: 0.9124,  \ttest accuracy_score: 0.9524\n",
      "With k = 146:\ttrain accuracy_score: 0.9124,  \ttest accuracy_score: 0.9524\n",
      "With k = 147:\ttrain accuracy_score: 0.9124,  \ttest accuracy_score: 0.9524\n",
      "With k = 148:\ttrain accuracy_score: 0.9124,  \ttest accuracy_score: 0.9524\n",
      "With k = 149:\ttrain accuracy_score: 0.9124,  \ttest accuracy_score: 0.9524\n",
      "With k = 150:\ttrain accuracy_score: 0.9124,  \ttest accuracy_score: 0.9524\n",
      "With k = 151:\ttrain accuracy_score: 0.9124,  \ttest accuracy_score: 0.9524\n",
      "With k = 152:\ttrain accuracy_score: 0.9124,  \ttest accuracy_score: 0.9524\n",
      "With k = 153:\ttrain accuracy_score: 0.9124,  \ttest accuracy_score: 0.9524\n",
      "With k = 154:\ttrain accuracy_score: 0.9124,  \ttest accuracy_score: 0.9524\n",
      "With k = 155:\ttrain accuracy_score: 0.9124,  \ttest accuracy_score: 0.9524\n",
      "With k = 156:\ttrain accuracy_score: 0.9124,  \ttest accuracy_score: 0.9524\n",
      "With k = 157:\ttrain accuracy_score: 0.9104,  \ttest accuracy_score: 0.9524\n",
      "With k = 158:\ttrain accuracy_score: 0.9104,  \ttest accuracy_score: 0.9524\n",
      "With k = 159:\ttrain accuracy_score: 0.9104,  \ttest accuracy_score: 0.9524\n",
      "With k = 160:\ttrain accuracy_score: 0.9104,  \ttest accuracy_score: 0.9524\n",
      "With k = 161:\ttrain accuracy_score: 0.9084,  \ttest accuracy_score: 0.9524\n",
      "With k = 162:\ttrain accuracy_score: 0.9104,  \ttest accuracy_score: 0.9524\n",
      "With k = 163:\ttrain accuracy_score: 0.9084,  \ttest accuracy_score: 0.9524\n",
      "With k = 164:\ttrain accuracy_score: 0.9084,  \ttest accuracy_score: 0.9524\n",
      "With k = 165:\ttrain accuracy_score: 0.9084,  \ttest accuracy_score: 0.9524\n",
      "With k = 166:\ttrain accuracy_score: 0.9084,  \ttest accuracy_score: 0.9524\n",
      "With k = 167:\ttrain accuracy_score: 0.9084,  \ttest accuracy_score: 0.9524\n",
      "With k = 168:\ttrain accuracy_score: 0.9084,  \ttest accuracy_score: 0.9524\n",
      "With k = 169:\ttrain accuracy_score: 0.9084,  \ttest accuracy_score: 0.9524\n",
      "With k = 170:\ttrain accuracy_score: 0.9084,  \ttest accuracy_score: 0.9524\n",
      "With k = 171:\ttrain accuracy_score: 0.9084,  \ttest accuracy_score: 0.9365\n",
      "With k = 172:\ttrain accuracy_score: 0.9084,  \ttest accuracy_score: 0.9365\n",
      "With k = 173:\ttrain accuracy_score: 0.9064,  \ttest accuracy_score: 0.9365\n",
      "With k = 174:\ttrain accuracy_score: 0.9064,  \ttest accuracy_score: 0.9524\n",
      "With k = 175:\ttrain accuracy_score: 0.9024,  \ttest accuracy_score: 0.9365\n",
      "With k = 176:\ttrain accuracy_score: 0.9024,  \ttest accuracy_score: 0.9365\n",
      "With k = 177:\ttrain accuracy_score: 0.9024,  \ttest accuracy_score: 0.9365\n",
      "With k = 178:\ttrain accuracy_score: 0.9024,  \ttest accuracy_score: 0.9365\n",
      "With k = 179:\ttrain accuracy_score: 0.8964,  \ttest accuracy_score: 0.9365\n",
      "With k = 180:\ttrain accuracy_score: 0.9004,  \ttest accuracy_score: 0.9365\n",
      "With k = 181:\ttrain accuracy_score: 0.8964,  \ttest accuracy_score: 0.9365\n",
      "With k = 182:\ttrain accuracy_score: 0.8984,  \ttest accuracy_score: 0.9365\n",
      "With k = 183:\ttrain accuracy_score: 0.8944,  \ttest accuracy_score: 0.9365\n",
      "With k = 184:\ttrain accuracy_score: 0.8984,  \ttest accuracy_score: 0.9365\n",
      "With k = 185:\ttrain accuracy_score: 0.8924,  \ttest accuracy_score: 0.9365\n",
      "With k = 186:\ttrain accuracy_score: 0.8944,  \ttest accuracy_score: 0.9365\n",
      "With k = 187:\ttrain accuracy_score: 0.8924,  \ttest accuracy_score: 0.9365\n",
      "With k = 188:\ttrain accuracy_score: 0.8944,  \ttest accuracy_score: 0.9365\n",
      "With k = 189:\ttrain accuracy_score: 0.8884,  \ttest accuracy_score: 0.9365\n",
      "With k = 190:\ttrain accuracy_score: 0.8884,  \ttest accuracy_score: 0.9365\n",
      "With k = 191:\ttrain accuracy_score: 0.8845,  \ttest accuracy_score: 0.9365\n",
      "With k = 192:\ttrain accuracy_score: 0.8904,  \ttest accuracy_score: 0.9365\n",
      "With k = 193:\ttrain accuracy_score: 0.8785,  \ttest accuracy_score: 0.9365\n",
      "With k = 194:\ttrain accuracy_score: 0.8825,  \ttest accuracy_score: 0.9365\n",
      "With k = 195:\ttrain accuracy_score: 0.8785,  \ttest accuracy_score: 0.9365\n",
      "With k = 196:\ttrain accuracy_score: 0.8805,  \ttest accuracy_score: 0.9365\n",
      "With k = 197:\ttrain accuracy_score: 0.8765,  \ttest accuracy_score: 0.9365\n",
      "With k = 198:\ttrain accuracy_score: 0.8765,  \ttest accuracy_score: 0.9365\n",
      "With k = 199:\ttrain accuracy_score: 0.8745,  \ttest accuracy_score: 0.9365\n"
     ]
    }
   ],
   "source": [
    "for i, k in enumerate(params):\n",
    "    print(f'With k = {k}:\\ttrain accuracy_score: {round(train_metrics[i], 4)},  \\ttest accuracy_score: {round(test_metrics[i], 4)}')"
   ]
  },
  {
   "cell_type": "code",
   "execution_count": 30,
   "id": "7053ce06-854c-412b-8559-833595b1d6c0",
   "metadata": {},
   "outputs": [
    {
     "data": {
      "image/png": "[encoded data removed]",
      "text/plain": [
       "<Figure size 864x648 with 1 Axes>"
      ]
     },
     "metadata": {},
     "output_type": "display_data"
    }
   ],
   "source": [
    "plt.plot(params, train_metrics, label=\"train\")\n",
    "plt.plot(params, test_metrics, label=\"test\")\n",
    "plt.legend()\n",
    "plt.xlabel(\"K in KNN\")\n",
    "plt.ylabel(\"Accuracy Score\");"
   ]
  },
  {
   "cell_type": "markdown",
   "id": "1456efb3",
   "metadata": {},
   "source": [
    ">> Имеет смысл использовать 9-13 ближайших соседей. Будем использовать 10."
   ]
  },
  {
   "cell_type": "markdown",
   "id": "73fdecd7-a4b6-4ca9-8688-d1ae2195647f",
   "metadata": {},
   "source": [
    "На самом деле, это не самый лучший способ подбирать гиперпараметры, но способы получше мы рассмотрим в следующий раз, а пока что выберите оптимальное значение k, сделайте предсказания и посмотрите, насколько хорошо ваша модель предсказывает каждый из классов."
   ]
  },
  {
   "cell_type": "code",
   "execution_count": 31,
   "id": "a9b0ee72",
   "metadata": {},
   "outputs": [
    {
     "name": "stdout",
     "output_type": "stream",
     "text": [
      "precision_score k=1: 1.0\n",
      "precision_score k=10: 1.0\n",
      "\n",
      "recall_score k=1: 0.96875\n",
      "recall_score k=10: 0.96875\n",
      "\n",
      "f1_score k=1: 0.98413\n",
      "f1_score k=10: 0.98413\n",
      "\n",
      "accuracy_score k=1: 0.98413\n",
      "accuracy_score k=10: 0.98413\n"
     ]
    }
   ],
   "source": [
    "knn_ten_classifier = KNNClassifier(k=10)\n",
    "knn_ten_classifier.fit(binary_train_X, binary_train_y)\n",
    "\n",
    "prediction_ten_k = knn_ten_classifier.predict(binary_test_X)\n",
    "\n",
    "print(f'precision_score k=1: {round(precision_score(binary_test_y, prediction), 5)}')\n",
    "print(f'precision_score k=10: {round(precision_score(binary_test_y, prediction_ten_k), 5)}\\n')\n",
    "\n",
    "print(f'recall_score k=1: {round(recall_score(binary_test_y, prediction), 5)}')\n",
    "print(f'recall_score k=10: {round(recall_score(binary_test_y, prediction_ten_k), 5)}\\n')\n",
    "\n",
    "print(f'f1_score k=1: {round(f1_score(binary_test_y, prediction), 5)}')\n",
    "print(f'f1_score k=10: {round(f1_score(binary_test_y, prediction_ten_k), 5)}\\n')\n",
    "\n",
    "print(f'accuracy_score k=1: {round(accuracy_score(binary_test_y, prediction), 5)}')\n",
    "print(f'accuracy_score k=10: {round(accuracy_score(binary_test_y, prediction_ten_k), 5)}')"
   ]
  },
  {
   "cell_type": "markdown",
   "id": "0bc98c29-3217-407c-a466-58072bb7b8cc",
   "metadata": {},
   "source": [
    "### 1.5. Многоклассоввая классификация (2 балла)"
   ]
  },
  {
   "cell_type": "markdown",
   "id": "aa0fa9bf-3002-4b0e-8e52-1d9e70795092",
   "metadata": {},
   "source": [
    "Теперь нужно научиться предсказывать все 10 классов. Для этого в начале напишем соответствующий метод у нашего классификатора."
   ]
  },
  {
   "cell_type": "code",
   "execution_count": 49,
   "id": "88b37ef1-fa15-4cc5-8558-0254890c899d",
   "metadata": {},
   "outputs": [],
   "source": [
    "# TODO: predict_labels_multiclass in knn.py\n",
    "knn_classifier = KNNClassifier(k=1)\n",
    "knn_classifier.fit(X_train, y_train)\n",
    "predictions = knn_classifier.predict(X_test)"
   ]
  },
  {
   "cell_type": "markdown",
   "id": "fa8ed7ad-e347-4f78-b34f-88febee9e94b",
   "metadata": {},
   "source": [
    "Осталось реализовать метрику качества для многоклассовой классификации, для этого реализуйте функцию `multiclass_accuracy` в `metrics.py`."
   ]
  },
  {
   "cell_type": "code",
   "execution_count": 50,
   "id": "65887922-a799-4042-902e-f63f69508beb",
   "metadata": {},
   "outputs": [],
   "source": [
    "# TODO: multiclass_accuracy in metrics.py\n",
    "my_accuracy_score = multiclass_accuracy(predictions, y_test)"
   ]
  },
  {
   "cell_type": "code",
   "execution_count": 51,
   "id": "fb2dc2cb",
   "metadata": {},
   "outputs": [
    {
     "name": "stdout",
     "output_type": "stream",
     "text": [
      "accuracy_score: 0.8\n",
      "accuracy_score: 0.8\n"
     ]
    }
   ],
   "source": [
    "print(f'accuracy_score: {round(my_accuracy_score, 5)}')\n",
    "print(f'accuracy_score: {round(accuracy_score(y_test, predictions), 5)}')"
   ]
  },
  {
   "cell_type": "markdown",
   "id": "a6fe44f6-e056-4f17-beb6-0ce65fab268f",
   "metadata": {},
   "source": [
    "Снова выберите оптимальное значение K как мы делали для бинарной классификации."
   ]
  },
  {
   "cell_type": "code",
   "execution_count": 64,
   "id": "9eaaa4fd",
   "metadata": {},
   "outputs": [],
   "source": [
    "# multi_params = [1, 2, 4, 5, 8, 10, 30, 100]\n",
    "multi_params = list(range(1, 100))\n",
    "\n",
    "multi_train_metrics, multi_test_metrics = find_best_k(X_train, y_train,\n",
    "                                                      X_test, y_test, \n",
    "                                                      multi_params, multiclass_accuracy)"
   ]
  },
  {
   "cell_type": "code",
   "execution_count": 65,
   "id": "399ab46d",
   "metadata": {},
   "outputs": [
    {
     "name": "stdout",
     "output_type": "stream",
     "text": [
      "With k = 1:\ttrain accuracy_score: 1.0, \ttest accuracy_score: 0.8\n",
      "With k = 2:\ttrain accuracy_score: 1.0, \ttest accuracy_score: 0.8\n",
      "With k = 3:\ttrain accuracy_score: 0.90111, \ttest accuracy_score: 0.81\n",
      "With k = 4:\ttrain accuracy_score: 0.89111, \ttest accuracy_score: 0.83\n",
      "With k = 5:\ttrain accuracy_score: 0.85222, \ttest accuracy_score: 0.82\n",
      "With k = 6:\ttrain accuracy_score: 0.86556, \ttest accuracy_score: 0.81\n",
      "With k = 7:\ttrain accuracy_score: 0.84667, \ttest accuracy_score: 0.8\n",
      "With k = 8:\ttrain accuracy_score: 0.84556, \ttest accuracy_score: 0.8\n",
      "With k = 9:\ttrain accuracy_score: 0.83111, \ttest accuracy_score: 0.8\n",
      "With k = 10:\ttrain accuracy_score: 0.82667, \ttest accuracy_score: 0.81\n",
      "With k = 11:\ttrain accuracy_score: 0.82667, \ttest accuracy_score: 0.81\n",
      "With k = 12:\ttrain accuracy_score: 0.82778, \ttest accuracy_score: 0.81\n",
      "With k = 13:\ttrain accuracy_score: 0.81444, \ttest accuracy_score: 0.8\n",
      "With k = 14:\ttrain accuracy_score: 0.81444, \ttest accuracy_score: 0.79\n",
      "With k = 15:\ttrain accuracy_score: 0.80556, \ttest accuracy_score: 0.8\n",
      "With k = 16:\ttrain accuracy_score: 0.80667, \ttest accuracy_score: 0.79\n",
      "With k = 17:\ttrain accuracy_score: 0.80111, \ttest accuracy_score: 0.78\n",
      "With k = 18:\ttrain accuracy_score: 0.79667, \ttest accuracy_score: 0.78\n",
      "With k = 19:\ttrain accuracy_score: 0.79444, \ttest accuracy_score: 0.77\n",
      "With k = 20:\ttrain accuracy_score: 0.79556, \ttest accuracy_score: 0.77\n",
      "With k = 21:\ttrain accuracy_score: 0.79111, \ttest accuracy_score: 0.76\n",
      "With k = 22:\ttrain accuracy_score: 0.79667, \ttest accuracy_score: 0.77\n",
      "With k = 23:\ttrain accuracy_score: 0.79111, \ttest accuracy_score: 0.74\n",
      "With k = 24:\ttrain accuracy_score: 0.79111, \ttest accuracy_score: 0.75\n",
      "With k = 25:\ttrain accuracy_score: 0.78667, \ttest accuracy_score: 0.75\n",
      "With k = 26:\ttrain accuracy_score: 0.78667, \ttest accuracy_score: 0.74\n",
      "With k = 27:\ttrain accuracy_score: 0.78222, \ttest accuracy_score: 0.74\n",
      "With k = 28:\ttrain accuracy_score: 0.77889, \ttest accuracy_score: 0.75\n",
      "With k = 29:\ttrain accuracy_score: 0.77333, \ttest accuracy_score: 0.73\n",
      "With k = 30:\ttrain accuracy_score: 0.77333, \ttest accuracy_score: 0.73\n",
      "With k = 31:\ttrain accuracy_score: 0.76889, \ttest accuracy_score: 0.74\n",
      "With k = 32:\ttrain accuracy_score: 0.76222, \ttest accuracy_score: 0.75\n",
      "With k = 33:\ttrain accuracy_score: 0.76111, \ttest accuracy_score: 0.73\n",
      "With k = 34:\ttrain accuracy_score: 0.76222, \ttest accuracy_score: 0.73\n",
      "With k = 35:\ttrain accuracy_score: 0.76, \ttest accuracy_score: 0.73\n",
      "With k = 36:\ttrain accuracy_score: 0.76333, \ttest accuracy_score: 0.73\n",
      "With k = 37:\ttrain accuracy_score: 0.76111, \ttest accuracy_score: 0.72\n",
      "With k = 38:\ttrain accuracy_score: 0.76, \ttest accuracy_score: 0.73\n",
      "With k = 39:\ttrain accuracy_score: 0.75889, \ttest accuracy_score: 0.73\n",
      "With k = 40:\ttrain accuracy_score: 0.76333, \ttest accuracy_score: 0.73\n",
      "With k = 41:\ttrain accuracy_score: 0.74889, \ttest accuracy_score: 0.74\n",
      "With k = 42:\ttrain accuracy_score: 0.74889, \ttest accuracy_score: 0.74\n",
      "With k = 43:\ttrain accuracy_score: 0.74667, \ttest accuracy_score: 0.74\n",
      "With k = 44:\ttrain accuracy_score: 0.75, \ttest accuracy_score: 0.74\n",
      "With k = 45:\ttrain accuracy_score: 0.74444, \ttest accuracy_score: 0.73\n",
      "With k = 46:\ttrain accuracy_score: 0.74111, \ttest accuracy_score: 0.74\n",
      "With k = 47:\ttrain accuracy_score: 0.73556, \ttest accuracy_score: 0.72\n",
      "With k = 48:\ttrain accuracy_score: 0.73333, \ttest accuracy_score: 0.73\n",
      "With k = 49:\ttrain accuracy_score: 0.73333, \ttest accuracy_score: 0.72\n",
      "With k = 50:\ttrain accuracy_score: 0.73556, \ttest accuracy_score: 0.73\n",
      "With k = 51:\ttrain accuracy_score: 0.73222, \ttest accuracy_score: 0.73\n",
      "With k = 52:\ttrain accuracy_score: 0.73333, \ttest accuracy_score: 0.73\n",
      "With k = 53:\ttrain accuracy_score: 0.72889, \ttest accuracy_score: 0.73\n",
      "With k = 54:\ttrain accuracy_score: 0.72667, \ttest accuracy_score: 0.73\n",
      "With k = 55:\ttrain accuracy_score: 0.72889, \ttest accuracy_score: 0.73\n",
      "With k = 56:\ttrain accuracy_score: 0.72667, \ttest accuracy_score: 0.73\n",
      "With k = 57:\ttrain accuracy_score: 0.73, \ttest accuracy_score: 0.73\n",
      "With k = 58:\ttrain accuracy_score: 0.73, \ttest accuracy_score: 0.73\n",
      "With k = 59:\ttrain accuracy_score: 0.72778, \ttest accuracy_score: 0.73\n",
      "With k = 60:\ttrain accuracy_score: 0.72556, \ttest accuracy_score: 0.72\n",
      "With k = 61:\ttrain accuracy_score: 0.73222, \ttest accuracy_score: 0.71\n",
      "With k = 62:\ttrain accuracy_score: 0.73111, \ttest accuracy_score: 0.72\n",
      "With k = 63:\ttrain accuracy_score: 0.73222, \ttest accuracy_score: 0.71\n",
      "With k = 64:\ttrain accuracy_score: 0.73111, \ttest accuracy_score: 0.71\n",
      "With k = 65:\ttrain accuracy_score: 0.72778, \ttest accuracy_score: 0.71\n",
      "With k = 66:\ttrain accuracy_score: 0.72222, \ttest accuracy_score: 0.72\n",
      "With k = 67:\ttrain accuracy_score: 0.72778, \ttest accuracy_score: 0.71\n",
      "With k = 68:\ttrain accuracy_score: 0.72778, \ttest accuracy_score: 0.71\n",
      "With k = 69:\ttrain accuracy_score: 0.73, \ttest accuracy_score: 0.71\n",
      "With k = 70:\ttrain accuracy_score: 0.72444, \ttest accuracy_score: 0.71\n",
      "With k = 71:\ttrain accuracy_score: 0.71778, \ttest accuracy_score: 0.71\n",
      "With k = 72:\ttrain accuracy_score: 0.71778, \ttest accuracy_score: 0.71\n",
      "With k = 73:\ttrain accuracy_score: 0.71778, \ttest accuracy_score: 0.72\n",
      "With k = 74:\ttrain accuracy_score: 0.71667, \ttest accuracy_score: 0.71\n",
      "With k = 75:\ttrain accuracy_score: 0.71778, \ttest accuracy_score: 0.71\n",
      "With k = 76:\ttrain accuracy_score: 0.71889, \ttest accuracy_score: 0.71\n",
      "With k = 77:\ttrain accuracy_score: 0.71889, \ttest accuracy_score: 0.71\n",
      "With k = 78:\ttrain accuracy_score: 0.72, \ttest accuracy_score: 0.71\n",
      "With k = 79:\ttrain accuracy_score: 0.71222, \ttest accuracy_score: 0.73\n",
      "With k = 80:\ttrain accuracy_score: 0.71222, \ttest accuracy_score: 0.73\n",
      "With k = 81:\ttrain accuracy_score: 0.70889, \ttest accuracy_score: 0.73\n",
      "With k = 82:\ttrain accuracy_score: 0.70667, \ttest accuracy_score: 0.73\n",
      "With k = 83:\ttrain accuracy_score: 0.70667, \ttest accuracy_score: 0.73\n",
      "With k = 84:\ttrain accuracy_score: 0.71111, \ttest accuracy_score: 0.73\n",
      "With k = 85:\ttrain accuracy_score: 0.71, \ttest accuracy_score: 0.74\n",
      "With k = 86:\ttrain accuracy_score: 0.70333, \ttest accuracy_score: 0.73\n",
      "With k = 87:\ttrain accuracy_score: 0.7, \ttest accuracy_score: 0.72\n",
      "With k = 88:\ttrain accuracy_score: 0.70111, \ttest accuracy_score: 0.71\n",
      "With k = 89:\ttrain accuracy_score: 0.7, \ttest accuracy_score: 0.72\n",
      "With k = 90:\ttrain accuracy_score: 0.70111, \ttest accuracy_score: 0.72\n",
      "With k = 91:\ttrain accuracy_score: 0.70222, \ttest accuracy_score: 0.71\n",
      "With k = 92:\ttrain accuracy_score: 0.70111, \ttest accuracy_score: 0.72\n",
      "With k = 93:\ttrain accuracy_score: 0.69889, \ttest accuracy_score: 0.71\n",
      "With k = 94:\ttrain accuracy_score: 0.69667, \ttest accuracy_score: 0.71\n",
      "With k = 95:\ttrain accuracy_score: 0.69444, \ttest accuracy_score: 0.71\n",
      "With k = 96:\ttrain accuracy_score: 0.69222, \ttest accuracy_score: 0.7\n",
      "With k = 97:\ttrain accuracy_score: 0.69, \ttest accuracy_score: 0.69\n",
      "With k = 98:\ttrain accuracy_score: 0.69333, \ttest accuracy_score: 0.7\n",
      "With k = 99:\ttrain accuracy_score: 0.69111, \ttest accuracy_score: 0.69\n"
     ]
    }
   ],
   "source": [
    "for i, k in enumerate(multi_params):\n",
    "    print(f'With k = {k}:\\ttrain accuracy_score: {round(multi_train_metrics[i], 5)}, \\ttest accuracy_score: {round(multi_test_metrics[i], 5)}')"
   ]
  },
  {
   "cell_type": "code",
   "execution_count": 66,
   "id": "c6b4f3da",
   "metadata": {},
   "outputs": [
    {
     "data": {
      "image/png": "[encoded data removed]",
      "text/plain": [
       "<Figure size 864x648 with 1 Axes>"
      ]
     },
     "metadata": {},
     "output_type": "display_data"
    }
   ],
   "source": [
    "plt.plot(multi_params, multi_train_metrics, label=\"train\")\n",
    "plt.plot(multi_params, multi_test_metrics, label=\"test\")\n",
    "plt.legend()\n",
    "plt.xlabel(\"K in multiclass KNN\")\n",
    "plt.ylabel(\"Accuracy Score\");"
   ]
  },
  {
   "cell_type": "markdown",
   "id": "d17a31d2",
   "metadata": {},
   "source": [
    "> Имеет смысл использовать около 10 ближайших соседей."
   ]
  },
  {
   "cell_type": "code",
   "execution_count": 68,
   "id": "4232e2f3",
   "metadata": {},
   "outputs": [
    {
     "name": "stdout",
     "output_type": "stream",
     "text": [
      "accuracy_score k=1: 0.8\n",
      "accuracy_score k=10: 0.81\n"
     ]
    }
   ],
   "source": [
    "knn_ten_classifier = KNNClassifier(k=10)\n",
    "knn_ten_classifier.fit(X_train, y_train)\n",
    "\n",
    "predictions_ten_k = knn_ten_classifier.predict(X_test)\n",
    "\n",
    "print(f'accuracy_score k=1: {round(multiclass_accuracy(y_test, predictions), 5)}')\n",
    "print(f'accuracy_score k=10: {round(multiclass_accuracy(y_test, predictions_ten_k), 5)}')"
   ]
  },
  {
   "cell_type": "markdown",
   "id": "daa8ee4a-88c1-4967-84f1-6f7ec223db7e",
   "metadata": {},
   "source": [
    "## Задание 2. KNN на датасете diabetes (10 баллов)"
   ]
  },
  {
   "cell_type": "markdown",
   "id": "d3dac1f9-42ef-406f-988c-2d663b8b2806",
   "metadata": {},
   "source": [
    "Теперь попробуем применить KNN к задаче регрессии. Будем работать с [данными](https://scikit-learn.org/stable/datasets/toy_dataset.html#diabetes-dataset) о диабете. В этом задании будем использовать класс `KNeighborsRegressor` из библиотеки `sklearn`. Загрузим необходимые библиотеки:"
   ]
  },
  {
   "cell_type": "code",
   "execution_count": 117,
   "id": "8ab4c84e-6036-4fe2-b81f-8115bf0a4774",
   "metadata": {},
   "outputs": [],
   "source": [
    "from sklearn.datasets import load_diabetes\n",
    "from sklearn.metrics import r2_score, mean_absolute_error, mean_squared_error\n",
    "from sklearn.preprocessing import StandardScaler\n",
    "from sklearn.neighbors import KNeighborsRegressor"
   ]
  },
  {
   "cell_type": "code",
   "execution_count": 70,
   "id": "4136b3bb-e482-4102-ad5f-af5b3b1a030a",
   "metadata": {},
   "outputs": [],
   "source": [
    "X, y = load_diabetes(as_frame=True, return_X_y=True)"
   ]
  },
  {
   "cell_type": "code",
   "execution_count": 71,
   "id": "c884e687-964a-4b00-9f10-232c45705f12",
   "metadata": {},
   "outputs": [
    {
     "data": {
      "text/html": [
       "<div><div id=1a954739-b5ed-4d8a-98c2-6d14f931480b style=\"display:none; background-color:#9D6CFF; color:white; width:200px; height:30px; padding-left:5px; border-radius:4px; flex-direction:row; justify-content:space-around; align-items:center;\" onmouseover=\"this.style.backgroundColor='#BA9BF8'\" onmouseout=\"this.style.backgroundColor='#9D6CFF'\" onclick=\"window.commands?.execute('create-mitosheet-from-dataframe-output');\">See Full Dataframe in Mito</div> <script> if (window.commands.hasCommand('create-mitosheet-from-dataframe-output')) document.getElementById('1a954739-b5ed-4d8a-98c2-6d14f931480b').style.display = 'flex' </script> <table border=\"1\" class=\"dataframe\">\n",
       "  <thead>\n",
       "    <tr style=\"text-align: right;\">\n",
       "      <th></th>\n",
       "      <th>age</th>\n",
       "      <th>sex</th>\n",
       "      <th>bmi</th>\n",
       "      <th>bp</th>\n",
       "      <th>s1</th>\n",
       "      <th>s2</th>\n",
       "      <th>s3</th>\n",
       "      <th>s4</th>\n",
       "      <th>s5</th>\n",
       "      <th>s6</th>\n",
       "    </tr>\n",
       "  </thead>\n",
       "  <tbody>\n",
       "    <tr>\n",
       "      <th>0</th>\n",
       "      <td>0.038076</td>\n",
       "      <td>0.050680</td>\n",
       "      <td>0.061696</td>\n",
       "      <td>0.021872</td>\n",
       "      <td>-0.044223</td>\n",
       "      <td>-0.034821</td>\n",
       "      <td>-0.043401</td>\n",
       "      <td>-0.002592</td>\n",
       "      <td>0.019908</td>\n",
       "      <td>-0.017646</td>\n",
       "    </tr>\n",
       "    <tr>\n",
       "      <th>1</th>\n",
       "      <td>-0.001882</td>\n",
       "      <td>-0.044642</td>\n",
       "      <td>-0.051474</td>\n",
       "      <td>-0.026328</td>\n",
       "      <td>-0.008449</td>\n",
       "      <td>-0.019163</td>\n",
       "      <td>0.074412</td>\n",
       "      <td>-0.039493</td>\n",
       "      <td>-0.068330</td>\n",
       "      <td>-0.092204</td>\n",
       "    </tr>\n",
       "    <tr>\n",
       "      <th>2</th>\n",
       "      <td>0.085299</td>\n",
       "      <td>0.050680</td>\n",
       "      <td>0.044451</td>\n",
       "      <td>-0.005671</td>\n",
       "      <td>-0.045599</td>\n",
       "      <td>-0.034194</td>\n",
       "      <td>-0.032356</td>\n",
       "      <td>-0.002592</td>\n",
       "      <td>0.002864</td>\n",
       "      <td>-0.025930</td>\n",
       "    </tr>\n",
       "    <tr>\n",
       "      <th>3</th>\n",
       "      <td>-0.089063</td>\n",
       "      <td>-0.044642</td>\n",
       "      <td>-0.011595</td>\n",
       "      <td>-0.036656</td>\n",
       "      <td>0.012191</td>\n",
       "      <td>0.024991</td>\n",
       "      <td>-0.036038</td>\n",
       "      <td>0.034309</td>\n",
       "      <td>0.022692</td>\n",
       "      <td>-0.009362</td>\n",
       "    </tr>\n",
       "    <tr>\n",
       "      <th>4</th>\n",
       "      <td>0.005383</td>\n",
       "      <td>-0.044642</td>\n",
       "      <td>-0.036385</td>\n",
       "      <td>0.021872</td>\n",
       "      <td>0.003935</td>\n",
       "      <td>0.015596</td>\n",
       "      <td>0.008142</td>\n",
       "      <td>-0.002592</td>\n",
       "      <td>-0.031991</td>\n",
       "      <td>-0.046641</td>\n",
       "    </tr>\n",
       "  </tbody>\n",
       "</table></div>"
      ],
      "text/plain": [
       "        age       sex       bmi        bp        s1        s2        s3  \\\n",
       "0  0.038076  0.050680  0.061696  0.021872 -0.044223 -0.034821 -0.043401   \n",
       "1 -0.001882 -0.044642 -0.051474 -0.026328 -0.008449 -0.019163  0.074412   \n",
       "2  0.085299  0.050680  0.044451 -0.005671 -0.045599 -0.034194 -0.032356   \n",
       "3 -0.089063 -0.044642 -0.011595 -0.036656  0.012191  0.024991 -0.036038   \n",
       "4  0.005383 -0.044642 -0.036385  0.021872  0.003935  0.015596  0.008142   \n",
       "\n",
       "         s4        s5        s6  \n",
       "0 -0.002592  0.019908 -0.017646  \n",
       "1 -0.039493 -0.068330 -0.092204  \n",
       "2 -0.002592  0.002864 -0.025930  \n",
       "3  0.034309  0.022692 -0.009362  \n",
       "4 -0.002592 -0.031991 -0.046641  "
      ]
     },
     "execution_count": 71,
     "metadata": {},
     "output_type": "execute_result"
    }
   ],
   "source": [
    "X.head()"
   ]
  },
  {
   "cell_type": "markdown",
   "id": "9ce6cd71-dd17-40af-b7cc-c48e61d31719",
   "metadata": {},
   "source": [
    "### 2.1. EDA (2 обязательных балла + 2 доп. балла за Pipeline)"
   ]
  },
  {
   "cell_type": "markdown",
   "id": "4397b3ad-63f9-4b25-ab7e-d572216e21c5",
   "metadata": {},
   "source": [
    "Сделайте EDA, предобработайте данные так, как считаете нужным, нужна ли в данном случае стандартизация и почему? Не забудте, что если вы стандартизуете данные, то нужно считать среднее и сдандартное отклонение на тренировочной части и с помощью них трансформировать и train, и test (**если не поняли это предложение, то обязательно разберитесь**).\n"
   ]
  },
  {
   "cell_type": "code",
   "execution_count": 82,
   "id": "5bbca94b",
   "metadata": {},
   "outputs": [
    {
     "name": "stdout",
     "output_type": "stream",
     "text": [
      "(442, 10) (442,)\n"
     ]
    }
   ],
   "source": [
    "print(X.shape, y.shape)"
   ]
  },
  {
   "cell_type": "markdown",
   "id": "cb7d4e5f",
   "metadata": {},
   "source": [
    ">  442 наблюдения, 10 столбцов в X и 1 y"
   ]
  },
  {
   "cell_type": "code",
   "execution_count": 80,
   "id": "39df1987",
   "metadata": {},
   "outputs": [
    {
     "data": {
      "text/plain": [
       "<AxesSubplot:>"
      ]
     },
     "execution_count": 80,
     "metadata": {},
     "output_type": "execute_result"
    },
    {
     "data": {
      "image/png": "[encoded data removed]",
      "text/plain": [
       "<Figure size 864x648 with 1 Axes>"
      ]
     },
     "metadata": {},
     "output_type": "display_data"
    }
   ],
   "source": [
    "X.boxplot()"
   ]
  },
  {
   "cell_type": "markdown",
   "id": "7d59968e",
   "metadata": {},
   "source": [
    "> Данные в X были стандартизованы самим sklearn, это можно увидеть на боксплоте (изначально возраст был в годах, ИМТ в своих единицах итд.)"
   ]
  },
  {
   "cell_type": "code",
   "execution_count": 135,
   "id": "600f561c",
   "metadata": {},
   "outputs": [
    {
     "name": "stdout",
     "output_type": "stream",
     "text": [
      "<class 'pandas.core.frame.DataFrame'>\n",
      "RangeIndex: 442 entries, 0 to 441\n",
      "Data columns (total 10 columns):\n",
      " #   Column  Non-Null Count  Dtype  \n",
      "---  ------  --------------  -----  \n",
      " 0   age     442 non-null    float64\n",
      " 1   sex     442 non-null    float64\n",
      " 2   bmi     442 non-null    float64\n",
      " 3   bp      442 non-null    float64\n",
      " 4   s1      442 non-null    float64\n",
      " 5   s2      442 non-null    float64\n",
      " 6   s3      442 non-null    float64\n",
      " 7   s4      442 non-null    float64\n",
      " 8   s5      442 non-null    float64\n",
      " 9   s6      442 non-null    float64\n",
      "dtypes: float64(10)\n",
      "memory usage: 34.7 KB\n"
     ]
    }
   ],
   "source": [
    "X.info()"
   ]
  },
  {
   "cell_type": "markdown",
   "id": "575eb1ba",
   "metadata": {},
   "source": [
    "> Нулевых значений и не числовых значений в X нет."
   ]
  },
  {
   "cell_type": "code",
   "execution_count": 90,
   "id": "fdafa116",
   "metadata": {},
   "outputs": [
    {
     "data": {
      "text/html": [
       "<div><div id=ad5877d0-696a-4b56-9c68-9cf8b88c2033 style=\"display:none; background-color:#9D6CFF; color:white; width:200px; height:30px; padding-left:5px; border-radius:4px; flex-direction:row; justify-content:space-around; align-items:center;\" onmouseover=\"this.style.backgroundColor='#BA9BF8'\" onmouseout=\"this.style.backgroundColor='#9D6CFF'\" onclick=\"window.commands?.execute('create-mitosheet-from-dataframe-output');\">See Full Dataframe in Mito</div> <script> if (window.commands.hasCommand('create-mitosheet-from-dataframe-output')) document.getElementById('ad5877d0-696a-4b56-9c68-9cf8b88c2033').style.display = 'flex' </script> <table border=\"1\" class=\"dataframe\">\n",
       "  <thead>\n",
       "    <tr style=\"text-align: right;\">\n",
       "      <th></th>\n",
       "      <th>age</th>\n",
       "      <th>sex</th>\n",
       "      <th>bmi</th>\n",
       "      <th>bp</th>\n",
       "      <th>s1</th>\n",
       "      <th>s2</th>\n",
       "      <th>s3</th>\n",
       "      <th>s4</th>\n",
       "      <th>s5</th>\n",
       "      <th>s6</th>\n",
       "    </tr>\n",
       "  </thead>\n",
       "  <tbody>\n",
       "    <tr>\n",
       "      <th>count</th>\n",
       "      <td>4.420000e+02</td>\n",
       "      <td>4.420000e+02</td>\n",
       "      <td>4.420000e+02</td>\n",
       "      <td>4.420000e+02</td>\n",
       "      <td>4.420000e+02</td>\n",
       "      <td>4.420000e+02</td>\n",
       "      <td>4.420000e+02</td>\n",
       "      <td>4.420000e+02</td>\n",
       "      <td>4.420000e+02</td>\n",
       "      <td>4.420000e+02</td>\n",
       "    </tr>\n",
       "    <tr>\n",
       "      <th>mean</th>\n",
       "      <td>-3.639623e-16</td>\n",
       "      <td>1.309912e-16</td>\n",
       "      <td>-8.013951e-16</td>\n",
       "      <td>1.289818e-16</td>\n",
       "      <td>-9.042540e-17</td>\n",
       "      <td>1.301121e-16</td>\n",
       "      <td>-4.563971e-16</td>\n",
       "      <td>3.863174e-16</td>\n",
       "      <td>-3.848103e-16</td>\n",
       "      <td>-3.398488e-16</td>\n",
       "    </tr>\n",
       "    <tr>\n",
       "      <th>std</th>\n",
       "      <td>4.761905e-02</td>\n",
       "      <td>4.761905e-02</td>\n",
       "      <td>4.761905e-02</td>\n",
       "      <td>4.761905e-02</td>\n",
       "      <td>4.761905e-02</td>\n",
       "      <td>4.761905e-02</td>\n",
       "      <td>4.761905e-02</td>\n",
       "      <td>4.761905e-02</td>\n",
       "      <td>4.761905e-02</td>\n",
       "      <td>4.761905e-02</td>\n",
       "    </tr>\n",
       "    <tr>\n",
       "      <th>min</th>\n",
       "      <td>-1.072256e-01</td>\n",
       "      <td>-4.464164e-02</td>\n",
       "      <td>-9.027530e-02</td>\n",
       "      <td>-1.123996e-01</td>\n",
       "      <td>-1.267807e-01</td>\n",
       "      <td>-1.156131e-01</td>\n",
       "      <td>-1.023071e-01</td>\n",
       "      <td>-7.639450e-02</td>\n",
       "      <td>-1.260974e-01</td>\n",
       "      <td>-1.377672e-01</td>\n",
       "    </tr>\n",
       "    <tr>\n",
       "      <th>25%</th>\n",
       "      <td>-3.729927e-02</td>\n",
       "      <td>-4.464164e-02</td>\n",
       "      <td>-3.422907e-02</td>\n",
       "      <td>-3.665645e-02</td>\n",
       "      <td>-3.424784e-02</td>\n",
       "      <td>-3.035840e-02</td>\n",
       "      <td>-3.511716e-02</td>\n",
       "      <td>-3.949338e-02</td>\n",
       "      <td>-3.324879e-02</td>\n",
       "      <td>-3.317903e-02</td>\n",
       "    </tr>\n",
       "    <tr>\n",
       "      <th>50%</th>\n",
       "      <td>5.383060e-03</td>\n",
       "      <td>-4.464164e-02</td>\n",
       "      <td>-7.283766e-03</td>\n",
       "      <td>-5.670611e-03</td>\n",
       "      <td>-4.320866e-03</td>\n",
       "      <td>-3.819065e-03</td>\n",
       "      <td>-6.584468e-03</td>\n",
       "      <td>-2.592262e-03</td>\n",
       "      <td>-1.947634e-03</td>\n",
       "      <td>-1.077698e-03</td>\n",
       "    </tr>\n",
       "    <tr>\n",
       "      <th>75%</th>\n",
       "      <td>3.807591e-02</td>\n",
       "      <td>5.068012e-02</td>\n",
       "      <td>3.124802e-02</td>\n",
       "      <td>3.564384e-02</td>\n",
       "      <td>2.835801e-02</td>\n",
       "      <td>2.984439e-02</td>\n",
       "      <td>2.931150e-02</td>\n",
       "      <td>3.430886e-02</td>\n",
       "      <td>3.243323e-02</td>\n",
       "      <td>2.791705e-02</td>\n",
       "    </tr>\n",
       "    <tr>\n",
       "      <th>max</th>\n",
       "      <td>1.107267e-01</td>\n",
       "      <td>5.068012e-02</td>\n",
       "      <td>1.705552e-01</td>\n",
       "      <td>1.320442e-01</td>\n",
       "      <td>1.539137e-01</td>\n",
       "      <td>1.987880e-01</td>\n",
       "      <td>1.811791e-01</td>\n",
       "      <td>1.852344e-01</td>\n",
       "      <td>1.335990e-01</td>\n",
       "      <td>1.356118e-01</td>\n",
       "    </tr>\n",
       "  </tbody>\n",
       "</table></div>"
      ],
      "text/plain": [
       "                age           sex           bmi            bp            s1  \\\n",
       "count  4.420000e+02  4.420000e+02  4.420000e+02  4.420000e+02  4.420000e+02   \n",
       "mean  -3.639623e-16  1.309912e-16 -8.013951e-16  1.289818e-16 -9.042540e-17   \n",
       "std    4.761905e-02  4.761905e-02  4.761905e-02  4.761905e-02  4.761905e-02   \n",
       "min   -1.072256e-01 -4.464164e-02 -9.027530e-02 -1.123996e-01 -1.267807e-01   \n",
       "25%   -3.729927e-02 -4.464164e-02 -3.422907e-02 -3.665645e-02 -3.424784e-02   \n",
       "50%    5.383060e-03 -4.464164e-02 -7.283766e-03 -5.670611e-03 -4.320866e-03   \n",
       "75%    3.807591e-02  5.068012e-02  3.124802e-02  3.564384e-02  2.835801e-02   \n",
       "max    1.107267e-01  5.068012e-02  1.705552e-01  1.320442e-01  1.539137e-01   \n",
       "\n",
       "                 s2            s3            s4            s5            s6  \n",
       "count  4.420000e+02  4.420000e+02  4.420000e+02  4.420000e+02  4.420000e+02  \n",
       "mean   1.301121e-16 -4.563971e-16  3.863174e-16 -3.848103e-16 -3.398488e-16  \n",
       "std    4.761905e-02  4.761905e-02  4.761905e-02  4.761905e-02  4.761905e-02  \n",
       "min   -1.156131e-01 -1.023071e-01 -7.639450e-02 -1.260974e-01 -1.377672e-01  \n",
       "25%   -3.035840e-02 -3.511716e-02 -3.949338e-02 -3.324879e-02 -3.317903e-02  \n",
       "50%   -3.819065e-03 -6.584468e-03 -2.592262e-03 -1.947634e-03 -1.077698e-03  \n",
       "75%    2.984439e-02  2.931150e-02  3.430886e-02  3.243323e-02  2.791705e-02  \n",
       "max    1.987880e-01  1.811791e-01  1.852344e-01  1.335990e-01  1.356118e-01  "
      ]
     },
     "execution_count": 90,
     "metadata": {},
     "output_type": "execute_result"
    }
   ],
   "source": [
    "X.describe()"
   ]
  },
  {
   "cell_type": "markdown",
   "id": "28614ba6",
   "metadata": {},
   "source": [
    "> Для `y` то же, он не был стандартизован, пропущенных и нечисловых значений также нет:"
   ]
  },
  {
   "cell_type": "code",
   "execution_count": 89,
   "id": "6d9e9a0b",
   "metadata": {
    "scrolled": true
   },
   "outputs": [
    {
     "data": {
      "text/plain": [
       "count    442.000000\n",
       "mean     152.133484\n",
       "std       77.093005\n",
       "min       25.000000\n",
       "25%       87.000000\n",
       "50%      140.500000\n",
       "75%      211.500000\n",
       "max      346.000000\n",
       "Name: target, dtype: float64"
      ]
     },
     "execution_count": 89,
     "metadata": {},
     "output_type": "execute_result"
    }
   ],
   "source": [
    "y.describe()"
   ]
  },
  {
   "cell_type": "code",
   "execution_count": 138,
   "id": "c4a75b25",
   "metadata": {},
   "outputs": [
    {
     "data": {
      "text/plain": [
       "0"
      ]
     },
     "execution_count": 138,
     "metadata": {},
     "output_type": "execute_result"
    }
   ],
   "source": [
    "y.isnull().sum()"
   ]
  },
  {
   "cell_type": "markdown",
   "id": "0b95fddc",
   "metadata": {},
   "source": [
    "> Корреляционная матрица:"
   ]
  },
  {
   "cell_type": "code",
   "execution_count": 108,
   "id": "294967b4",
   "metadata": {},
   "outputs": [
    {
     "data": {
      "text/plain": [
       "<AxesSubplot:>"
      ]
     },
     "execution_count": 108,
     "metadata": {},
     "output_type": "execute_result"
    },
    {
     "data": {
      "image/png": "[encoded data removed]",
      "text/plain": [
       "<Figure size 792x648 with 2 Axes>"
      ]
     },
     "metadata": {},
     "output_type": "display_data"
    }
   ],
   "source": [
    "corr = pd.merge(X, y, left_index=True, right_index=True).corr()\n",
    "\n",
    "f, ax = plt.subplots(figsize=(11, 9))\n",
    "sns.heatmap(corr, vmax=1.0, center=0,\n",
    "            square=True, linewidths=.5, cbar_kws={\"shrink\": .5}, annot = True)"
   ]
  },
  {
   "cell_type": "markdown",
   "id": "05af560c",
   "metadata": {},
   "source": [
    "#### Train test split"
   ]
  },
  {
   "cell_type": "code",
   "execution_count": 112,
   "id": "3193a19a",
   "metadata": {},
   "outputs": [
    {
     "name": "stdout",
     "output_type": "stream",
     "text": [
      "Size of X_train:  (397, 10)\n",
      "Size of y_train:  (397,)\n",
      "Size of X_test:  (45, 10)\n",
      "Size of y_test:  (45,)\n"
     ]
    }
   ],
   "source": [
    "train_X, test_X, train_y, test_y = train_test_split(X, y, test_size=0.1)\n",
    "\n",
    "print('Size of X_train: ', train_X.shape)\n",
    "print('Size of y_train: ', train_y.shape)\n",
    "\n",
    "print('Size of X_test: ', test_X.shape)\n",
    "print('Size of y_test: ', test_y.shape)"
   ]
  },
  {
   "cell_type": "markdown",
   "id": "61694cdf",
   "metadata": {},
   "source": [
    "\n",
    "**Дополнительно**:\n",
    "\n",
    "Попробуйте разобраться с [`Pipeline`](https://scikit-learn.org/stable/modules/generated/sklearn.pipeline.Pipeline.html), чтобы можно было создать класс, который сразу проводит стандартизацию и обучает модель (или делает предсказание). Пайплайны очень удобны, когда нужно применять различные методы предобработки данных (в том числе и к разным столбцам), а также они позволяют правильно интегрировать предобработку данных в различные классы для поиска наилучших гиперпараметров модели (например, `GridSearchCV`)."
   ]
  },
  {
   "cell_type": "code",
   "execution_count": null,
   "id": "a4aa413d-d830-4355-a063-9c5d6d5a6c9a",
   "metadata": {},
   "outputs": [],
   "source": [
    "from sklearn.pipeline import Pipeline"
   ]
  },
  {
   "cell_type": "markdown",
   "id": "8e1fa5ec-18db-4e7b-88f1-6d010f449488",
   "metadata": {},
   "source": [
    "### 2.2. Регрессионная модель (1 балл)"
   ]
  },
  {
   "cell_type": "markdown",
   "id": "3d79f583-5feb-4eeb-b748-9b4cdea9150d",
   "metadata": {},
   "source": [
    "Создайте модель `KNeighborsRegressor`, обучите ее на треноровочных данных и сделайте предсказания."
   ]
  },
  {
   "cell_type": "code",
   "execution_count": 129,
   "id": "07f9cdee",
   "metadata": {},
   "outputs": [
    {
     "data": {
      "text/plain": [
       "array([223.2, 270.2, 100. , 271.8,  86.2, 176.4, 210.6, 105.6,  90. ,\n",
       "        94. , 157.2,  82.4,  84.6, 115.8, 275. , 145.6, 146.4, 213.2,\n",
       "       213.4, 114.6, 110.6, 163.6, 203.8, 110.4, 161. , 124. , 160.2,\n",
       "       159.6,  87. , 102.6, 176.8,  96.6, 260. , 154.2, 132.6, 130.8,\n",
       "       151.6, 141.4, 102. , 143. , 208. , 186.6,  79. , 175.2, 257.2])"
      ]
     },
     "execution_count": 129,
     "metadata": {},
     "output_type": "execute_result"
    }
   ],
   "source": [
    "# n_neighbors=5\n",
    "\n",
    "knr_model = KNeighborsRegressor()\n",
    "knr_model.fit(X=train_X, y=train_y)\n",
    "\n",
    "knr_predictions = knr_model.predict(test_X)\n",
    "\n",
    "knr_predictions"
   ]
  },
  {
   "cell_type": "markdown",
   "id": "5ed4a2ea-4f42-43cb-95d7-50cdeab5f284",
   "metadata": {},
   "source": [
    "### 2.3. Метрики регресии (3 балла)"
   ]
  },
  {
   "cell_type": "markdown",
   "id": "cbf563ad-1b71-464c-8359-75fa4da268d3",
   "metadata": {},
   "source": [
    "Реализуйте метрики $R^2$, MSE и  MAE в `metrics.py`. Примените их для оценки качества полученной модели. Все ли хорошо?\n",
    "\n",
    "Напомню, что:\n",
    "\n",
    "$R^2 = 1 - \\frac{\\sum_i^n{(y_i - \\hat{y_i})^2}}{\\sum_i^n{(y_i - \\overline{y})^2}}$\n",
    "\n",
    "$MSE = \\frac{1}{n}\\sum_i^n{(y_i - \\hat{y_i})^2}$\n",
    "\n",
    "$MAE = \\frac{1}{n}\\sum_i^n{|y_i - \\hat{y_i}|}$"
   ]
  },
  {
   "cell_type": "code",
   "execution_count": null,
   "id": "580f604f-e9c5-4109-8b9f-235369836057",
   "metadata": {},
   "outputs": [],
   "source": [
    "# TODO: r_squared, mse, mae in metrics.py"
   ]
  },
  {
   "cell_type": "code",
   "execution_count": 141,
   "id": "b3b423a7",
   "metadata": {},
   "outputs": [
    {
     "data": {
      "text/plain": [
       "0.2963871541206766"
      ]
     },
     "execution_count": 141,
     "metadata": {},
     "output_type": "execute_result"
    }
   ],
   "source": [
    "r2_score(test_y, knr_predictions)"
   ]
  },
  {
   "cell_type": "markdown",
   "id": "a6568d8d-a9ec-4639-aac1-0ea18a644f9e",
   "metadata": {},
   "source": [
    "### 2.4. Подбор оптимального числа соседей (2 балла)"
   ]
  },
  {
   "cell_type": "markdown",
   "id": "d82f145d-41f5-4bbe-b553-1d05d90ec2a2",
   "metadata": {},
   "source": [
    "Мы почти дошли до конца. Теперь осталось при помощи реализованных нами метрик выбрать лучшее количество соседей для нашей модели.\n",
    "\n",
    "!!! Обратите внимание на то, что значат наши метрики, для некоторых хорошо, когда они уменьшаются, для других наоборот."
   ]
  },
  {
   "cell_type": "code",
   "execution_count": null,
   "id": "138a7969-8079-4a38-b92e-8eae5d246325",
   "metadata": {},
   "outputs": [],
   "source": [
    "from metrics import r_squared, mse, mae"
   ]
  },
  {
   "cell_type": "markdown",
   "id": "1b4bbef7-35a4-4f05-abf8-5d2b450c86f2",
   "metadata": {},
   "source": [
    "Для поиска лучшего k вы можете воспользоваться функцией `find_best_k`, которую вы реализовали выше."
   ]
  },
  {
   "cell_type": "markdown",
   "id": "2cb77960-fa30-4a29-9a1b-7c195cc867cb",
   "metadata": {},
   "source": [
    "### 3. Социализация (0.5 доп. балла)\n",
    "\n",
    "Так как у нас теперь большая группа, то было бы здорово всем познакомиться получше (так как выпускной не за горами). Соберитесь с одногруппниками в зуме (желательно, чтобы были люди и с Онлайна, и с Питера), познакомьтесь, а сюда прикрепите скриншот с камерами всех участников."
   ]
  },
  {
   "cell_type": "markdown",
   "id": "e116a42f-fae8-499c-a985-dc09e66a29b0",
   "metadata": {},
   "source": [
    "## Therapy time"
   ]
  },
  {
   "cell_type": "markdown",
   "id": "031c493b-26f3-4622-a1f4-affee64f81db",
   "metadata": {},
   "source": [
    "Напишите здесь ваши впечатления о задании: было ли интересно, было ли слишком легко или наоборот сложно и тд. Также сюда можно написать свои идеи по улучшению заданий, а также предложить данные, на основе которых вы бы хотели построить следующие дз. "
   ]
  },
  {
   "cell_type": "markdown",
   "id": "6d1c75b8",
   "metadata": {},
   "source": [
    "**Ваши мысли:**"
   ]
  }
 ],
 "metadata": {
  "kernelspec": {
   "display_name": "Python 3 (ipykernel)",
   "language": "python",
   "name": "python3"
  },
  "language_info": {
   "codemirror_mode": {
    "name": "ipython",
    "version": 3
   },
   "file_extension": ".py",
   "mimetype": "text/x-python",
   "name": "python",
   "nbconvert_exporter": "python",
   "pygments_lexer": "ipython3",
   "version": "3.8.10"
  }
 },
 "nbformat": 4,
 "nbformat_minor": 5
}
